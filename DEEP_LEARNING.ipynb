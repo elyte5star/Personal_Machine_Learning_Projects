{
  "nbformat": 4,
  "nbformat_minor": 0,
  "metadata": {
    "kernelspec": {
      "name": "python3",
      "display_name": "Python 3"
    },
    "language_info": {
      "codemirror_mode": {
        "name": "ipython",
        "version": 3
      },
      "file_extension": ".py",
      "mimetype": "text/x-python",
      "name": "python",
      "nbconvert_exporter": "python",
      "pygments_lexer": "ipython3",
      "version": "3.7.4"
    },
    "colab": {
      "name": "DEEP_LEARNING.ipynb",
      "provenance": [],
      "collapsed_sections": [],
      "include_colab_link": true
    }
  },
  "cells": [
    {
      "cell_type": "markdown",
      "metadata": {
        "id": "view-in-github",
        "colab_type": "text"
      },
      "source": [
        "<a href=\"https://colab.research.google.com/github/elyte5star/Uti-AI/blob/master/DEEP_LEARNING.ipynb\" target=\"_parent\"><img src=\"https://colab.research.google.com/assets/colab-badge.svg\" alt=\"Open In Colab\"/></a>"
      ]
    },
    {
      "cell_type": "markdown",
      "metadata": {
        "id": "_lvgaQv17hgP",
        "colab_type": "text"
      },
      "source": [
        "# Twitter Classification Problem | Predicting the sentiment of tweets"
      ]
    },
    {
      "cell_type": "markdown",
      "metadata": {
        "id": "deU6KZAz7hgS",
        "colab_type": "text"
      },
      "source": [
        "<h1>Introduction</h1>\n",
        "![title](https://www.pngkit.com/png/detail/25-251946_twitter-link-to-logo-twitter.png)"
      ]
    },
    {
      "cell_type": "code",
      "metadata": {
        "scrolled": true,
        "id": "XnMxvIYl7hgT",
        "colab_type": "code",
        "outputId": "d116d710-10bc-4df9-bf10-4febc57c9e58",
        "colab": {
          "base_uri": "https://localhost:8080/",
          "height": 151
        }
      },
      "source": [
        "# Code is compatible with Python 3.X\n",
        "import warnings\n",
        "from string import digits\n",
        "import string\n",
        "from tensorflow.keras.layers import Dense\n",
        "import os\n",
        "import re\n",
        "import pandas as pd\n",
        "import sys\n",
        "import tensorflow as tf\n",
        "from sklearn.preprocessing import MinMaxScaler\n",
        "from sklearn.pipeline import Pipeline\n",
        "from sklearn.pipeline import FeatureUnion\n",
        "from sklearn.preprocessing import OneHotEncoder\n",
        "import matplotlib.pyplot as plt\n",
        "from tensorflow import keras\n",
        "import matplotlib as mpl\n",
        "mpl.rcParams['figure.figsize'] = (10,10)\n",
        "mpl.rcParams['axes.grid'] = False\n",
        "import numpy as np\n",
        "np.random.seed(42)\n",
        "from wordcloud import WordCloud, STOPWORDS, ImageColorGenerator\n",
        "from sklearn.linear_model import Perceptron\n",
        "import time\n",
        "import functools\n",
        "import nltk\n",
        "from nltk.corpus import stopwords\n",
        "nltk.download('punkt')\n",
        "nltk.download('stopwords')\n",
        "from nltk.tokenize import word_tokenize\n",
        "warnings.filterwarnings(action=\"ignore\", message=\"^internal gelsd\")\n",
        "print(\"Running Panda Version:\"+pd.__version__)\n",
        "print(\"Running TensorFlow Version:\"+ tf.__version__)\n",
        "print(\"Running Keras API Version:\"+ keras.__version__)\n",
        "print(\"Running Python {0}.{1}\".format(sys.version_info[:2][0],sys.version_info[:2][1]))"
      ],
      "execution_count": 6,
      "outputs": [
        {
          "output_type": "stream",
          "text": [
            "[nltk_data] Downloading package punkt to /root/nltk_data...\n",
            "[nltk_data]   Package punkt is already up-to-date!\n",
            "[nltk_data] Downloading package stopwords to /root/nltk_data...\n",
            "[nltk_data]   Package stopwords is already up-to-date!\n",
            "Running Panda Version:0.25.3\n",
            "Running TensorFlow Version:1.15.0\n",
            "Running Keras API Version:2.2.4-tf\n",
            "Running Python 3.6\n"
          ],
          "name": "stdout"
        }
      ]
    },
    {
      "cell_type": "code",
      "metadata": {
        "id": "JgbKTuFo7nLL",
        "colab_type": "code",
        "outputId": "a11766e1-39b1-495c-8716-42bd67c5d340",
        "colab": {
          "resources": {
            "http://localhost:8080/nbextensions/google.colab/files.js": {
              "data": "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",
              "ok": true,
              "headers": [
                [
                  "content-type",
                  "application/javascript"
                ]
              ],
              "status": 200,
              "status_text": ""
            }
          },
          "base_uri": "https://localhost:8080/",
          "height": 91
        }
      },
      "source": [
        "from google.colab import files\n",
        "files.upload()"
      ],
      "execution_count": 7,
      "outputs": [
        {
          "output_type": "display_data",
          "data": {
            "text/html": [
              "\n",
              "     <input type=\"file\" id=\"files-3c66c421-7df7-411b-9576-ec47d08da451\" name=\"files[]\" multiple disabled />\n",
              "     <output id=\"result-3c66c421-7df7-411b-9576-ec47d08da451\">\n",
              "      Upload widget is only available when the cell has been executed in the\n",
              "      current browser session. Please rerun this cell to enable.\n",
              "      </output>\n",
              "      <script src=\"/nbextensions/google.colab/files.js\"></script> "
            ],
            "text/plain": [
              "<IPython.core.display.HTML object>"
            ]
          },
          "metadata": {
            "tags": []
          }
        },
        {
          "output_type": "stream",
          "text": [
            "Saving kaggle.json to kaggle.json\n"
          ],
          "name": "stdout"
        },
        {
          "output_type": "execute_result",
          "data": {
            "text/plain": [
              "{'kaggle.json': b'{\"username\":\"elyte5star\",\"key\":\"aac121888b41b7b4a4f6e07bb0615b4e\"}'}"
            ]
          },
          "metadata": {
            "tags": []
          },
          "execution_count": 7
        }
      ]
    },
    {
      "cell_type": "code",
      "metadata": {
        "id": "t68OeOFB7nPg",
        "colab_type": "code",
        "colab": {}
      },
      "source": [
        "!mkdir -p ~/.kaggle\n",
        "!cp kaggle.json ~/.kaggle/kaggle.json\n",
        "!chmod 600 /root/.kaggle/kaggle.json"
      ],
      "execution_count": 0,
      "outputs": []
    },
    {
      "cell_type": "code",
      "metadata": {
        "id": "vlMOXWnp7nUG",
        "colab_type": "code",
        "outputId": "161f4fc2-1ceb-42f4-e0df-f5d65e7a450c",
        "colab": {
          "base_uri": "https://localhost:8080/",
          "height": 134
        }
      },
      "source": [
        "!kaggle competitions download -c cs98x-Twitter-Sentiment --force"
      ],
      "execution_count": 9,
      "outputs": [
        {
          "output_type": "stream",
          "text": [
            "Warning: Looks like you're using an outdated API Version, please consider updating (server 1.5.6 / client 1.5.4)\n",
            "Downloading training.csv.zip to /content\n",
            " 72% 41.0M/57.3M [00:01<00:01, 15.6MB/s]\n",
            "100% 57.3M/57.3M [00:01<00:00, 35.0MB/s]\n",
            "Downloading test.csv.zip to /content\n",
            " 75% 17.0M/22.8M [00:00<00:00, 18.1MB/s]\n",
            "100% 22.8M/22.8M [00:00<00:00, 24.7MB/s]\n"
          ],
          "name": "stdout"
        }
      ]
    },
    {
      "cell_type": "code",
      "metadata": {
        "id": "RpTCkZSE9-qY",
        "colab_type": "code",
        "outputId": "d2379f39-d1f9-4af9-90f4-e0d2af2520b2",
        "colab": {
          "base_uri": "https://localhost:8080/",
          "height": 84
        }
      },
      "source": [
        "!unzip \"/content/training.csv.zip\"\n",
        "!unzip \"/content/test.csv.zip\""
      ],
      "execution_count": 10,
      "outputs": [
        {
          "output_type": "stream",
          "text": [
            "Archive:  /content/training.csv.zip\n",
            "  inflating: training.csv            \n",
            "Archive:  /content/test.csv.zip\n",
            "  inflating: test.csv                \n"
          ],
          "name": "stdout"
        }
      ]
    },
    {
      "cell_type": "code",
      "metadata": {
        "id": "T-xawQJd7hgX",
        "colab_type": "code",
        "colab": {}
      },
      "source": [
        "#Load datasets\n",
        "Train = pd.read_csv('/content/training.csv',na_values=['NA'],low_memory=False)# making data frame from csv file(Train dataset) \n",
        "Test = pd.read_csv('/content/test.csv',low_memory=False)# making data frame from csv file(Test dataset) "
      ],
      "execution_count": 0,
      "outputs": []
    },
    {
      "cell_type": "code",
      "metadata": {
        "id": "rv5nXZV_jTya",
        "colab_type": "code",
        "colab": {}
      },
      "source": [
        "print(f'Train dataset has {Train.shape[0]} rows/observation and {Train.shape[1]} columns/features.')"
      ],
      "execution_count": 0,
      "outputs": []
    },
    {
      "cell_type": "code",
      "metadata": {
        "id": "UvRBP2Ku7hgb",
        "colab_type": "code",
        "colab": {}
      },
      "source": [
        "\n",
        "Train = Train.set_index('id')#set the Id column as the index"
      ],
      "execution_count": 0,
      "outputs": []
    },
    {
      "cell_type": "code",
      "metadata": {
        "id": "A_uhdyWM7hge",
        "colab_type": "code",
        "outputId": "6c87a0a6-733b-4a14-f1c8-bc47ef8fe60e",
        "colab": {
          "base_uri": "https://localhost:8080/",
          "height": 50
        }
      },
      "source": [
        "print(f'Test dataset has {Test.shape[0]} rows/observation and {Test.shape[1]} columns7features.')"
      ],
      "execution_count": 13,
      "outputs": [
        {
          "output_type": "stream",
          "text": [
            "Train dataset has 1000000 rows/observation and 4 columns/features.\n",
            "Test dataset has 399890 rows/observation and 4 columns7features.\n"
          ],
          "name": "stdout"
        }
      ]
    },
    {
      "cell_type": "code",
      "metadata": {
        "id": "_iAmaSxR7hgh",
        "colab_type": "code",
        "outputId": "5d6fb048-1275-422e-87b0-fff81f93702d",
        "colab": {
          "base_uri": "https://localhost:8080/",
          "height": 225
        }
      },
      "source": [
        "Train.head()#shows the first five observations of the train dataset."
      ],
      "execution_count": 14,
      "outputs": [
        {
          "output_type": "execute_result",
          "data": {
            "text/html": [
              "<div>\n",
              "<style scoped>\n",
              "    .dataframe tbody tr th:only-of-type {\n",
              "        vertical-align: middle;\n",
              "    }\n",
              "\n",
              "    .dataframe tbody tr th {\n",
              "        vertical-align: top;\n",
              "    }\n",
              "\n",
              "    .dataframe thead th {\n",
              "        text-align: right;\n",
              "    }\n",
              "</style>\n",
              "<table border=\"1\" class=\"dataframe\">\n",
              "  <thead>\n",
              "    <tr style=\"text-align: right;\">\n",
              "      <th></th>\n",
              "      <th>target</th>\n",
              "      <th>date</th>\n",
              "      <th>user</th>\n",
              "      <th>text</th>\n",
              "    </tr>\n",
              "    <tr>\n",
              "      <th>id</th>\n",
              "      <th></th>\n",
              "      <th></th>\n",
              "      <th></th>\n",
              "      <th></th>\n",
              "    </tr>\n",
              "  </thead>\n",
              "  <tbody>\n",
              "    <tr>\n",
              "      <th>2224496154</th>\n",
              "      <td>0</td>\n",
              "      <td>Thu Jun 18 09:34:25 PDT 2009</td>\n",
              "      <td>Deborah_Fay</td>\n",
              "      <td>Okay  for some reason I still can't get the ba...</td>\n",
              "    </tr>\n",
              "    <tr>\n",
              "      <th>1687934301</th>\n",
              "      <td>4</td>\n",
              "      <td>Sun May 03 09:56:56 PDT 2009</td>\n",
              "      <td>haills</td>\n",
              "      <td>http://twitpic.com/4hjnj - Don't worry be happ...</td>\n",
              "    </tr>\n",
              "    <tr>\n",
              "      <th>1972073814</th>\n",
              "      <td>0</td>\n",
              "      <td>Sat May 30 08:30:21 PDT 2009</td>\n",
              "      <td>lechellealice</td>\n",
              "      <td>this movie is so sad</td>\n",
              "    </tr>\n",
              "    <tr>\n",
              "      <th>1557632618</th>\n",
              "      <td>4</td>\n",
              "      <td>Sun Apr 19 05:13:47 PDT 2009</td>\n",
              "      <td>janeslee</td>\n",
              "      <td>Good afternoon world. Been too busy to tweet. ...</td>\n",
              "    </tr>\n",
              "    <tr>\n",
              "      <th>1969750122</th>\n",
              "      <td>4</td>\n",
              "      <td>Sat May 30 01:05:20 PDT 2009</td>\n",
              "      <td>bvdaily</td>\n",
              "      <td>@QueensleyFelix LOL!We are just too classy  I ...</td>\n",
              "    </tr>\n",
              "  </tbody>\n",
              "</table>\n",
              "</div>"
            ],
            "text/plain": [
              "            target  ...                                               text\n",
              "id                  ...                                                   \n",
              "2224496154       0  ...  Okay  for some reason I still can't get the ba...\n",
              "1687934301       4  ...  http://twitpic.com/4hjnj - Don't worry be happ...\n",
              "1972073814       0  ...                              this movie is so sad \n",
              "1557632618       4  ...  Good afternoon world. Been too busy to tweet. ...\n",
              "1969750122       4  ...  @QueensleyFelix LOL!We are just too classy  I ...\n",
              "\n",
              "[5 rows x 4 columns]"
            ]
          },
          "metadata": {
            "tags": []
          },
          "execution_count": 14
        }
      ]
    },
    {
      "cell_type": "code",
      "metadata": {
        "id": "V3-N-L_O7hgk",
        "colab_type": "code",
        "outputId": "044c21f4-3c13-4b03-e99b-bffd2df9d890",
        "colab": {
          "base_uri": "https://localhost:8080/",
          "height": 195
        }
      },
      "source": [
        "Test.head()#shows the first five observations of the Test dataset."
      ],
      "execution_count": 15,
      "outputs": [
        {
          "output_type": "execute_result",
          "data": {
            "text/html": [
              "<div>\n",
              "<style scoped>\n",
              "    .dataframe tbody tr th:only-of-type {\n",
              "        vertical-align: middle;\n",
              "    }\n",
              "\n",
              "    .dataframe tbody tr th {\n",
              "        vertical-align: top;\n",
              "    }\n",
              "\n",
              "    .dataframe thead th {\n",
              "        text-align: right;\n",
              "    }\n",
              "</style>\n",
              "<table border=\"1\" class=\"dataframe\">\n",
              "  <thead>\n",
              "    <tr style=\"text-align: right;\">\n",
              "      <th></th>\n",
              "      <th>id</th>\n",
              "      <th>date</th>\n",
              "      <th>user</th>\n",
              "      <th>text</th>\n",
              "    </tr>\n",
              "  </thead>\n",
              "  <tbody>\n",
              "    <tr>\n",
              "      <th>0</th>\n",
              "      <td>1974447176</td>\n",
              "      <td>Sat May 30 13:09:18 PDT 2009</td>\n",
              "      <td>ugro</td>\n",
              "      <td>That's pretty much how I think it works with i...</td>\n",
              "    </tr>\n",
              "    <tr>\n",
              "      <th>1</th>\n",
              "      <td>1752584531</td>\n",
              "      <td>Sat May 09 22:20:24 PDT 2009</td>\n",
              "      <td>infinities</td>\n",
              "      <td>Holy awesome Leonard Nimoy!  Also thought I sp...</td>\n",
              "    </tr>\n",
              "    <tr>\n",
              "      <th>2</th>\n",
              "      <td>2265878673</td>\n",
              "      <td>Sun Jun 21 07:29:15 PDT 2009</td>\n",
              "      <td>revybbcholic</td>\n",
              "      <td>@theodorainish yes they are  I've tried to not...</td>\n",
              "    </tr>\n",
              "    <tr>\n",
              "      <th>3</th>\n",
              "      <td>1995188099</td>\n",
              "      <td>Mon Jun 01 13:05:22 PDT 2009</td>\n",
              "      <td>teddyrised</td>\n",
              "      <td>Millvina Dean  the last known survivor of the ...</td>\n",
              "    </tr>\n",
              "    <tr>\n",
              "      <th>4</th>\n",
              "      <td>2071942859</td>\n",
              "      <td>Sun Jun 07 20:08:43 PDT 2009</td>\n",
              "      <td>kaylabeth_</td>\n",
              "      <td>I REALLY DO NOT LIKE THIS ROGER. Adam Pascal p...</td>\n",
              "    </tr>\n",
              "  </tbody>\n",
              "</table>\n",
              "</div>"
            ],
            "text/plain": [
              "           id  ...                                               text\n",
              "0  1974447176  ...  That's pretty much how I think it works with i...\n",
              "1  1752584531  ...  Holy awesome Leonard Nimoy!  Also thought I sp...\n",
              "2  2265878673  ...  @theodorainish yes they are  I've tried to not...\n",
              "3  1995188099  ...  Millvina Dean  the last known survivor of the ...\n",
              "4  2071942859  ...  I REALLY DO NOT LIKE THIS ROGER. Adam Pascal p...\n",
              "\n",
              "[5 rows x 4 columns]"
            ]
          },
          "metadata": {
            "tags": []
          },
          "execution_count": 15
        }
      ]
    },
    {
      "cell_type": "code",
      "metadata": {
        "id": "wzj7xcKB7hgo",
        "colab_type": "code",
        "outputId": "edc3b7d9-5a67-4fa3-fa05-60f7fdb16318",
        "colab": {
          "base_uri": "https://localhost:8080/",
          "height": 34
        }
      },
      "source": [
        "print(Train.columns.values)#names of columns in the train dataset"
      ],
      "execution_count": 16,
      "outputs": [
        {
          "output_type": "stream",
          "text": [
            "['target' 'date' 'user' 'text']\n"
          ],
          "name": "stdout"
        }
      ]
    },
    {
      "cell_type": "code",
      "metadata": {
        "id": "DOvbRY5c7hgr",
        "colab_type": "code",
        "outputId": "fc54f06b-9704-4216-96ea-c7bfecebd621",
        "colab": {
          "base_uri": "https://localhost:8080/",
          "height": 34
        }
      },
      "source": [
        "print(Test.columns.values)#Same as the train dataset except the target column missing"
      ],
      "execution_count": 17,
      "outputs": [
        {
          "output_type": "stream",
          "text": [
            "['id' 'date' 'user' 'text']\n"
          ],
          "name": "stdout"
        }
      ]
    },
    {
      "cell_type": "code",
      "metadata": {
        "id": "umvnCD4T7hgu",
        "colab_type": "code",
        "colab": {}
      },
      "source": [
        "Test.columns = ['id','date', 'user', 'text'] #Rename the columns\n",
        "Test = Test.set_index('id')#set the Id column as the index"
      ],
      "execution_count": 0,
      "outputs": []
    },
    {
      "cell_type": "code",
      "metadata": {
        "id": "7DAfLtgd7hgx",
        "colab_type": "code",
        "outputId": "24536730-d859-4f55-91e4-9462f5cd848c",
        "colab": {
          "base_uri": "https://localhost:8080/",
          "height": 225
        }
      },
      "source": [
        "Test.head()#shows the first five observations of the Test dataset."
      ],
      "execution_count": 19,
      "outputs": [
        {
          "output_type": "execute_result",
          "data": {
            "text/html": [
              "<div>\n",
              "<style scoped>\n",
              "    .dataframe tbody tr th:only-of-type {\n",
              "        vertical-align: middle;\n",
              "    }\n",
              "\n",
              "    .dataframe tbody tr th {\n",
              "        vertical-align: top;\n",
              "    }\n",
              "\n",
              "    .dataframe thead th {\n",
              "        text-align: right;\n",
              "    }\n",
              "</style>\n",
              "<table border=\"1\" class=\"dataframe\">\n",
              "  <thead>\n",
              "    <tr style=\"text-align: right;\">\n",
              "      <th></th>\n",
              "      <th>date</th>\n",
              "      <th>user</th>\n",
              "      <th>text</th>\n",
              "    </tr>\n",
              "    <tr>\n",
              "      <th>id</th>\n",
              "      <th></th>\n",
              "      <th></th>\n",
              "      <th></th>\n",
              "    </tr>\n",
              "  </thead>\n",
              "  <tbody>\n",
              "    <tr>\n",
              "      <th>1974447176</th>\n",
              "      <td>Sat May 30 13:09:18 PDT 2009</td>\n",
              "      <td>ugro</td>\n",
              "      <td>That's pretty much how I think it works with i...</td>\n",
              "    </tr>\n",
              "    <tr>\n",
              "      <th>1752584531</th>\n",
              "      <td>Sat May 09 22:20:24 PDT 2009</td>\n",
              "      <td>infinities</td>\n",
              "      <td>Holy awesome Leonard Nimoy!  Also thought I sp...</td>\n",
              "    </tr>\n",
              "    <tr>\n",
              "      <th>2265878673</th>\n",
              "      <td>Sun Jun 21 07:29:15 PDT 2009</td>\n",
              "      <td>revybbcholic</td>\n",
              "      <td>@theodorainish yes they are  I've tried to not...</td>\n",
              "    </tr>\n",
              "    <tr>\n",
              "      <th>1995188099</th>\n",
              "      <td>Mon Jun 01 13:05:22 PDT 2009</td>\n",
              "      <td>teddyrised</td>\n",
              "      <td>Millvina Dean  the last known survivor of the ...</td>\n",
              "    </tr>\n",
              "    <tr>\n",
              "      <th>2071942859</th>\n",
              "      <td>Sun Jun 07 20:08:43 PDT 2009</td>\n",
              "      <td>kaylabeth_</td>\n",
              "      <td>I REALLY DO NOT LIKE THIS ROGER. Adam Pascal p...</td>\n",
              "    </tr>\n",
              "  </tbody>\n",
              "</table>\n",
              "</div>"
            ],
            "text/plain": [
              "                                    date  ...                                               text\n",
              "id                                        ...                                                   \n",
              "1974447176  Sat May 30 13:09:18 PDT 2009  ...  That's pretty much how I think it works with i...\n",
              "1752584531  Sat May 09 22:20:24 PDT 2009  ...  Holy awesome Leonard Nimoy!  Also thought I sp...\n",
              "2265878673  Sun Jun 21 07:29:15 PDT 2009  ...  @theodorainish yes they are  I've tried to not...\n",
              "1995188099  Mon Jun 01 13:05:22 PDT 2009  ...  Millvina Dean  the last known survivor of the ...\n",
              "2071942859  Sun Jun 07 20:08:43 PDT 2009  ...  I REALLY DO NOT LIKE THIS ROGER. Adam Pascal p...\n",
              "\n",
              "[5 rows x 3 columns]"
            ]
          },
          "metadata": {
            "tags": []
          },
          "execution_count": 19
        }
      ]
    },
    {
      "cell_type": "code",
      "metadata": {
        "id": "ZSeh5bQx7hg1",
        "colab_type": "code",
        "outputId": "cf32e004-ba4b-4068-aa3c-17682427ae4a",
        "colab": {
          "base_uri": "https://localhost:8080/",
          "height": 168
        }
      },
      "source": [
        "Train.info()#quick description of the data"
      ],
      "execution_count": 20,
      "outputs": [
        {
          "output_type": "stream",
          "text": [
            "<class 'pandas.core.frame.DataFrame'>\n",
            "Int64Index: 1000000 entries, 2224496154 to 1795408948\n",
            "Data columns (total 4 columns):\n",
            "target    1000000 non-null int64\n",
            "date      1000000 non-null object\n",
            "user      1000000 non-null object\n",
            "text      1000000 non-null object\n",
            "dtypes: int64(1), object(3)\n",
            "memory usage: 38.1+ MB\n"
          ],
          "name": "stdout"
        }
      ]
    },
    {
      "cell_type": "markdown",
      "metadata": {
        "id": "XbDbM2G17hg4",
        "colab_type": "text"
      },
      "source": [
        "## Removing duplicates"
      ]
    },
    {
      "cell_type": "code",
      "metadata": {
        "id": "WB4KOQBJ7hg5",
        "colab_type": "code",
        "colab": {}
      },
      "source": [
        "boolean_duplicates_train = Train.duplicated().value_counts()#check for duplicates in the train dataset\n",
        "boolean_duplicates_test = Test.duplicated().value_counts()#check for duplicates in the test dataset"
      ],
      "execution_count": 0,
      "outputs": []
    },
    {
      "cell_type": "code",
      "metadata": {
        "id": "tJvjRUwk7hg7",
        "colab_type": "code",
        "outputId": "a557d0f0-646d-456b-d3e3-85b6ab9ef130",
        "colab": {
          "base_uri": "https://localhost:8080/",
          "height": 67
        }
      },
      "source": [
        "boolean_duplicates_train#Returns True for duplicate in train dataset"
      ],
      "execution_count": 22,
      "outputs": [
        {
          "output_type": "execute_result",
          "data": {
            "text/plain": [
              "False    999908\n",
              "True         92\n",
              "dtype: int64"
            ]
          },
          "metadata": {
            "tags": []
          },
          "execution_count": 22
        }
      ]
    },
    {
      "cell_type": "code",
      "metadata": {
        "id": "gfqlyyqu7hg-",
        "colab_type": "code",
        "outputId": "c564dc61-f6ad-4e15-8a3d-7e15dfbe54c6",
        "colab": {
          "base_uri": "https://localhost:8080/",
          "height": 67
        }
      },
      "source": [
        "boolean_duplicates_test##Returns True for duplicate in test dataset"
      ],
      "execution_count": 23,
      "outputs": [
        {
          "output_type": "execute_result",
          "data": {
            "text/plain": [
              "False    399881\n",
              "True          9\n",
              "dtype: int64"
            ]
          },
          "metadata": {
            "tags": []
          },
          "execution_count": 23
        }
      ]
    },
    {
      "cell_type": "code",
      "metadata": {
        "id": "CAaWXVB27hhB",
        "colab_type": "code",
        "colab": {}
      },
      "source": [
        "DuplicateRows = Train[Train.duplicated(keep='first')]#Saves duplicate rows in the variable duplicateRows"
      ],
      "execution_count": 0,
      "outputs": []
    },
    {
      "cell_type": "code",
      "metadata": {
        "id": "IjWb6sRt7hhD",
        "colab_type": "code",
        "outputId": "4dfbfb04-15e1-4b71-abe5-2da8dc085a74",
        "colab": {
          "base_uri": "https://localhost:8080/",
          "height": 431
        }
      },
      "source": [
        "DuplicateRows# Returns duplicate row in the train dataset"
      ],
      "execution_count": 25,
      "outputs": [
        {
          "output_type": "execute_result",
          "data": {
            "text/html": [
              "<div>\n",
              "<style scoped>\n",
              "    .dataframe tbody tr th:only-of-type {\n",
              "        vertical-align: middle;\n",
              "    }\n",
              "\n",
              "    .dataframe tbody tr th {\n",
              "        vertical-align: top;\n",
              "    }\n",
              "\n",
              "    .dataframe thead th {\n",
              "        text-align: right;\n",
              "    }\n",
              "</style>\n",
              "<table border=\"1\" class=\"dataframe\">\n",
              "  <thead>\n",
              "    <tr style=\"text-align: right;\">\n",
              "      <th></th>\n",
              "      <th>target</th>\n",
              "      <th>date</th>\n",
              "      <th>user</th>\n",
              "      <th>text</th>\n",
              "    </tr>\n",
              "    <tr>\n",
              "      <th>id</th>\n",
              "      <th></th>\n",
              "      <th></th>\n",
              "      <th></th>\n",
              "      <th></th>\n",
              "    </tr>\n",
              "  </thead>\n",
              "  <tbody>\n",
              "    <tr>\n",
              "      <th>1976984787</th>\n",
              "      <td>4</td>\n",
              "      <td>Sat May 30 19:47:03 PDT 2009</td>\n",
              "      <td>maricrisg</td>\n",
              "      <td>@Momsmostwanted are we allowed to win 2x or 3x...</td>\n",
              "    </tr>\n",
              "    <tr>\n",
              "      <th>1983476191</th>\n",
              "      <td>0</td>\n",
              "      <td>Sun May 31 13:13:45 PDT 2009</td>\n",
              "      <td>disneygirl92</td>\n",
              "      <td>Hey @souljaboytellem  Soulja Come to SCOTLAND ...</td>\n",
              "    </tr>\n",
              "    <tr>\n",
              "      <th>1975320086</th>\n",
              "      <td>0</td>\n",
              "      <td>Sat May 30 14:54:41 PDT 2009</td>\n",
              "      <td>violetbakes</td>\n",
              "      <td>@pawpads I know  I just caught it scrolling ac...</td>\n",
              "    </tr>\n",
              "    <tr>\n",
              "      <th>1881781718</th>\n",
              "      <td>4</td>\n",
              "      <td>Fri May 22 05:32:40 PDT 2009</td>\n",
              "      <td>virtuosoencore</td>\n",
              "      <td>@a_rybak Welcome to Munich.</td>\n",
              "    </tr>\n",
              "    <tr>\n",
              "      <th>1985821752</th>\n",
              "      <td>4</td>\n",
              "      <td>Sun May 31 17:50:18 PDT 2009</td>\n",
              "      <td>lina003</td>\n",
              "      <td>is drinking Barq's and getting ready to eat so...</td>\n",
              "    </tr>\n",
              "    <tr>\n",
              "      <th>...</th>\n",
              "      <td>...</td>\n",
              "      <td>...</td>\n",
              "      <td>...</td>\n",
              "      <td>...</td>\n",
              "    </tr>\n",
              "    <tr>\n",
              "      <th>2219490899</th>\n",
              "      <td>0</td>\n",
              "      <td>Thu Jun 18 00:39:36 PDT 2009</td>\n",
              "      <td>HeatherHero</td>\n",
              "      <td>my phone's gone for the whole summer break</td>\n",
              "    </tr>\n",
              "    <tr>\n",
              "      <th>1972952949</th>\n",
              "      <td>0</td>\n",
              "      <td>Sat May 30 10:11:48 PDT 2009</td>\n",
              "      <td>king_of_rock</td>\n",
              "      <td>Ferry from cowes 2 so'ton! Hols ova...</td>\n",
              "    </tr>\n",
              "    <tr>\n",
              "      <th>1969641371</th>\n",
              "      <td>4</td>\n",
              "      <td>Sat May 30 00:42:31 PDT 2009</td>\n",
              "      <td>Mig177</td>\n",
              "      <td>Hmm Which twitter application is faster? Tweet...</td>\n",
              "    </tr>\n",
              "    <tr>\n",
              "      <th>1826103870</th>\n",
              "      <td>4</td>\n",
              "      <td>Sun May 17 07:42:48 PDT 2009</td>\n",
              "      <td>smallss</td>\n",
              "      <td>Everyone wish @vivalalacey luck today on her M...</td>\n",
              "    </tr>\n",
              "    <tr>\n",
              "      <th>1989647584</th>\n",
              "      <td>4</td>\n",
              "      <td>Mon Jun 01 02:18:08 PDT 2009</td>\n",
              "      <td>urbanrenewal</td>\n",
              "      <td>@adii Unfortunately it is so</td>\n",
              "    </tr>\n",
              "  </tbody>\n",
              "</table>\n",
              "<p>92 rows × 4 columns</p>\n",
              "</div>"
            ],
            "text/plain": [
              "            target  ...                                               text\n",
              "id                  ...                                                   \n",
              "1976984787       4  ...  @Momsmostwanted are we allowed to win 2x or 3x...\n",
              "1983476191       0  ...  Hey @souljaboytellem  Soulja Come to SCOTLAND ...\n",
              "1975320086       0  ...  @pawpads I know  I just caught it scrolling ac...\n",
              "1881781718       4  ...                       @a_rybak Welcome to Munich. \n",
              "1985821752       4  ...  is drinking Barq's and getting ready to eat so...\n",
              "...            ...  ...                                                ...\n",
              "2219490899       0  ...        my phone's gone for the whole summer break \n",
              "1972952949       0  ...            Ferry from cowes 2 so'ton! Hols ova... \n",
              "1969641371       4  ...  Hmm Which twitter application is faster? Tweet...\n",
              "1826103870       4  ...  Everyone wish @vivalalacey luck today on her M...\n",
              "1989647584       4  ...                      @adii Unfortunately it is so \n",
              "\n",
              "[92 rows x 4 columns]"
            ]
          },
          "metadata": {
            "tags": []
          },
          "execution_count": 25
        }
      ]
    },
    {
      "cell_type": "code",
      "metadata": {
        "id": "FZCCU8Am7hhG",
        "colab_type": "code",
        "outputId": "70583636-4b46-4c8c-c466-4caaa3daf024",
        "colab": {
          "base_uri": "https://localhost:8080/",
          "height": 431
        }
      },
      "source": [
        "Train.drop_duplicates()#drop duplicate rows"
      ],
      "execution_count": 26,
      "outputs": [
        {
          "output_type": "execute_result",
          "data": {
            "text/html": [
              "<div>\n",
              "<style scoped>\n",
              "    .dataframe tbody tr th:only-of-type {\n",
              "        vertical-align: middle;\n",
              "    }\n",
              "\n",
              "    .dataframe tbody tr th {\n",
              "        vertical-align: top;\n",
              "    }\n",
              "\n",
              "    .dataframe thead th {\n",
              "        text-align: right;\n",
              "    }\n",
              "</style>\n",
              "<table border=\"1\" class=\"dataframe\">\n",
              "  <thead>\n",
              "    <tr style=\"text-align: right;\">\n",
              "      <th></th>\n",
              "      <th>target</th>\n",
              "      <th>date</th>\n",
              "      <th>user</th>\n",
              "      <th>text</th>\n",
              "    </tr>\n",
              "    <tr>\n",
              "      <th>id</th>\n",
              "      <th></th>\n",
              "      <th></th>\n",
              "      <th></th>\n",
              "      <th></th>\n",
              "    </tr>\n",
              "  </thead>\n",
              "  <tbody>\n",
              "    <tr>\n",
              "      <th>2224496154</th>\n",
              "      <td>0</td>\n",
              "      <td>Thu Jun 18 09:34:25 PDT 2009</td>\n",
              "      <td>Deborah_Fay</td>\n",
              "      <td>Okay  for some reason I still can't get the ba...</td>\n",
              "    </tr>\n",
              "    <tr>\n",
              "      <th>1687934301</th>\n",
              "      <td>4</td>\n",
              "      <td>Sun May 03 09:56:56 PDT 2009</td>\n",
              "      <td>haills</td>\n",
              "      <td>http://twitpic.com/4hjnj - Don't worry be happ...</td>\n",
              "    </tr>\n",
              "    <tr>\n",
              "      <th>1972073814</th>\n",
              "      <td>0</td>\n",
              "      <td>Sat May 30 08:30:21 PDT 2009</td>\n",
              "      <td>lechellealice</td>\n",
              "      <td>this movie is so sad</td>\n",
              "    </tr>\n",
              "    <tr>\n",
              "      <th>1557632618</th>\n",
              "      <td>4</td>\n",
              "      <td>Sun Apr 19 05:13:47 PDT 2009</td>\n",
              "      <td>janeslee</td>\n",
              "      <td>Good afternoon world. Been too busy to tweet. ...</td>\n",
              "    </tr>\n",
              "    <tr>\n",
              "      <th>1969750122</th>\n",
              "      <td>4</td>\n",
              "      <td>Sat May 30 01:05:20 PDT 2009</td>\n",
              "      <td>bvdaily</td>\n",
              "      <td>@QueensleyFelix LOL!We are just too classy  I ...</td>\n",
              "    </tr>\n",
              "    <tr>\n",
              "      <th>...</th>\n",
              "      <td>...</td>\n",
              "      <td>...</td>\n",
              "      <td>...</td>\n",
              "      <td>...</td>\n",
              "    </tr>\n",
              "    <tr>\n",
              "      <th>1979073420</th>\n",
              "      <td>4</td>\n",
              "      <td>Sun May 31 01:31:46 PDT 2009</td>\n",
              "      <td>xxxSupermodel</td>\n",
              "      <td>@thomaslawler he's adorable. Hi Jimmy</td>\n",
              "    </tr>\n",
              "    <tr>\n",
              "      <th>2207066448</th>\n",
              "      <td>0</td>\n",
              "      <td>Wed Jun 17 07:26:23 PDT 2009</td>\n",
              "      <td>emmavescence</td>\n",
              "      <td>@DJ_Alexander It's really bad today  I've take...</td>\n",
              "    </tr>\n",
              "    <tr>\n",
              "      <th>2194236338</th>\n",
              "      <td>0</td>\n",
              "      <td>Tue Jun 16 09:31:27 PDT 2009</td>\n",
              "      <td>1rdreamer</td>\n",
              "      <td>Can't vote at the moment  coming up &amp;quot;inte...</td>\n",
              "    </tr>\n",
              "    <tr>\n",
              "      <th>2061829127</th>\n",
              "      <td>0</td>\n",
              "      <td>Sat Jun 06 21:42:36 PDT 2009</td>\n",
              "      <td>KeepThisaSecret</td>\n",
              "      <td>I colored my hair  and it doesn't look anythin...</td>\n",
              "    </tr>\n",
              "    <tr>\n",
              "      <th>1795408948</th>\n",
              "      <td>4</td>\n",
              "      <td>Thu May 14 07:43:18 PDT 2009</td>\n",
              "      <td>kimwren1</td>\n",
              "      <td>@buffyjhamilton  Thanks!! Very cool!!</td>\n",
              "    </tr>\n",
              "  </tbody>\n",
              "</table>\n",
              "<p>999908 rows × 4 columns</p>\n",
              "</div>"
            ],
            "text/plain": [
              "            target  ...                                               text\n",
              "id                  ...                                                   \n",
              "2224496154       0  ...  Okay  for some reason I still can't get the ba...\n",
              "1687934301       4  ...  http://twitpic.com/4hjnj - Don't worry be happ...\n",
              "1972073814       0  ...                              this movie is so sad \n",
              "1557632618       4  ...  Good afternoon world. Been too busy to tweet. ...\n",
              "1969750122       4  ...  @QueensleyFelix LOL!We are just too classy  I ...\n",
              "...            ...  ...                                                ...\n",
              "1979073420       4  ...             @thomaslawler he's adorable. Hi Jimmy \n",
              "2207066448       0  ...  @DJ_Alexander It's really bad today  I've take...\n",
              "2194236338       0  ...  Can't vote at the moment  coming up &quot;inte...\n",
              "2061829127       0  ...  I colored my hair  and it doesn't look anythin...\n",
              "1795408948       4  ...             @buffyjhamilton  Thanks!! Very cool!! \n",
              "\n",
              "[999908 rows x 4 columns]"
            ]
          },
          "metadata": {
            "tags": []
          },
          "execution_count": 26
        }
      ]
    },
    {
      "cell_type": "code",
      "metadata": {
        "id": "pqeUqYwJ7hhJ",
        "colab_type": "code",
        "colab": {}
      },
      "source": [
        "DuplicateRows_test = Test[Test.duplicated(keep='first')]#Saves duplicate rows in the variable duplicateRows_test"
      ],
      "execution_count": 0,
      "outputs": []
    },
    {
      "cell_type": "code",
      "metadata": {
        "id": "QKQBZXNG7hhL",
        "colab_type": "code",
        "outputId": "dbf954c8-79ef-48e2-aa1f-d35e05c07b0f",
        "colab": {
          "base_uri": "https://localhost:8080/",
          "height": 343
        }
      },
      "source": [
        "DuplicateRows_test"
      ],
      "execution_count": 28,
      "outputs": [
        {
          "output_type": "execute_result",
          "data": {
            "text/html": [
              "<div>\n",
              "<style scoped>\n",
              "    .dataframe tbody tr th:only-of-type {\n",
              "        vertical-align: middle;\n",
              "    }\n",
              "\n",
              "    .dataframe tbody tr th {\n",
              "        vertical-align: top;\n",
              "    }\n",
              "\n",
              "    .dataframe thead th {\n",
              "        text-align: right;\n",
              "    }\n",
              "</style>\n",
              "<table border=\"1\" class=\"dataframe\">\n",
              "  <thead>\n",
              "    <tr style=\"text-align: right;\">\n",
              "      <th></th>\n",
              "      <th>date</th>\n",
              "      <th>user</th>\n",
              "      <th>text</th>\n",
              "    </tr>\n",
              "    <tr>\n",
              "      <th>id</th>\n",
              "      <th></th>\n",
              "      <th></th>\n",
              "      <th></th>\n",
              "    </tr>\n",
              "  </thead>\n",
              "  <tbody>\n",
              "    <tr>\n",
              "      <th>2202016940</th>\n",
              "      <td>Tue Jun 16 21:06:49 PDT 2009</td>\n",
              "      <td>Viper_Saint</td>\n",
              "      <td>Can't belive the alarm has gone off already. I...</td>\n",
              "    </tr>\n",
              "    <tr>\n",
              "      <th>1976960301</th>\n",
              "      <td>Sat May 30 19:42:16 PDT 2009</td>\n",
              "      <td>pynacolada</td>\n",
              "      <td>@NIKKI68 hi! I was working in marketing for so...</td>\n",
              "    </tr>\n",
              "    <tr>\n",
              "      <th>2226844279</th>\n",
              "      <td>Thu Jun 18 12:27:29 PDT 2009</td>\n",
              "      <td>lex2324</td>\n",
              "      <td>the last month has been a nightmare i miss my ...</td>\n",
              "    </tr>\n",
              "    <tr>\n",
              "      <th>1770606391</th>\n",
              "      <td>Mon May 11 21:46:35 PDT 2009</td>\n",
              "      <td>lilymcnee</td>\n",
              "      <td>twitter isnt workin properly   not fun when ur...</td>\n",
              "    </tr>\n",
              "    <tr>\n",
              "      <th>1962008906</th>\n",
              "      <td>Fri May 29 10:22:54 PDT 2009</td>\n",
              "      <td>kellebelle1981</td>\n",
              "      <td>i hope this works.  it gave me lots of joy.  h...</td>\n",
              "    </tr>\n",
              "    <tr>\n",
              "      <th>1964417712</th>\n",
              "      <td>Fri May 29 14:12:12 PDT 2009</td>\n",
              "      <td>Xo_Abby_oX</td>\n",
              "      <td>good day 2day hot weather and great friends wh...</td>\n",
              "    </tr>\n",
              "    <tr>\n",
              "      <th>1990215016</th>\n",
              "      <td>Mon Jun 01 04:13:54 PDT 2009</td>\n",
              "      <td>Buttonmashers</td>\n",
              "      <td>Too damn hot in Gothenburg today  need a cold ...</td>\n",
              "    </tr>\n",
              "    <tr>\n",
              "      <th>1964815104</th>\n",
              "      <td>Fri May 29 14:51:09 PDT 2009</td>\n",
              "      <td>otaking</td>\n",
              "      <td>@IsobelWren Yes?</td>\n",
              "    </tr>\n",
              "    <tr>\n",
              "      <th>2326023952</th>\n",
              "      <td>Thu Jun 25 06:26:14 PDT 2009</td>\n",
              "      <td>AlexandraG730</td>\n",
              "      <td>@Ashley_Cashen Yes! I have to see you before y...</td>\n",
              "    </tr>\n",
              "  </tbody>\n",
              "</table>\n",
              "</div>"
            ],
            "text/plain": [
              "                                    date  ...                                               text\n",
              "id                                        ...                                                   \n",
              "2202016940  Tue Jun 16 21:06:49 PDT 2009  ...  Can't belive the alarm has gone off already. I...\n",
              "1976960301  Sat May 30 19:42:16 PDT 2009  ...  @NIKKI68 hi! I was working in marketing for so...\n",
              "2226844279  Thu Jun 18 12:27:29 PDT 2009  ...  the last month has been a nightmare i miss my ...\n",
              "1770606391  Mon May 11 21:46:35 PDT 2009  ...  twitter isnt workin properly   not fun when ur...\n",
              "1962008906  Fri May 29 10:22:54 PDT 2009  ...  i hope this works.  it gave me lots of joy.  h...\n",
              "1964417712  Fri May 29 14:12:12 PDT 2009  ...  good day 2day hot weather and great friends wh...\n",
              "1990215016  Mon Jun 01 04:13:54 PDT 2009  ...  Too damn hot in Gothenburg today  need a cold ...\n",
              "1964815104  Fri May 29 14:51:09 PDT 2009  ...                                  @IsobelWren Yes? \n",
              "2326023952  Thu Jun 25 06:26:14 PDT 2009  ...  @Ashley_Cashen Yes! I have to see you before y...\n",
              "\n",
              "[9 rows x 3 columns]"
            ]
          },
          "metadata": {
            "tags": []
          },
          "execution_count": 28
        }
      ]
    },
    {
      "cell_type": "code",
      "metadata": {
        "id": "hOWnrPVB7hhN",
        "colab_type": "code",
        "outputId": "0d07d39a-ee73-4266-a813-f7bacfa94a93",
        "colab": {
          "base_uri": "https://localhost:8080/",
          "height": 431
        }
      },
      "source": [
        "Test.drop_duplicates()#drop duplicate rows in test"
      ],
      "execution_count": 29,
      "outputs": [
        {
          "output_type": "execute_result",
          "data": {
            "text/html": [
              "<div>\n",
              "<style scoped>\n",
              "    .dataframe tbody tr th:only-of-type {\n",
              "        vertical-align: middle;\n",
              "    }\n",
              "\n",
              "    .dataframe tbody tr th {\n",
              "        vertical-align: top;\n",
              "    }\n",
              "\n",
              "    .dataframe thead th {\n",
              "        text-align: right;\n",
              "    }\n",
              "</style>\n",
              "<table border=\"1\" class=\"dataframe\">\n",
              "  <thead>\n",
              "    <tr style=\"text-align: right;\">\n",
              "      <th></th>\n",
              "      <th>date</th>\n",
              "      <th>user</th>\n",
              "      <th>text</th>\n",
              "    </tr>\n",
              "    <tr>\n",
              "      <th>id</th>\n",
              "      <th></th>\n",
              "      <th></th>\n",
              "      <th></th>\n",
              "    </tr>\n",
              "  </thead>\n",
              "  <tbody>\n",
              "    <tr>\n",
              "      <th>1974447176</th>\n",
              "      <td>Sat May 30 13:09:18 PDT 2009</td>\n",
              "      <td>ugro</td>\n",
              "      <td>That's pretty much how I think it works with i...</td>\n",
              "    </tr>\n",
              "    <tr>\n",
              "      <th>1752584531</th>\n",
              "      <td>Sat May 09 22:20:24 PDT 2009</td>\n",
              "      <td>infinities</td>\n",
              "      <td>Holy awesome Leonard Nimoy!  Also thought I sp...</td>\n",
              "    </tr>\n",
              "    <tr>\n",
              "      <th>2265878673</th>\n",
              "      <td>Sun Jun 21 07:29:15 PDT 2009</td>\n",
              "      <td>revybbcholic</td>\n",
              "      <td>@theodorainish yes they are  I've tried to not...</td>\n",
              "    </tr>\n",
              "    <tr>\n",
              "      <th>1995188099</th>\n",
              "      <td>Mon Jun 01 13:05:22 PDT 2009</td>\n",
              "      <td>teddyrised</td>\n",
              "      <td>Millvina Dean  the last known survivor of the ...</td>\n",
              "    </tr>\n",
              "    <tr>\n",
              "      <th>2071942859</th>\n",
              "      <td>Sun Jun 07 20:08:43 PDT 2009</td>\n",
              "      <td>kaylabeth_</td>\n",
              "      <td>I REALLY DO NOT LIKE THIS ROGER. Adam Pascal p...</td>\n",
              "    </tr>\n",
              "    <tr>\n",
              "      <th>...</th>\n",
              "      <td>...</td>\n",
              "      <td>...</td>\n",
              "      <td>...</td>\n",
              "    </tr>\n",
              "    <tr>\n",
              "      <th>2256218745</th>\n",
              "      <td>Sat Jun 20 12:26:31 PDT 2009</td>\n",
              "      <td>nightwheel</td>\n",
              "      <td>I see you mike on the live show. Wishing I cou...</td>\n",
              "    </tr>\n",
              "    <tr>\n",
              "      <th>2265880544</th>\n",
              "      <td>Sun Jun 21 07:29:28 PDT 2009</td>\n",
              "      <td>jff316</td>\n",
              "      <td>@ work  missing church praying for the service...</td>\n",
              "    </tr>\n",
              "    <tr>\n",
              "      <th>1827423272</th>\n",
              "      <td>Sun May 17 10:40:46 PDT 2009</td>\n",
              "      <td>springcricket</td>\n",
              "      <td>yeah yeah @tpleeza that's what they ALL say......</td>\n",
              "    </tr>\n",
              "    <tr>\n",
              "      <th>2056292398</th>\n",
              "      <td>Sat Jun 06 10:52:46 PDT 2009</td>\n",
              "      <td>jatetenkins</td>\n",
              "      <td>Turning my phone off  going for a drive. Anoth...</td>\n",
              "    </tr>\n",
              "    <tr>\n",
              "      <th>1694291374</th>\n",
              "      <td>Mon May 04 01:57:21 PDT 2009</td>\n",
              "      <td>alyne_</td>\n",
              "      <td>bali!! can wait for it</td>\n",
              "    </tr>\n",
              "  </tbody>\n",
              "</table>\n",
              "<p>399881 rows × 3 columns</p>\n",
              "</div>"
            ],
            "text/plain": [
              "                                    date  ...                                               text\n",
              "id                                        ...                                                   \n",
              "1974447176  Sat May 30 13:09:18 PDT 2009  ...  That's pretty much how I think it works with i...\n",
              "1752584531  Sat May 09 22:20:24 PDT 2009  ...  Holy awesome Leonard Nimoy!  Also thought I sp...\n",
              "2265878673  Sun Jun 21 07:29:15 PDT 2009  ...  @theodorainish yes they are  I've tried to not...\n",
              "1995188099  Mon Jun 01 13:05:22 PDT 2009  ...  Millvina Dean  the last known survivor of the ...\n",
              "2071942859  Sun Jun 07 20:08:43 PDT 2009  ...  I REALLY DO NOT LIKE THIS ROGER. Adam Pascal p...\n",
              "...                                  ...  ...                                                ...\n",
              "2256218745  Sat Jun 20 12:26:31 PDT 2009  ...  I see you mike on the live show. Wishing I cou...\n",
              "2265880544  Sun Jun 21 07:29:28 PDT 2009  ...  @ work  missing church praying for the service...\n",
              "1827423272  Sun May 17 10:40:46 PDT 2009  ...  yeah yeah @tpleeza that's what they ALL say......\n",
              "2056292398  Sat Jun 06 10:52:46 PDT 2009  ...  Turning my phone off  going for a drive. Anoth...\n",
              "1694291374  Mon May 04 01:57:21 PDT 2009  ...                            bali!! can wait for it \n",
              "\n",
              "[399881 rows x 3 columns]"
            ]
          },
          "metadata": {
            "tags": []
          },
          "execution_count": 29
        }
      ]
    },
    {
      "cell_type": "markdown",
      "metadata": {
        "id": "bdOSWwTC7hhQ",
        "colab_type": "text"
      },
      "source": [
        "## Checking for missing values NaN"
      ]
    },
    {
      "cell_type": "code",
      "metadata": {
        "id": "c0V3gSDY7hhR",
        "colab_type": "code",
        "outputId": "4aaad2b2-6625-4093-9f6b-b09ed0f6b9e3",
        "colab": {
          "base_uri": "https://localhost:8080/",
          "height": 34
        }
      },
      "source": [
        "print(f'There is {Train.isnull().any().sum()} column in train dataset with missing values.')#missing values in Train"
      ],
      "execution_count": 30,
      "outputs": [
        {
          "output_type": "stream",
          "text": [
            "There is 0 column in train dataset with missing values.\n"
          ],
          "name": "stdout"
        }
      ]
    },
    {
      "cell_type": "code",
      "metadata": {
        "id": "PWQd0xkc7hhT",
        "colab_type": "code",
        "outputId": "dc3ea270-1364-4404-f893-5a3998caeec9",
        "colab": {
          "base_uri": "https://localhost:8080/",
          "height": 34
        }
      },
      "source": [
        "print(f'There is {Test.isnull().any().sum()} column in test dataset with missing values.')#missing values in Test"
      ],
      "execution_count": 31,
      "outputs": [
        {
          "output_type": "stream",
          "text": [
            "There is 0 column in test dataset with missing values.\n"
          ],
          "name": "stdout"
        }
      ]
    },
    {
      "cell_type": "markdown",
      "metadata": {
        "id": "HhOedsVY7hhW",
        "colab_type": "text"
      },
      "source": [
        "# Data Wrangling"
      ]
    },
    {
      "cell_type": "code",
      "metadata": {
        "id": "ijfm9Kkq7hhX",
        "colab_type": "code",
        "outputId": "ad0bc4ba-3a60-478d-a2b9-8d4e3330167b",
        "colab": {
          "base_uri": "https://localhost:8080/",
          "height": 225
        }
      },
      "source": [
        "Train.head()"
      ],
      "execution_count": 32,
      "outputs": [
        {
          "output_type": "execute_result",
          "data": {
            "text/html": [
              "<div>\n",
              "<style scoped>\n",
              "    .dataframe tbody tr th:only-of-type {\n",
              "        vertical-align: middle;\n",
              "    }\n",
              "\n",
              "    .dataframe tbody tr th {\n",
              "        vertical-align: top;\n",
              "    }\n",
              "\n",
              "    .dataframe thead th {\n",
              "        text-align: right;\n",
              "    }\n",
              "</style>\n",
              "<table border=\"1\" class=\"dataframe\">\n",
              "  <thead>\n",
              "    <tr style=\"text-align: right;\">\n",
              "      <th></th>\n",
              "      <th>target</th>\n",
              "      <th>date</th>\n",
              "      <th>user</th>\n",
              "      <th>text</th>\n",
              "    </tr>\n",
              "    <tr>\n",
              "      <th>id</th>\n",
              "      <th></th>\n",
              "      <th></th>\n",
              "      <th></th>\n",
              "      <th></th>\n",
              "    </tr>\n",
              "  </thead>\n",
              "  <tbody>\n",
              "    <tr>\n",
              "      <th>2224496154</th>\n",
              "      <td>0</td>\n",
              "      <td>Thu Jun 18 09:34:25 PDT 2009</td>\n",
              "      <td>Deborah_Fay</td>\n",
              "      <td>Okay  for some reason I still can't get the ba...</td>\n",
              "    </tr>\n",
              "    <tr>\n",
              "      <th>1687934301</th>\n",
              "      <td>4</td>\n",
              "      <td>Sun May 03 09:56:56 PDT 2009</td>\n",
              "      <td>haills</td>\n",
              "      <td>http://twitpic.com/4hjnj - Don't worry be happ...</td>\n",
              "    </tr>\n",
              "    <tr>\n",
              "      <th>1972073814</th>\n",
              "      <td>0</td>\n",
              "      <td>Sat May 30 08:30:21 PDT 2009</td>\n",
              "      <td>lechellealice</td>\n",
              "      <td>this movie is so sad</td>\n",
              "    </tr>\n",
              "    <tr>\n",
              "      <th>1557632618</th>\n",
              "      <td>4</td>\n",
              "      <td>Sun Apr 19 05:13:47 PDT 2009</td>\n",
              "      <td>janeslee</td>\n",
              "      <td>Good afternoon world. Been too busy to tweet. ...</td>\n",
              "    </tr>\n",
              "    <tr>\n",
              "      <th>1969750122</th>\n",
              "      <td>4</td>\n",
              "      <td>Sat May 30 01:05:20 PDT 2009</td>\n",
              "      <td>bvdaily</td>\n",
              "      <td>@QueensleyFelix LOL!We are just too classy  I ...</td>\n",
              "    </tr>\n",
              "  </tbody>\n",
              "</table>\n",
              "</div>"
            ],
            "text/plain": [
              "            target  ...                                               text\n",
              "id                  ...                                                   \n",
              "2224496154       0  ...  Okay  for some reason I still can't get the ba...\n",
              "1687934301       4  ...  http://twitpic.com/4hjnj - Don't worry be happ...\n",
              "1972073814       0  ...                              this movie is so sad \n",
              "1557632618       4  ...  Good afternoon world. Been too busy to tweet. ...\n",
              "1969750122       4  ...  @QueensleyFelix LOL!We are just too classy  I ...\n",
              "\n",
              "[5 rows x 4 columns]"
            ]
          },
          "metadata": {
            "tags": []
          },
          "execution_count": 32
        }
      ]
    },
    {
      "cell_type": "code",
      "metadata": {
        "id": "zXhkHl937hhZ",
        "colab_type": "code",
        "outputId": "670d79dd-f42a-42db-caa8-a11797c73bd1",
        "colab": {
          "base_uri": "https://localhost:8080/",
          "height": 225
        }
      },
      "source": [
        "Test.head()"
      ],
      "execution_count": 33,
      "outputs": [
        {
          "output_type": "execute_result",
          "data": {
            "text/html": [
              "<div>\n",
              "<style scoped>\n",
              "    .dataframe tbody tr th:only-of-type {\n",
              "        vertical-align: middle;\n",
              "    }\n",
              "\n",
              "    .dataframe tbody tr th {\n",
              "        vertical-align: top;\n",
              "    }\n",
              "\n",
              "    .dataframe thead th {\n",
              "        text-align: right;\n",
              "    }\n",
              "</style>\n",
              "<table border=\"1\" class=\"dataframe\">\n",
              "  <thead>\n",
              "    <tr style=\"text-align: right;\">\n",
              "      <th></th>\n",
              "      <th>date</th>\n",
              "      <th>user</th>\n",
              "      <th>text</th>\n",
              "    </tr>\n",
              "    <tr>\n",
              "      <th>id</th>\n",
              "      <th></th>\n",
              "      <th></th>\n",
              "      <th></th>\n",
              "    </tr>\n",
              "  </thead>\n",
              "  <tbody>\n",
              "    <tr>\n",
              "      <th>1974447176</th>\n",
              "      <td>Sat May 30 13:09:18 PDT 2009</td>\n",
              "      <td>ugro</td>\n",
              "      <td>That's pretty much how I think it works with i...</td>\n",
              "    </tr>\n",
              "    <tr>\n",
              "      <th>1752584531</th>\n",
              "      <td>Sat May 09 22:20:24 PDT 2009</td>\n",
              "      <td>infinities</td>\n",
              "      <td>Holy awesome Leonard Nimoy!  Also thought I sp...</td>\n",
              "    </tr>\n",
              "    <tr>\n",
              "      <th>2265878673</th>\n",
              "      <td>Sun Jun 21 07:29:15 PDT 2009</td>\n",
              "      <td>revybbcholic</td>\n",
              "      <td>@theodorainish yes they are  I've tried to not...</td>\n",
              "    </tr>\n",
              "    <tr>\n",
              "      <th>1995188099</th>\n",
              "      <td>Mon Jun 01 13:05:22 PDT 2009</td>\n",
              "      <td>teddyrised</td>\n",
              "      <td>Millvina Dean  the last known survivor of the ...</td>\n",
              "    </tr>\n",
              "    <tr>\n",
              "      <th>2071942859</th>\n",
              "      <td>Sun Jun 07 20:08:43 PDT 2009</td>\n",
              "      <td>kaylabeth_</td>\n",
              "      <td>I REALLY DO NOT LIKE THIS ROGER. Adam Pascal p...</td>\n",
              "    </tr>\n",
              "  </tbody>\n",
              "</table>\n",
              "</div>"
            ],
            "text/plain": [
              "                                    date  ...                                               text\n",
              "id                                        ...                                                   \n",
              "1974447176  Sat May 30 13:09:18 PDT 2009  ...  That's pretty much how I think it works with i...\n",
              "1752584531  Sat May 09 22:20:24 PDT 2009  ...  Holy awesome Leonard Nimoy!  Also thought I sp...\n",
              "2265878673  Sun Jun 21 07:29:15 PDT 2009  ...  @theodorainish yes they are  I've tried to not...\n",
              "1995188099  Mon Jun 01 13:05:22 PDT 2009  ...  Millvina Dean  the last known survivor of the ...\n",
              "2071942859  Sun Jun 07 20:08:43 PDT 2009  ...  I REALLY DO NOT LIKE THIS ROGER. Adam Pascal p...\n",
              "\n",
              "[5 rows x 3 columns]"
            ]
          },
          "metadata": {
            "tags": []
          },
          "execution_count": 33
        }
      ]
    },
    {
      "cell_type": "code",
      "metadata": {
        "id": "M4VpRNV37hhb",
        "colab_type": "code",
        "colab": {}
      },
      "source": [
        "def remove_punctuations(text):#For removing punctuation\n",
        "    for punctuation in string.punctuation:\n",
        "        text = text.replace(punctuation, '')\n",
        "    return text"
      ],
      "execution_count": 0,
      "outputs": []
    },
    {
      "cell_type": "code",
      "metadata": {
        "id": "uTp7lULq7hhe",
        "colab_type": "code",
        "colab": {}
      },
      "source": [
        "def remove_URL_punctuation(tweet):#For removing Url links\n",
        "    url = re.compile(r'https?://\\S+|www\\.\\S+')\n",
        "    text = url.sub(r'',tweet) \n",
        "    return remove_punctuations(text)"
      ],
      "execution_count": 0,
      "outputs": []
    },
    {
      "cell_type": "code",
      "metadata": {
        "id": "lY6E5hui7hhg",
        "colab_type": "code",
        "colab": {}
      },
      "source": [
        "#Remove HashTag,links and punctuations\n",
        "def remove_name(tweet):\n",
        "    tweet_split = tweet.split()\n",
        "    for word in tweet_split:\n",
        "        if '@' in word or digits in word:\n",
        "            tweet_split.remove(word)\n",
        "            tweet = ' '.join(tweet_split)\n",
        "    return remove_URL_punctuation(tweet).lower()"
      ],
      "execution_count": 0,
      "outputs": []
    },
    {
      "cell_type": "code",
      "metadata": {
        "id": "JmUKZozj7hhi",
        "colab_type": "code",
        "colab": {}
      },
      "source": [
        "Train['text']=Train['text'].apply(remove_name)\n",
        "Test['text']=Test['text'].apply(remove_name)"
      ],
      "execution_count": 0,
      "outputs": []
    },
    {
      "cell_type": "code",
      "metadata": {
        "id": "Ir17QjXM7hhl",
        "colab_type": "code",
        "outputId": "6bb924f1-d470-457d-d624-2605a6fa18e9",
        "colab": {
          "base_uri": "https://localhost:8080/",
          "height": 225
        }
      },
      "source": [
        "Train.head()"
      ],
      "execution_count": 38,
      "outputs": [
        {
          "output_type": "execute_result",
          "data": {
            "text/html": [
              "<div>\n",
              "<style scoped>\n",
              "    .dataframe tbody tr th:only-of-type {\n",
              "        vertical-align: middle;\n",
              "    }\n",
              "\n",
              "    .dataframe tbody tr th {\n",
              "        vertical-align: top;\n",
              "    }\n",
              "\n",
              "    .dataframe thead th {\n",
              "        text-align: right;\n",
              "    }\n",
              "</style>\n",
              "<table border=\"1\" class=\"dataframe\">\n",
              "  <thead>\n",
              "    <tr style=\"text-align: right;\">\n",
              "      <th></th>\n",
              "      <th>target</th>\n",
              "      <th>date</th>\n",
              "      <th>user</th>\n",
              "      <th>text</th>\n",
              "    </tr>\n",
              "    <tr>\n",
              "      <th>id</th>\n",
              "      <th></th>\n",
              "      <th></th>\n",
              "      <th></th>\n",
              "      <th></th>\n",
              "    </tr>\n",
              "  </thead>\n",
              "  <tbody>\n",
              "    <tr>\n",
              "      <th>2224496154</th>\n",
              "      <td>0</td>\n",
              "      <td>Thu Jun 18 09:34:25 PDT 2009</td>\n",
              "      <td>Deborah_Fay</td>\n",
              "      <td>okay  for some reason i still cant get the bac...</td>\n",
              "    </tr>\n",
              "    <tr>\n",
              "      <th>1687934301</th>\n",
              "      <td>4</td>\n",
              "      <td>Sun May 03 09:56:56 PDT 2009</td>\n",
              "      <td>haills</td>\n",
              "      <td>dont worry be happy well that all depends on...</td>\n",
              "    </tr>\n",
              "    <tr>\n",
              "      <th>1972073814</th>\n",
              "      <td>0</td>\n",
              "      <td>Sat May 30 08:30:21 PDT 2009</td>\n",
              "      <td>lechellealice</td>\n",
              "      <td>this movie is so sad</td>\n",
              "    </tr>\n",
              "    <tr>\n",
              "      <th>1557632618</th>\n",
              "      <td>4</td>\n",
              "      <td>Sun Apr 19 05:13:47 PDT 2009</td>\n",
              "      <td>janeslee</td>\n",
              "      <td>good afternoon world been too busy to tweet wa...</td>\n",
              "    </tr>\n",
              "    <tr>\n",
              "      <th>1969750122</th>\n",
              "      <td>4</td>\n",
              "      <td>Sat May 30 01:05:20 PDT 2009</td>\n",
              "      <td>bvdaily</td>\n",
              "      <td>lolwe are just too classy i know i mustve gott...</td>\n",
              "    </tr>\n",
              "  </tbody>\n",
              "</table>\n",
              "</div>"
            ],
            "text/plain": [
              "            target  ...                                               text\n",
              "id                  ...                                                   \n",
              "2224496154       0  ...  okay  for some reason i still cant get the bac...\n",
              "1687934301       4  ...    dont worry be happy well that all depends on...\n",
              "1972073814       0  ...                              this movie is so sad \n",
              "1557632618       4  ...  good afternoon world been too busy to tweet wa...\n",
              "1969750122       4  ...  lolwe are just too classy i know i mustve gott...\n",
              "\n",
              "[5 rows x 4 columns]"
            ]
          },
          "metadata": {
            "tags": []
          },
          "execution_count": 38
        }
      ]
    },
    {
      "cell_type": "code",
      "metadata": {
        "scrolled": true,
        "id": "4H0ISTrD7hho",
        "colab_type": "code",
        "outputId": "187d9bb5-11a4-4475-e756-da05cf39bc03",
        "colab": {
          "base_uri": "https://localhost:8080/",
          "height": 225
        }
      },
      "source": [
        "Test.head()"
      ],
      "execution_count": 39,
      "outputs": [
        {
          "output_type": "execute_result",
          "data": {
            "text/html": [
              "<div>\n",
              "<style scoped>\n",
              "    .dataframe tbody tr th:only-of-type {\n",
              "        vertical-align: middle;\n",
              "    }\n",
              "\n",
              "    .dataframe tbody tr th {\n",
              "        vertical-align: top;\n",
              "    }\n",
              "\n",
              "    .dataframe thead th {\n",
              "        text-align: right;\n",
              "    }\n",
              "</style>\n",
              "<table border=\"1\" class=\"dataframe\">\n",
              "  <thead>\n",
              "    <tr style=\"text-align: right;\">\n",
              "      <th></th>\n",
              "      <th>date</th>\n",
              "      <th>user</th>\n",
              "      <th>text</th>\n",
              "    </tr>\n",
              "    <tr>\n",
              "      <th>id</th>\n",
              "      <th></th>\n",
              "      <th></th>\n",
              "      <th></th>\n",
              "    </tr>\n",
              "  </thead>\n",
              "  <tbody>\n",
              "    <tr>\n",
              "      <th>1974447176</th>\n",
              "      <td>Sat May 30 13:09:18 PDT 2009</td>\n",
              "      <td>ugro</td>\n",
              "      <td>thats pretty much how i think it works with ip...</td>\n",
              "    </tr>\n",
              "    <tr>\n",
              "      <th>1752584531</th>\n",
              "      <td>Sat May 09 22:20:24 PDT 2009</td>\n",
              "      <td>infinities</td>\n",
              "      <td>holy awesome leonard nimoy  also thought i spi...</td>\n",
              "    </tr>\n",
              "    <tr>\n",
              "      <th>2265878673</th>\n",
              "      <td>Sun Jun 21 07:29:15 PDT 2009</td>\n",
              "      <td>revybbcholic</td>\n",
              "      <td>yes they are ive tried to not to car or even t...</td>\n",
              "    </tr>\n",
              "    <tr>\n",
              "      <th>1995188099</th>\n",
              "      <td>Mon Jun 01 13:05:22 PDT 2009</td>\n",
              "      <td>teddyrised</td>\n",
              "      <td>millvina dean  the last known survivor of the ...</td>\n",
              "    </tr>\n",
              "    <tr>\n",
              "      <th>2071942859</th>\n",
              "      <td>Sun Jun 07 20:08:43 PDT 2009</td>\n",
              "      <td>kaylabeth_</td>\n",
              "      <td>i really do not like this roger adam pascal pl...</td>\n",
              "    </tr>\n",
              "  </tbody>\n",
              "</table>\n",
              "</div>"
            ],
            "text/plain": [
              "                                    date  ...                                               text\n",
              "id                                        ...                                                   \n",
              "1974447176  Sat May 30 13:09:18 PDT 2009  ...  thats pretty much how i think it works with ip...\n",
              "1752584531  Sat May 09 22:20:24 PDT 2009  ...  holy awesome leonard nimoy  also thought i spi...\n",
              "2265878673  Sun Jun 21 07:29:15 PDT 2009  ...  yes they are ive tried to not to car or even t...\n",
              "1995188099  Mon Jun 01 13:05:22 PDT 2009  ...  millvina dean  the last known survivor of the ...\n",
              "2071942859  Sun Jun 07 20:08:43 PDT 2009  ...  i really do not like this roger adam pascal pl...\n",
              "\n",
              "[5 rows x 3 columns]"
            ]
          },
          "metadata": {
            "tags": []
          },
          "execution_count": 39
        }
      ]
    },
    {
      "cell_type": "code",
      "metadata": {
        "id": "Erc1nPhK7hhq",
        "colab_type": "code",
        "colab": {}
      },
      "source": [
        "#def stop_word_tweet(tweet):\n",
        "#    tweet = word_tokenize(tweet)\n",
        "#    return [word for word in tweet if word not in stopwords.words('english')]"
      ],
      "execution_count": 0,
      "outputs": []
    },
    {
      "cell_type": "code",
      "metadata": {
        "id": "lkJtYXJf7hhu",
        "colab_type": "code",
        "colab": {}
      },
      "source": [
        "#Train['text']=Train.apply(lambda x: stop_word_tweet(x.text),axis=1)"
      ],
      "execution_count": 0,
      "outputs": []
    },
    {
      "cell_type": "code",
      "metadata": {
        "id": "KaQUWzHC7hhx",
        "colab_type": "code",
        "colab": {}
      },
      "source": [
        "#Test['text']=Test['text'].apply(stop_word_tweet)"
      ],
      "execution_count": 0,
      "outputs": []
    },
    {
      "cell_type": "code",
      "metadata": {
        "id": "_Z6FN5fE7hhz",
        "colab_type": "code",
        "colab": {
          "base_uri": "https://localhost:8080/",
          "height": 34
        },
        "outputId": "8ccf7a1d-37bb-4a02-e261-ec0fb3cbd321"
      },
      "source": [
        "def stop_word_tweet(tweet):\n",
        "    tweet = word_tokenize(tweet)\n",
        "    lista = [word for word in tweet if word not in stopwords.words('english')]\n",
        "    tweet = ' '.join(lista)\n",
        "    return tweet\n"
      ],
      "execution_count": 47,
      "outputs": [
        {
          "output_type": "stream",
          "text": [
            "This example\n"
          ],
          "name": "stdout"
        }
      ]
    },
    {
      "cell_type": "code",
      "metadata": {
        "id": "dfsib6r97hh2",
        "colab_type": "code",
        "colab": {}
      },
      "source": [
        "Train['text']=Train.apply(lambda x: stop_word_tweet(x.text),axis=1)"
      ],
      "execution_count": 0,
      "outputs": []
    },
    {
      "cell_type": "code",
      "metadata": {
        "id": "p_Dzuj1Bxwfr",
        "colab_type": "code",
        "colab": {
          "base_uri": "https://localhost:8080/",
          "height": 225
        },
        "outputId": "9624d829-9c66-4d4b-ce1f-d1a9998076d8"
      },
      "source": [
        "Train.head()"
      ],
      "execution_count": 56,
      "outputs": [
        {
          "output_type": "execute_result",
          "data": {
            "text/html": [
              "<div>\n",
              "<style scoped>\n",
              "    .dataframe tbody tr th:only-of-type {\n",
              "        vertical-align: middle;\n",
              "    }\n",
              "\n",
              "    .dataframe tbody tr th {\n",
              "        vertical-align: top;\n",
              "    }\n",
              "\n",
              "    .dataframe thead th {\n",
              "        text-align: right;\n",
              "    }\n",
              "</style>\n",
              "<table border=\"1\" class=\"dataframe\">\n",
              "  <thead>\n",
              "    <tr style=\"text-align: right;\">\n",
              "      <th></th>\n",
              "      <th>target</th>\n",
              "      <th>date</th>\n",
              "      <th>user</th>\n",
              "      <th>text</th>\n",
              "    </tr>\n",
              "    <tr>\n",
              "      <th>id</th>\n",
              "      <th></th>\n",
              "      <th></th>\n",
              "      <th></th>\n",
              "      <th></th>\n",
              "    </tr>\n",
              "  </thead>\n",
              "  <tbody>\n",
              "    <tr>\n",
              "      <th>2224496154</th>\n",
              "      <td>0</td>\n",
              "      <td>Thu Jun 18 09:34:25 PDT 2009</td>\n",
              "      <td>Deborah_Fay</td>\n",
              "      <td>okay reason still cant get background picture ...</td>\n",
              "    </tr>\n",
              "    <tr>\n",
              "      <th>1687934301</th>\n",
              "      <td>4</td>\n",
              "      <td>Sun May 03 09:56:56 PDT 2009</td>\n",
              "      <td>haills</td>\n",
              "      <td>dont worry happy well depends situation</td>\n",
              "    </tr>\n",
              "    <tr>\n",
              "      <th>1972073814</th>\n",
              "      <td>0</td>\n",
              "      <td>Sat May 30 08:30:21 PDT 2009</td>\n",
              "      <td>lechellealice</td>\n",
              "      <td>movie sad</td>\n",
              "    </tr>\n",
              "    <tr>\n",
              "      <th>1557632618</th>\n",
              "      <td>4</td>\n",
              "      <td>Sun Apr 19 05:13:47 PDT 2009</td>\n",
              "      <td>janeslee</td>\n",
              "      <td>good afternoon world busy tweet washing sewing...</td>\n",
              "    </tr>\n",
              "    <tr>\n",
              "      <th>1969750122</th>\n",
              "      <td>4</td>\n",
              "      <td>Sat May 30 01:05:20 PDT 2009</td>\n",
              "      <td>bvdaily</td>\n",
              "      <td>lolwe classy know mustve gotten brooke amp don...</td>\n",
              "    </tr>\n",
              "  </tbody>\n",
              "</table>\n",
              "</div>"
            ],
            "text/plain": [
              "            target  ...                                               text\n",
              "id                  ...                                                   \n",
              "2224496154       0  ...  okay reason still cant get background picture ...\n",
              "1687934301       4  ...            dont worry happy well depends situation\n",
              "1972073814       0  ...                                          movie sad\n",
              "1557632618       4  ...  good afternoon world busy tweet washing sewing...\n",
              "1969750122       4  ...  lolwe classy know mustve gotten brooke amp don...\n",
              "\n",
              "[5 rows x 4 columns]"
            ]
          },
          "metadata": {
            "tags": []
          },
          "execution_count": 56
        }
      ]
    },
    {
      "cell_type": "code",
      "metadata": {
        "id": "YFKL_7xF7hh4",
        "colab_type": "code",
        "colab": {}
      },
      "source": [
        "Test['text']=Test.apply(lambda x: stop_word_tweet(x.text),axis=1)"
      ],
      "execution_count": 0,
      "outputs": []
    },
    {
      "cell_type": "code",
      "metadata": {
        "id": "l9OBxFd3xkAL",
        "colab_type": "code",
        "colab": {
          "base_uri": "https://localhost:8080/",
          "height": 225
        },
        "outputId": "d47060a8-cce7-404d-9b99-80c9586e2550"
      },
      "source": [
        "Test.head()"
      ],
      "execution_count": 54,
      "outputs": [
        {
          "output_type": "execute_result",
          "data": {
            "text/html": [
              "<div>\n",
              "<style scoped>\n",
              "    .dataframe tbody tr th:only-of-type {\n",
              "        vertical-align: middle;\n",
              "    }\n",
              "\n",
              "    .dataframe tbody tr th {\n",
              "        vertical-align: top;\n",
              "    }\n",
              "\n",
              "    .dataframe thead th {\n",
              "        text-align: right;\n",
              "    }\n",
              "</style>\n",
              "<table border=\"1\" class=\"dataframe\">\n",
              "  <thead>\n",
              "    <tr style=\"text-align: right;\">\n",
              "      <th></th>\n",
              "      <th>date</th>\n",
              "      <th>user</th>\n",
              "      <th>text</th>\n",
              "    </tr>\n",
              "    <tr>\n",
              "      <th>id</th>\n",
              "      <th></th>\n",
              "      <th></th>\n",
              "      <th></th>\n",
              "    </tr>\n",
              "  </thead>\n",
              "  <tbody>\n",
              "    <tr>\n",
              "      <th>1974447176</th>\n",
              "      <td>Sat May 30 13:09:18 PDT 2009</td>\n",
              "      <td>ugro</td>\n",
              "      <td>thats pretty much think works iphone appsaccep...</td>\n",
              "    </tr>\n",
              "    <tr>\n",
              "      <th>1752584531</th>\n",
              "      <td>Sat May 09 22:20:24 PDT 2009</td>\n",
              "      <td>infinities</td>\n",
              "      <td>holy awesome leonard nimoy also thought spied ...</td>\n",
              "    </tr>\n",
              "    <tr>\n",
              "      <th>2265878673</th>\n",
              "      <td>Sun Jun 21 07:29:15 PDT 2009</td>\n",
              "      <td>revybbcholic</td>\n",
              "      <td>yes ive tried car even tink idk gue keinget te...</td>\n",
              "    </tr>\n",
              "    <tr>\n",
              "      <th>1995188099</th>\n",
              "      <td>Mon Jun 01 13:05:22 PDT 2009</td>\n",
              "      <td>teddyrised</td>\n",
              "      <td>millvina dean last known survivor titanic pass...</td>\n",
              "    </tr>\n",
              "    <tr>\n",
              "      <th>2071942859</th>\n",
              "      <td>Sun Jun 07 20:08:43 PDT 2009</td>\n",
              "      <td>kaylabeth_</td>\n",
              "      <td>really like roger adam pascal plz amp ty</td>\n",
              "    </tr>\n",
              "  </tbody>\n",
              "</table>\n",
              "</div>"
            ],
            "text/plain": [
              "                                    date  ...                                               text\n",
              "id                                        ...                                                   \n",
              "1974447176  Sat May 30 13:09:18 PDT 2009  ...  thats pretty much think works iphone appsaccep...\n",
              "1752584531  Sat May 09 22:20:24 PDT 2009  ...  holy awesome leonard nimoy also thought spied ...\n",
              "2265878673  Sun Jun 21 07:29:15 PDT 2009  ...  yes ive tried car even tink idk gue keinget te...\n",
              "1995188099  Mon Jun 01 13:05:22 PDT 2009  ...  millvina dean last known survivor titanic pass...\n",
              "2071942859  Sun Jun 07 20:08:43 PDT 2009  ...           really like roger adam pascal plz amp ty\n",
              "\n",
              "[5 rows x 3 columns]"
            ]
          },
          "metadata": {
            "tags": []
          },
          "execution_count": 54
        }
      ]
    },
    {
      "cell_type": "markdown",
      "metadata": {
        "id": "MkgNIJsf7hh7",
        "colab_type": "text"
      },
      "source": [
        "# Visualization"
      ]
    },
    {
      "cell_type": "code",
      "metadata": {
        "id": "--M76Gga7hh7",
        "colab_type": "code",
        "colab": {}
      },
      "source": [
        "data_labels = Train[\"target\"].copy()#Target"
      ],
      "execution_count": 0,
      "outputs": []
    },
    {
      "cell_type": "code",
      "metadata": {
        "id": "aVJtKdMw7hh9",
        "colab_type": "code",
        "colab": {}
      },
      "source": [
        "#classes=[strongly negative (0), negative (1), neutral (2), positive (3), highly positive (4)]"
      ],
      "execution_count": 0,
      "outputs": []
    },
    {
      "cell_type": "code",
      "metadata": {
        "id": "vjtpi3YN7hh_",
        "colab_type": "code",
        "colab": {}
      },
      "source": [
        "classes, dist = np.unique(data_labels,return_counts=True)\n",
        "num_class=len(classes)\n",
        "print(\"Number of classes: {}\".format(num_class))"
      ],
      "execution_count": 0,
      "outputs": []
    },
    {
      "cell_type": "code",
      "metadata": {
        "id": "I6EKaZLN7hiC",
        "colab_type": "code",
        "colab": {}
      },
      "source": [
        "plt.bar(classes,dist,align='center',alpha=0.5)\n",
        "plt.show()"
      ],
      "execution_count": 0,
      "outputs": []
    },
    {
      "cell_type": "code",
      "metadata": {
        "id": "vxXOIKV67hiG",
        "colab_type": "code",
        "colab": {}
      },
      "source": [
        "#class_weight ={c:dist[c]/np.sum(dist) for c in classes}"
      ],
      "execution_count": 0,
      "outputs": []
    },
    {
      "cell_type": "code",
      "metadata": {
        "id": "mUtVhHDg7hiJ",
        "colab_type": "code",
        "colab": {}
      },
      "source": [
        ""
      ],
      "execution_count": 0,
      "outputs": []
    },
    {
      "cell_type": "code",
      "metadata": {
        "id": "oaBwHZxg7hiM",
        "colab_type": "code",
        "colab": {}
      },
      "source": [
        "#tokens = [token for token in s.split(\" \") if token != \"\"]"
      ],
      "execution_count": 0,
      "outputs": []
    },
    {
      "cell_type": "code",
      "metadata": {
        "id": "pOq3pl6s7hiP",
        "colab_type": "code",
        "colab": {}
      },
      "source": [
        "model = keras.models.Sequential([\n",
        "keras.layers.Flatten(input_shape=[28, 28]),\n",
        "keras.layers.Dense(300, activation=\"relu\"),\n",
        "keras.layers.Dense(100, activation=\"relu\"),\n",
        "keras.layers.Dense(10, activation=\"softmax\")\n",
        "])"
      ],
      "execution_count": 0,
      "outputs": []
    },
    {
      "cell_type": "code",
      "metadata": {
        "id": "w5xxwM-h7hiR",
        "colab_type": "code",
        "colab": {}
      },
      "source": [
        "model.summary()"
      ],
      "execution_count": 0,
      "outputs": []
    },
    {
      "cell_type": "code",
      "metadata": {
        "id": "3czbUY4R7hiU",
        "colab_type": "code",
        "colab": {}
      },
      "source": [
        "keras.utils.plot_model(model)"
      ],
      "execution_count": 0,
      "outputs": []
    },
    {
      "cell_type": "code",
      "metadata": {
        "id": "Hzwvi5kT7hiW",
        "colab_type": "code",
        "colab": {}
      },
      "source": [
        ""
      ],
      "execution_count": 0,
      "outputs": []
    },
    {
      "cell_type": "code",
      "metadata": {
        "id": "IOyrOmfa7hiY",
        "colab_type": "code",
        "colab": {}
      },
      "source": [
        ""
      ],
      "execution_count": 0,
      "outputs": []
    }
  ]
}