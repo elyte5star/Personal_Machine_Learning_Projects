{
 "cells": [
  {
   "cell_type": "markdown",
   "metadata": {},
   "source": [
    "<h1><strong><center>CS985: Machine Learning for Data Analytics </center></strong></h1>\n",
    "<h3><strong><center>Diego Green 201986869  -  Godspower Ogaga Uti 201956584  -  John Reid 201992904  -  Adem Arslan 201990657</center></strong></h3>\n",
    "<h3><strong><center>Team: Group M</center></strong></h3>\n",
    "\n",
    "<h1><strong><center>University of Strathclyde</center></strong></h1>"
   ]
  },
  {
   "cell_type": "markdown",
   "metadata": {},
   "source": [
    "<a id='Index'></a>\n",
    "<h1>Table of content:</h1>\n",
    "<font color = 'white' size=\"2\"> .</font>\n",
    "<font size=\"4\">\n",
    "    <ul>    \n",
    "        <li><a href='#Int'>Introduction</a></li>\n",
    "        <li><a href='#Key'>Key challenges</a></li>\n",
    "        <li><a href='#Architecture'>Final Architecture</a></li>\n",
    "        <li><a href='#Environment'>Environment and Packages</a></li>\n",
    "        <li><a href='#GA'>Dataset Summary, Analysis and Cleaning</a></li>\n",
    "        <ul><li><a href='#Summary'>General Summary</a></li>\n",
    "            <li><a href='#DataTrat'>Data Cleaning and Visualization</a></li></ul>\n",
    "        <li><a href='#Implementation'>Implementation</a></li>\n",
    "        <ul><li><a href='#Baseline'>Model Baseline</a></li>\n",
    "            <li><a href='#Ensambled'>Final Model Implementation</a></li>\n",
    "            <li><a href='#EnsVal'>Final Model Validation</a></li></ul>\n",
    "        <li><a href='#Prediction'>Model Predictions</a></li>\n",
    "        <li><a href='#Conclusion'>Reflections and Conclusion</a></li>\n",
    "        <li><a href='#PromModel'>Promising Models And Techniques Which Failed</a></li>\n",
    "        <ul><li><a href='#Adaboosting'>Adaboosting and Voting</a></li>\n",
    "            <li><a href='#AdaboostingBaggingModel'>Adaboosting Bagging Model</a></li></ul></ul>\n",
    "</font>         "
   ]
  },
  {
   "cell_type": "markdown",
   "metadata": {},
   "source": [
    "<a id='Int'></a>\n",
    "<h1>Introduction</h1>\n",
    "\n",
    "Spotify Technology S.A. is an international audio streaming service provider founded in April 2006 which in late 2008 launched the well-known app Spotify. Since the app was launched, the company went on to become a juggernaut in the music streaming industry. It's because of this that nowadays, Spotify contains a plethora of different artists from every generation and the songs that accompany the acclaimed names, providing over 50 million tracks and podcast for free to its 271 million montly users (including 124 million subscribers). [(February, 2020) - Newsroom.spotify.com](https://newsroom.spotify.com/2020-02-05/spotify-reports-fourth-quarter-and-full-year-2019-earnings)\n",
    "\n",
    "![title](https://developer.spotify.com/assets/branding-guidelines/logo@2x.png)\n",
    "<a href='#Index'>Back to index</a>"
   ]
  },
  {
   "cell_type": "markdown",
   "metadata": {},
   "source": [
    "<a id='Key'></a>\n",
    "<h1>Key Challenges</h1>\n",
    "\n",
    "The main task is to predict the popularity score of a song based on other attributes of the dataset. Determining this will be done by using different supervised learning techniques. The dataset that will be used in this task is a custom subset of the data set available in: [Spotify Past Decades Songs Attributes](https://www.kaggle.com/cnic92/spotify-past-decades-songs-50s10s), which includes approximately 450 songs released from 1950 to 2019.\n",
    "The main challenge of this task is to create a high performance-accurate machine learning model which is able to correctly  predict the song's popularity by the analysis of its attributes:\n",
    "<ul><li>Genre</li>\n",
    "    <li>Title</li>\n",
    "    <li>Artist - Band</li>\n",
    "    <li>Release year</li>\n",
    "    <li>Beats per minutes</li>\n",
    "    <li>Energy</li>\n",
    "    <li>Danceability</li>\n",
    "    <li>Loudness</li>\n",
    "    <li>Liveness</li>\n",
    "    <li>Balance</li>\n",
    "    <li>Duration</li>\n",
    "    <li>Acousticness</li>\n",
    "    <li>Speechiness</li>\n",
    "    <li>Popularity (Target)</li></ul>\n",
    "\n",
    "<div style=\"text-align: justify\">The first part of this notebook covers the exploration of the variables and attributes of the dataset. Furthermore, it gives a descriptive analysis of the variables.</div>\n",
    "<div style=\"text-align: justify\">The second part of this notebook will aim at creating different predictive models.</div>\n",
    "<div style=\"text-align: justify\">The final part covers the evaluation of the various models and the conclusion.</div> \n",
    "\n",
    "<a href='#Index'>Back to index</a>"
   ]
  },
  {
   "cell_type": "markdown",
   "metadata": {},
   "source": [
    "<a id='Architecture'></a>\n",
    "<h1>Final Architecture</h1>"
   ]
  },
  {
   "cell_type": "markdown",
   "metadata": {},
   "source": [
    "<div style=\"text-align: justify\">The final machine learning model created for this task is an ensemble (stacking) model which its base estimator is composed of three different weak learners (Lasso Regressor, KneighborsRegressor, and a SupportVectorM. Regressor), combined with a RandomForestRegressor (a strong ensemble learner).</div>\n",
    "\n",
    "\n",
    "<div style=\"text-align: justify\">Regarding the final estimator, we decided to use a LinearRegression model because we noticed that its cross-validation score was the best and most stable within the final estimators tested.\n",
    "Each of the base estimators has its hyperparameters optimized throughout a GridSearch based on RMSE score.</div>\n",
    "\n",
    "\n",
    "\n",
    "<div style=\"text-align: justify\">The reasons why these models were selected and how its parameters were configured is explained through the report.</div>"
   ]
  },
  {
   "cell_type": "markdown",
   "metadata": {},
   "source": [
    "<a href='#Index'>Back to index</a>"
   ]
  },
  {
   "cell_type": "markdown",
   "metadata": {},
   "source": [
    "<a id='Environment'></a>\n",
    "<h1>Environment and Packages</h1>\n",
    "\n",
    "<ul><li>Python version: Python 3.7\n",
    "<li>Jupyter Notebook Version: 6.0.0\n",
    "<li>Anaconda Navigator Version: 1.9.7\n",
    "<li>Packages used:\n",
    "<ul><li>Sys</li>\n",
    "    <li>Pandas: Data Analysis and Manipulation tool - Open source Python Data Analysis Library</li>\n",
    "    <li>Seaborn: Main Plotting tool</li>\n",
    "    <li>Matplotlib.pyplot: Plotting tool</li>\n",
    "    <li>Numpy: Used for data manipulation</li>\n",
    "    <li>scipy.stats: Statistical functions</li>\n",
    "    <li>statsmodels.graphics.api</li>\n",
    "    <li>Sklearn: machine learning library </li>\n",
    "    <ul><li>base.clone</li>\n",
    "        <li>preprocessing.MinMaxScaler</li>\n",
    "        <li>preprocessing.OneHotEncoder</li>\n",
    "        <li>preprocessing.PowerTransformer</li>\n",
    "        <li>model_selection.GridSearchCV</li>\n",
    "        <li>model_selection.KFold</li>\n",
    "        <li>model_selection.cross_validate</li>\n",
    "        <li>pipeline.Pipeline</li>\n",
    "        <li>pipeline.FeatureUnion</li>\n",
    "        <li>base.BaseEstimator</li>\n",
    "        <li>base.TransformerMixin</li>\n",
    "        <li>metrics.mean_absolute_error</li>\n",
    "        <li>metrics.r2_score</li>\n",
    "        <li>metrics.mean_squared_error</li>\n",
    "        <li>impute.SimpleImputer</li>\n",
    "        <li>linear_model.Lasso</li>\n",
    "        <li>linear_model.LassoCV</li>\n",
    "        <li>linear_model.LinearRegression</li>\n",
    "        <li>neighbors.KNeighborsRegressor</li>\n",
    "        <li>svm.SVR</li>\n",
    "        <li>ensemble.RandomForestRegressor</li>\n",
    "        <li>ensemble.VotingRegressor</li>\n",
    "        <li>ensemble.StackingRegressor</li></ul></ul>\n",
    "\n",
    "Explanation of why there package are needed / used can be found within the code before using them.\n",
    "\n"
   ]
  },
  {
   "cell_type": "code",
   "execution_count": 1,
   "metadata": {},
   "outputs": [
    {
     "name": "stdout",
     "output_type": "stream",
     "text": [
      "Running Panda Version:0.25.1\n",
      "Running Python 3.7\n"
     ]
    }
   ],
   "source": [
    "# Code is compatible with Python 3.X\n",
    "import warnings\n",
    "import sys\n",
    "import pandas as pd\n",
    "import numpy as np\n",
    "import seaborn as sb\n",
    "import matplotlib.pyplot as plt\n",
    "from pandas.plotting import scatter_matrix\n",
    "from scipy import stats\n",
    "import statsmodels.graphics.api as smg\n",
    "import statsmodels.api as sm\n",
    "from sklearn.base import clone \n",
    "from sklearn import metrics\n",
    "from sklearn.metrics import mean_absolute_error\n",
    "from sklearn.metrics import r2_score\n",
    "from sklearn.metrics import mean_squared_error\n",
    "from sklearn.model_selection import cross_val_score\n",
    "from sklearn.model_selection import KFold\n",
    "from sklearn.model_selection import GridSearchCV\n",
    "from sklearn.preprocessing import OneHotEncoder\n",
    "from sklearn.preprocessing import PowerTransformer\n",
    "from sklearn.preprocessing import MinMaxScaler\n",
    "from sklearn.pipeline import Pipeline\n",
    "from sklearn.pipeline import FeatureUnion\n",
    "from sklearn.base import BaseEstimator, TransformerMixin\n",
    "from sklearn.svm import SVR\n",
    "from sklearn.linear_model import Lasso\n",
    "from sklearn.linear_model import LassoCV\n",
    "from sklearn.linear_model import LinearRegression\n",
    "from sklearn.impute import SimpleImputer\n",
    "from sklearn.neighbors import KNeighborsRegressor\n",
    "from sklearn.ensemble import RandomForestRegressor\n",
    "from sklearn.ensemble import VotingRegressor \n",
    "from sklearn.ensemble import VotingRegressor\n",
    "from sklearn.ensemble import StackingRegressor\n",
    "sb.set_style(\"whitegrid\")\n",
    "warnings.filterwarnings(\"ignore\")\n",
    "print(\"Running Panda Version:\"+pd.__version__)\n",
    "print(\"Running Python {0}.{1}\".format(sys.version_info[:2][0],sys.version_info[:2][1]))"
   ]
  },
  {
   "cell_type": "markdown",
   "metadata": {},
   "source": [
    "<a href='#Index'>Back to index</a>"
   ]
  },
  {
   "cell_type": "markdown",
   "metadata": {},
   "source": [
    "<a id='GA'></a>\n",
    "<h1>Dataset Summary, Analysis and Cleaning</h1>\n"
   ]
  },
  {
   "cell_type": "markdown",
   "metadata": {},
   "source": [
    "<a id='Summary'></a>\n",
    "<h2>General Summary</h2>"
   ]
  },
  {
   "cell_type": "markdown",
   "metadata": {},
   "source": [
    "<h3> Load dataset </h3>"
   ]
  },
  {
   "cell_type": "code",
   "execution_count": 2,
   "metadata": {},
   "outputs": [],
   "source": [
    "#Load datasets\n",
    "Train = pd.read_csv('CS98XRegressionTrain.csv',na_values=['NA'])# making data frame from csv file(Train dataset) \n",
    "Train = Train.set_index('Id')#set the Id column as the index\n",
    "Test = pd.read_csv('CS98XRegressionTest.csv')# making data frame from csv file(Test dataset) \n",
    "Test=Test.set_index('Id')#set the Id column as the index"
   ]
  },
  {
   "cell_type": "markdown",
   "metadata": {},
   "source": [
    "First of all, an insight of both datasets are performed in order to obtain some basic information such as dimensions, features, datatypes and descriptive statistics of the dataset."
   ]
  },
  {
   "cell_type": "markdown",
   "metadata": {},
   "source": [
    "#### Dataset's shapes"
   ]
  },
  {
   "cell_type": "code",
   "execution_count": 3,
   "metadata": {},
   "outputs": [
    {
     "name": "stdout",
     "output_type": "stream",
     "text": [
      "Train dataset has 453 rows and 14 columns.\n",
      "Test dataset has 114 rows and 13 columns.\n"
     ]
    }
   ],
   "source": [
    "print(f'Train dataset has {Train.shape[0]} rows and {Train.shape[1]} columns.')\n",
    "print(f'Test dataset has {Test.shape[0]} rows and {Test.shape[1]} columns.')"
   ]
  },
  {
   "cell_type": "markdown",
   "metadata": {},
   "source": [
    "#### Dataset's columns"
   ]
  },
  {
   "cell_type": "code",
   "execution_count": 4,
   "metadata": {},
   "outputs": [
    {
     "name": "stdout",
     "output_type": "stream",
     "text": [
      "Train Dataset columns: \n",
      " ['title' 'artist' 'top genre' 'year' 'bpm' 'nrgy' 'dnce' 'dB' 'live' 'val'\n",
      " 'dur' 'acous' 'spch' 'pop'] \n",
      "\n",
      "Test Dataset columns: \n",
      " ['title' 'artist' 'top genre' 'year' 'bpm' 'nrgy' 'dnce' 'dB' 'live' 'val'\n",
      " 'dur' 'acous' 'spch']\n"
     ]
    }
   ],
   "source": [
    "print('Train Dataset columns: \\n',Train.columns.values,'\\n')\n",
    "print('Test Dataset columns: \\n',Test.columns.values)"
   ]
  },
  {
   "cell_type": "code",
   "execution_count": 7,
   "metadata": {},
   "outputs": [
    {
     "name": "stdout",
     "output_type": "stream",
     "text": [
      "title\n",
      "artist\n",
      "top genre\n"
     ]
    }
   ],
   "source": [
    "for key, value in Train.iteritems(): #Categorical columns\n",
    "        if value.dtypes == object:\n",
    "            print(key)"
   ]
  },
  {
   "cell_type": "markdown",
   "metadata": {},
   "source": [
    "#### Dataset's random rows"
   ]
  },
  {
   "cell_type": "code",
   "execution_count": 5,
   "metadata": {},
   "outputs": [
    {
     "data": {
      "text/html": [
       "<div>\n",
       "<style scoped>\n",
       "    .dataframe tbody tr th:only-of-type {\n",
       "        vertical-align: middle;\n",
       "    }\n",
       "\n",
       "    .dataframe tbody tr th {\n",
       "        vertical-align: top;\n",
       "    }\n",
       "\n",
       "    .dataframe thead th {\n",
       "        text-align: right;\n",
       "    }\n",
       "</style>\n",
       "<table border=\"1\" class=\"dataframe\">\n",
       "  <thead>\n",
       "    <tr style=\"text-align: right;\">\n",
       "      <th></th>\n",
       "      <th>title</th>\n",
       "      <th>artist</th>\n",
       "      <th>top genre</th>\n",
       "      <th>year</th>\n",
       "      <th>bpm</th>\n",
       "      <th>nrgy</th>\n",
       "      <th>dnce</th>\n",
       "      <th>dB</th>\n",
       "      <th>live</th>\n",
       "      <th>val</th>\n",
       "      <th>dur</th>\n",
       "      <th>acous</th>\n",
       "      <th>spch</th>\n",
       "      <th>pop</th>\n",
       "    </tr>\n",
       "    <tr>\n",
       "      <th>Id</th>\n",
       "      <th></th>\n",
       "      <th></th>\n",
       "      <th></th>\n",
       "      <th></th>\n",
       "      <th></th>\n",
       "      <th></th>\n",
       "      <th></th>\n",
       "      <th></th>\n",
       "      <th></th>\n",
       "      <th></th>\n",
       "      <th></th>\n",
       "      <th></th>\n",
       "      <th></th>\n",
       "      <th></th>\n",
       "    </tr>\n",
       "  </thead>\n",
       "  <tbody>\n",
       "    <tr>\n",
       "      <td>66</td>\n",
       "      <td>Pony</td>\n",
       "      <td>Ginuwine</td>\n",
       "      <td>dance pop</td>\n",
       "      <td>1999</td>\n",
       "      <td>142</td>\n",
       "      <td>61</td>\n",
       "      <td>75</td>\n",
       "      <td>-9</td>\n",
       "      <td>12</td>\n",
       "      <td>97</td>\n",
       "      <td>252</td>\n",
       "      <td>0</td>\n",
       "      <td>9</td>\n",
       "      <td>72</td>\n",
       "    </tr>\n",
       "    <tr>\n",
       "      <td>205</td>\n",
       "      <td>American Boy</td>\n",
       "      <td>Estelle</td>\n",
       "      <td>r&amp;b</td>\n",
       "      <td>2008</td>\n",
       "      <td>118</td>\n",
       "      <td>73</td>\n",
       "      <td>73</td>\n",
       "      <td>-3</td>\n",
       "      <td>7</td>\n",
       "      <td>51</td>\n",
       "      <td>285</td>\n",
       "      <td>17</td>\n",
       "      <td>33</td>\n",
       "      <td>79</td>\n",
       "    </tr>\n",
       "    <tr>\n",
       "      <td>368</td>\n",
       "      <td>Ain't Got No Home</td>\n",
       "      <td>Clarence \"Frogman\" Henry</td>\n",
       "      <td>louisiana blues</td>\n",
       "      <td>2013</td>\n",
       "      <td>84</td>\n",
       "      <td>33</td>\n",
       "      <td>66</td>\n",
       "      <td>-16</td>\n",
       "      <td>9</td>\n",
       "      <td>53</td>\n",
       "      <td>143</td>\n",
       "      <td>69</td>\n",
       "      <td>9</td>\n",
       "      <td>36</td>\n",
       "    </tr>\n",
       "    <tr>\n",
       "      <td>255</td>\n",
       "      <td>I Know What You Want (feat. Flipmode Squad)</td>\n",
       "      <td>Busta Rhymes</td>\n",
       "      <td>east coast hip hop</td>\n",
       "      <td>2002</td>\n",
       "      <td>86</td>\n",
       "      <td>75</td>\n",
       "      <td>56</td>\n",
       "      <td>-4</td>\n",
       "      <td>64</td>\n",
       "      <td>49</td>\n",
       "      <td>324</td>\n",
       "      <td>1</td>\n",
       "      <td>32</td>\n",
       "      <td>56</td>\n",
       "    </tr>\n",
       "    <tr>\n",
       "      <td>102</td>\n",
       "      <td>Hurts So Good</td>\n",
       "      <td>John Mellencamp</td>\n",
       "      <td>album rock</td>\n",
       "      <td>1982</td>\n",
       "      <td>125</td>\n",
       "      <td>74</td>\n",
       "      <td>79</td>\n",
       "      <td>-5</td>\n",
       "      <td>11</td>\n",
       "      <td>97</td>\n",
       "      <td>219</td>\n",
       "      <td>4</td>\n",
       "      <td>4</td>\n",
       "      <td>69</td>\n",
       "    </tr>\n",
       "  </tbody>\n",
       "</table>\n",
       "</div>"
      ],
      "text/plain": [
       "                                           title                    artist  \\\n",
       "Id                                                                           \n",
       "66                                          Pony                  Ginuwine   \n",
       "205                                 American Boy                   Estelle   \n",
       "368                            Ain't Got No Home  Clarence \"Frogman\" Henry   \n",
       "255  I Know What You Want (feat. Flipmode Squad)              Busta Rhymes   \n",
       "102                                Hurts So Good           John Mellencamp   \n",
       "\n",
       "              top genre  year  bpm  nrgy  dnce  dB  live  val  dur  acous  \\\n",
       "Id                                                                          \n",
       "66            dance pop  1999  142    61    75  -9    12   97  252      0   \n",
       "205                 r&b  2008  118    73    73  -3     7   51  285     17   \n",
       "368     louisiana blues  2013   84    33    66 -16     9   53  143     69   \n",
       "255  east coast hip hop  2002   86    75    56  -4    64   49  324      1   \n",
       "102          album rock  1982  125    74    79  -5    11   97  219      4   \n",
       "\n",
       "     spch  pop  \n",
       "Id              \n",
       "66      9   72  \n",
       "205    33   79  \n",
       "368     9   36  \n",
       "255    32   56  \n",
       "102     4   69  "
      ]
     },
     "execution_count": 5,
     "metadata": {},
     "output_type": "execute_result"
    }
   ],
   "source": [
    "Train.sample(5)"
   ]
  },
  {
   "cell_type": "code",
   "execution_count": 6,
   "metadata": {},
   "outputs": [
    {
     "data": {
      "text/html": [
       "<div>\n",
       "<style scoped>\n",
       "    .dataframe tbody tr th:only-of-type {\n",
       "        vertical-align: middle;\n",
       "    }\n",
       "\n",
       "    .dataframe tbody tr th {\n",
       "        vertical-align: top;\n",
       "    }\n",
       "\n",
       "    .dataframe thead th {\n",
       "        text-align: right;\n",
       "    }\n",
       "</style>\n",
       "<table border=\"1\" class=\"dataframe\">\n",
       "  <thead>\n",
       "    <tr style=\"text-align: right;\">\n",
       "      <th></th>\n",
       "      <th>title</th>\n",
       "      <th>artist</th>\n",
       "      <th>top genre</th>\n",
       "      <th>year</th>\n",
       "      <th>bpm</th>\n",
       "      <th>nrgy</th>\n",
       "      <th>dnce</th>\n",
       "      <th>dB</th>\n",
       "      <th>live</th>\n",
       "      <th>val</th>\n",
       "      <th>dur</th>\n",
       "      <th>acous</th>\n",
       "      <th>spch</th>\n",
       "    </tr>\n",
       "    <tr>\n",
       "      <th>Id</th>\n",
       "      <th></th>\n",
       "      <th></th>\n",
       "      <th></th>\n",
       "      <th></th>\n",
       "      <th></th>\n",
       "      <th></th>\n",
       "      <th></th>\n",
       "      <th></th>\n",
       "      <th></th>\n",
       "      <th></th>\n",
       "      <th></th>\n",
       "      <th></th>\n",
       "      <th></th>\n",
       "    </tr>\n",
       "  </thead>\n",
       "  <tbody>\n",
       "    <tr>\n",
       "      <td>535</td>\n",
       "      <td>I'm Still Standing</td>\n",
       "      <td>Elton John</td>\n",
       "      <td>glam rock</td>\n",
       "      <td>1983</td>\n",
       "      <td>177</td>\n",
       "      <td>90</td>\n",
       "      <td>50</td>\n",
       "      <td>-7</td>\n",
       "      <td>14</td>\n",
       "      <td>77</td>\n",
       "      <td>183</td>\n",
       "      <td>36</td>\n",
       "      <td>18</td>\n",
       "    </tr>\n",
       "    <tr>\n",
       "      <td>478</td>\n",
       "      <td>Ringo</td>\n",
       "      <td>Lorne Greene</td>\n",
       "      <td>cowboy western</td>\n",
       "      <td>1964</td>\n",
       "      <td>111</td>\n",
       "      <td>52</td>\n",
       "      <td>56</td>\n",
       "      <td>-13</td>\n",
       "      <td>22</td>\n",
       "      <td>65</td>\n",
       "      <td>214</td>\n",
       "      <td>86</td>\n",
       "      <td>31</td>\n",
       "    </tr>\n",
       "    <tr>\n",
       "      <td>473</td>\n",
       "      <td>Right Round</td>\n",
       "      <td>Flo Rida</td>\n",
       "      <td>dance pop</td>\n",
       "      <td>2009</td>\n",
       "      <td>125</td>\n",
       "      <td>67</td>\n",
       "      <td>72</td>\n",
       "      <td>-7</td>\n",
       "      <td>23</td>\n",
       "      <td>71</td>\n",
       "      <td>205</td>\n",
       "      <td>1</td>\n",
       "      <td>6</td>\n",
       "    </tr>\n",
       "    <tr>\n",
       "      <td>518</td>\n",
       "      <td>Numb / Encore</td>\n",
       "      <td>JAY-Z</td>\n",
       "      <td>east coast hip hop</td>\n",
       "      <td>2004</td>\n",
       "      <td>107</td>\n",
       "      <td>80</td>\n",
       "      <td>69</td>\n",
       "      <td>-4</td>\n",
       "      <td>55</td>\n",
       "      <td>80</td>\n",
       "      <td>205</td>\n",
       "      <td>6</td>\n",
       "      <td>16</td>\n",
       "    </tr>\n",
       "    <tr>\n",
       "      <td>548</td>\n",
       "      <td>One More Night - 2016 Remaster</td>\n",
       "      <td>Phil Collins</td>\n",
       "      <td>mellow gold</td>\n",
       "      <td>1985</td>\n",
       "      <td>136</td>\n",
       "      <td>44</td>\n",
       "      <td>53</td>\n",
       "      <td>-9</td>\n",
       "      <td>10</td>\n",
       "      <td>34</td>\n",
       "      <td>289</td>\n",
       "      <td>79</td>\n",
       "      <td>3</td>\n",
       "    </tr>\n",
       "  </tbody>\n",
       "</table>\n",
       "</div>"
      ],
      "text/plain": [
       "                              title        artist           top genre  year  \\\n",
       "Id                                                                            \n",
       "535              I'm Still Standing    Elton John           glam rock  1983   \n",
       "478                           Ringo  Lorne Greene      cowboy western  1964   \n",
       "473                     Right Round      Flo Rida           dance pop  2009   \n",
       "518                   Numb / Encore         JAY-Z  east coast hip hop  2004   \n",
       "548  One More Night - 2016 Remaster  Phil Collins         mellow gold  1985   \n",
       "\n",
       "     bpm  nrgy  dnce  dB  live  val  dur  acous  spch  \n",
       "Id                                                     \n",
       "535  177    90    50  -7    14   77  183     36    18  \n",
       "478  111    52    56 -13    22   65  214     86    31  \n",
       "473  125    67    72  -7    23   71  205      1     6  \n",
       "518  107    80    69  -4    55   80  205      6    16  \n",
       "548  136    44    53  -9    10   34  289     79     3  "
      ]
     },
     "execution_count": 6,
     "metadata": {},
     "output_type": "execute_result"
    }
   ],
   "source": [
    "Test.sample(5)"
   ]
  },
  {
   "cell_type": "markdown",
   "metadata": {},
   "source": [
    "#### Dataset's features types"
   ]
  },
  {
   "cell_type": "code",
   "execution_count": 7,
   "metadata": {},
   "outputs": [
    {
     "name": "stdout",
     "output_type": "stream",
     "text": [
      "Train Dataset Features types:\n",
      "<class 'pandas.core.frame.DataFrame'>\n",
      "Int64Index: 453 entries, 1 to 453\n",
      "Data columns (total 14 columns):\n",
      "title        453 non-null object\n",
      "artist       453 non-null object\n",
      "top genre    438 non-null object\n",
      "year         453 non-null int64\n",
      "bpm          453 non-null int64\n",
      "nrgy         453 non-null int64\n",
      "dnce         453 non-null int64\n",
      "dB           453 non-null int64\n",
      "live         453 non-null int64\n",
      "val          453 non-null int64\n",
      "dur          453 non-null int64\n",
      "acous        453 non-null int64\n",
      "spch         453 non-null int64\n",
      "pop          453 non-null int64\n",
      "dtypes: int64(11), object(3)\n",
      "memory usage: 53.1+ KB\n"
     ]
    }
   ],
   "source": [
    "print('Train Dataset Features types:')\n",
    "Train.info()#quick description of the data"
   ]
  },
  {
   "cell_type": "code",
   "execution_count": 8,
   "metadata": {},
   "outputs": [
    {
     "name": "stdout",
     "output_type": "stream",
     "text": [
      "Test Dataset Features types:\n",
      "<class 'pandas.core.frame.DataFrame'>\n",
      "Int64Index: 114 entries, 454 to 567\n",
      "Data columns (total 13 columns):\n",
      "title        114 non-null object\n",
      "artist       114 non-null object\n",
      "top genre    113 non-null object\n",
      "year         114 non-null int64\n",
      "bpm          114 non-null int64\n",
      "nrgy         114 non-null int64\n",
      "dnce         114 non-null int64\n",
      "dB           114 non-null int64\n",
      "live         114 non-null int64\n",
      "val          114 non-null int64\n",
      "dur          114 non-null int64\n",
      "acous        114 non-null int64\n",
      "spch         114 non-null int64\n",
      "dtypes: int64(10), object(3)\n",
      "memory usage: 12.5+ KB\n"
     ]
    }
   ],
   "source": [
    "print('Test Dataset Features types:')\n",
    "Test.info()#quick description of the data"
   ]
  },
  {
   "cell_type": "markdown",
   "metadata": {},
   "source": [
    "####  Some Descriptive Statistic for both dataset"
   ]
  },
  {
   "cell_type": "code",
   "execution_count": 9,
   "metadata": {},
   "outputs": [
    {
     "name": "stdout",
     "output_type": "stream",
     "text": [
      "Descriptive Statistics for categorical features on Train Dataset\n"
     ]
    },
    {
     "data": {
      "text/html": [
       "<div>\n",
       "<style scoped>\n",
       "    .dataframe tbody tr th:only-of-type {\n",
       "        vertical-align: middle;\n",
       "    }\n",
       "\n",
       "    .dataframe tbody tr th {\n",
       "        vertical-align: top;\n",
       "    }\n",
       "\n",
       "    .dataframe thead th {\n",
       "        text-align: right;\n",
       "    }\n",
       "</style>\n",
       "<table border=\"1\" class=\"dataframe\">\n",
       "  <thead>\n",
       "    <tr style=\"text-align: right;\">\n",
       "      <th></th>\n",
       "      <th>title</th>\n",
       "      <th>artist</th>\n",
       "      <th>top genre</th>\n",
       "    </tr>\n",
       "  </thead>\n",
       "  <tbody>\n",
       "    <tr>\n",
       "      <td>count</td>\n",
       "      <td>453</td>\n",
       "      <td>453</td>\n",
       "      <td>438</td>\n",
       "    </tr>\n",
       "    <tr>\n",
       "      <td>unique</td>\n",
       "      <td>451</td>\n",
       "      <td>345</td>\n",
       "      <td>86</td>\n",
       "    </tr>\n",
       "    <tr>\n",
       "      <td>top</td>\n",
       "      <td>Take Good Care Of My Baby - 1990 Remastered</td>\n",
       "      <td>Elton John</td>\n",
       "      <td>adult standards</td>\n",
       "    </tr>\n",
       "    <tr>\n",
       "      <td>freq</td>\n",
       "      <td>2</td>\n",
       "      <td>9</td>\n",
       "      <td>68</td>\n",
       "    </tr>\n",
       "  </tbody>\n",
       "</table>\n",
       "</div>"
      ],
      "text/plain": [
       "                                              title      artist  \\\n",
       "count                                           453         453   \n",
       "unique                                          451         345   \n",
       "top     Take Good Care Of My Baby - 1990 Remastered  Elton John   \n",
       "freq                                              2           9   \n",
       "\n",
       "              top genre  \n",
       "count               438  \n",
       "unique               86  \n",
       "top     adult standards  \n",
       "freq                 68  "
      ]
     },
     "execution_count": 9,
     "metadata": {},
     "output_type": "execute_result"
    }
   ],
   "source": [
    "print('Descriptive Statistics for categorical features on Train Dataset')\n",
    "Train.describe(include=np.object)"
   ]
  },
  {
   "cell_type": "code",
   "execution_count": 10,
   "metadata": {},
   "outputs": [
    {
     "name": "stdout",
     "output_type": "stream",
     "text": [
      "Descriptive Statistics for numerical features on Train Dataset\n"
     ]
    },
    {
     "data": {
      "text/html": [
       "<div>\n",
       "<style scoped>\n",
       "    .dataframe tbody tr th:only-of-type {\n",
       "        vertical-align: middle;\n",
       "    }\n",
       "\n",
       "    .dataframe tbody tr th {\n",
       "        vertical-align: top;\n",
       "    }\n",
       "\n",
       "    .dataframe thead th {\n",
       "        text-align: right;\n",
       "    }\n",
       "</style>\n",
       "<table border=\"1\" class=\"dataframe\">\n",
       "  <thead>\n",
       "    <tr style=\"text-align: right;\">\n",
       "      <th></th>\n",
       "      <th>year</th>\n",
       "      <th>bpm</th>\n",
       "      <th>nrgy</th>\n",
       "      <th>dnce</th>\n",
       "      <th>dB</th>\n",
       "      <th>live</th>\n",
       "      <th>val</th>\n",
       "      <th>dur</th>\n",
       "      <th>acous</th>\n",
       "      <th>spch</th>\n",
       "      <th>pop</th>\n",
       "    </tr>\n",
       "  </thead>\n",
       "  <tbody>\n",
       "    <tr>\n",
       "      <td>count</td>\n",
       "      <td>453.000000</td>\n",
       "      <td>453.000000</td>\n",
       "      <td>453.000000</td>\n",
       "      <td>453.000000</td>\n",
       "      <td>453.000000</td>\n",
       "      <td>453.000000</td>\n",
       "      <td>453.000000</td>\n",
       "      <td>453.000000</td>\n",
       "      <td>453.000000</td>\n",
       "      <td>453.000000</td>\n",
       "      <td>453.000000</td>\n",
       "    </tr>\n",
       "    <tr>\n",
       "      <td>mean</td>\n",
       "      <td>1991.443709</td>\n",
       "      <td>118.399558</td>\n",
       "      <td>60.070640</td>\n",
       "      <td>59.565121</td>\n",
       "      <td>-8.836645</td>\n",
       "      <td>17.757174</td>\n",
       "      <td>59.465784</td>\n",
       "      <td>226.278146</td>\n",
       "      <td>32.982340</td>\n",
       "      <td>5.660044</td>\n",
       "      <td>60.743929</td>\n",
       "    </tr>\n",
       "    <tr>\n",
       "      <td>std</td>\n",
       "      <td>16.776103</td>\n",
       "      <td>25.238713</td>\n",
       "      <td>22.205284</td>\n",
       "      <td>15.484458</td>\n",
       "      <td>3.577187</td>\n",
       "      <td>13.830300</td>\n",
       "      <td>24.539868</td>\n",
       "      <td>63.770380</td>\n",
       "      <td>29.530015</td>\n",
       "      <td>5.550581</td>\n",
       "      <td>13.470083</td>\n",
       "    </tr>\n",
       "    <tr>\n",
       "      <td>min</td>\n",
       "      <td>1948.000000</td>\n",
       "      <td>62.000000</td>\n",
       "      <td>7.000000</td>\n",
       "      <td>18.000000</td>\n",
       "      <td>-24.000000</td>\n",
       "      <td>2.000000</td>\n",
       "      <td>6.000000</td>\n",
       "      <td>98.000000</td>\n",
       "      <td>0.000000</td>\n",
       "      <td>2.000000</td>\n",
       "      <td>26.000000</td>\n",
       "    </tr>\n",
       "    <tr>\n",
       "      <td>25%</td>\n",
       "      <td>1976.000000</td>\n",
       "      <td>100.000000</td>\n",
       "      <td>43.000000</td>\n",
       "      <td>49.000000</td>\n",
       "      <td>-11.000000</td>\n",
       "      <td>9.000000</td>\n",
       "      <td>42.000000</td>\n",
       "      <td>181.000000</td>\n",
       "      <td>7.000000</td>\n",
       "      <td>3.000000</td>\n",
       "      <td>53.000000</td>\n",
       "    </tr>\n",
       "    <tr>\n",
       "      <td>50%</td>\n",
       "      <td>1994.000000</td>\n",
       "      <td>119.000000</td>\n",
       "      <td>63.000000</td>\n",
       "      <td>61.000000</td>\n",
       "      <td>-8.000000</td>\n",
       "      <td>13.000000</td>\n",
       "      <td>61.000000</td>\n",
       "      <td>223.000000</td>\n",
       "      <td>24.000000</td>\n",
       "      <td>4.000000</td>\n",
       "      <td>63.000000</td>\n",
       "    </tr>\n",
       "    <tr>\n",
       "      <td>75%</td>\n",
       "      <td>2007.000000</td>\n",
       "      <td>133.000000</td>\n",
       "      <td>78.000000</td>\n",
       "      <td>70.000000</td>\n",
       "      <td>-6.000000</td>\n",
       "      <td>23.000000</td>\n",
       "      <td>80.000000</td>\n",
       "      <td>262.000000</td>\n",
       "      <td>58.000000</td>\n",
       "      <td>6.000000</td>\n",
       "      <td>71.000000</td>\n",
       "    </tr>\n",
       "    <tr>\n",
       "      <td>max</td>\n",
       "      <td>2019.000000</td>\n",
       "      <td>199.000000</td>\n",
       "      <td>100.000000</td>\n",
       "      <td>96.000000</td>\n",
       "      <td>-1.000000</td>\n",
       "      <td>93.000000</td>\n",
       "      <td>99.000000</td>\n",
       "      <td>511.000000</td>\n",
       "      <td>100.000000</td>\n",
       "      <td>47.000000</td>\n",
       "      <td>84.000000</td>\n",
       "    </tr>\n",
       "  </tbody>\n",
       "</table>\n",
       "</div>"
      ],
      "text/plain": [
       "              year         bpm        nrgy        dnce          dB  \\\n",
       "count   453.000000  453.000000  453.000000  453.000000  453.000000   \n",
       "mean   1991.443709  118.399558   60.070640   59.565121   -8.836645   \n",
       "std      16.776103   25.238713   22.205284   15.484458    3.577187   \n",
       "min    1948.000000   62.000000    7.000000   18.000000  -24.000000   \n",
       "25%    1976.000000  100.000000   43.000000   49.000000  -11.000000   \n",
       "50%    1994.000000  119.000000   63.000000   61.000000   -8.000000   \n",
       "75%    2007.000000  133.000000   78.000000   70.000000   -6.000000   \n",
       "max    2019.000000  199.000000  100.000000   96.000000   -1.000000   \n",
       "\n",
       "             live         val         dur       acous        spch         pop  \n",
       "count  453.000000  453.000000  453.000000  453.000000  453.000000  453.000000  \n",
       "mean    17.757174   59.465784  226.278146   32.982340    5.660044   60.743929  \n",
       "std     13.830300   24.539868   63.770380   29.530015    5.550581   13.470083  \n",
       "min      2.000000    6.000000   98.000000    0.000000    2.000000   26.000000  \n",
       "25%      9.000000   42.000000  181.000000    7.000000    3.000000   53.000000  \n",
       "50%     13.000000   61.000000  223.000000   24.000000    4.000000   63.000000  \n",
       "75%     23.000000   80.000000  262.000000   58.000000    6.000000   71.000000  \n",
       "max     93.000000   99.000000  511.000000  100.000000   47.000000   84.000000  "
      ]
     },
     "execution_count": 10,
     "metadata": {},
     "output_type": "execute_result"
    }
   ],
   "source": [
    "print('Descriptive Statistics for numerical features on Train Dataset')\n",
    "Train.describe()"
   ]
  },
  {
   "cell_type": "code",
   "execution_count": 11,
   "metadata": {},
   "outputs": [
    {
     "name": "stdout",
     "output_type": "stream",
     "text": [
      "Descriptive Statistics for categorical features on Test Dataset\n"
     ]
    },
    {
     "data": {
      "text/html": [
       "<div>\n",
       "<style scoped>\n",
       "    .dataframe tbody tr th:only-of-type {\n",
       "        vertical-align: middle;\n",
       "    }\n",
       "\n",
       "    .dataframe tbody tr th {\n",
       "        vertical-align: top;\n",
       "    }\n",
       "\n",
       "    .dataframe thead th {\n",
       "        text-align: right;\n",
       "    }\n",
       "</style>\n",
       "<table border=\"1\" class=\"dataframe\">\n",
       "  <thead>\n",
       "    <tr style=\"text-align: right;\">\n",
       "      <th></th>\n",
       "      <th>title</th>\n",
       "      <th>artist</th>\n",
       "      <th>top genre</th>\n",
       "    </tr>\n",
       "  </thead>\n",
       "  <tbody>\n",
       "    <tr>\n",
       "      <td>count</td>\n",
       "      <td>114</td>\n",
       "      <td>114</td>\n",
       "      <td>113</td>\n",
       "    </tr>\n",
       "    <tr>\n",
       "      <td>unique</td>\n",
       "      <td>114</td>\n",
       "      <td>101</td>\n",
       "      <td>39</td>\n",
       "    </tr>\n",
       "    <tr>\n",
       "      <td>top</td>\n",
       "      <td>Evergreen (Love Theme from, \"A Star Is Born\")</td>\n",
       "      <td>Queen</td>\n",
       "      <td>adult standards</td>\n",
       "    </tr>\n",
       "    <tr>\n",
       "      <td>freq</td>\n",
       "      <td>1</td>\n",
       "      <td>4</td>\n",
       "      <td>25</td>\n",
       "    </tr>\n",
       "  </tbody>\n",
       "</table>\n",
       "</div>"
      ],
      "text/plain": [
       "                                                title artist        top genre\n",
       "count                                             114    114              113\n",
       "unique                                            114    101               39\n",
       "top     Evergreen (Love Theme from, \"A Star Is Born\")  Queen  adult standards\n",
       "freq                                                1      4               25"
      ]
     },
     "execution_count": 11,
     "metadata": {},
     "output_type": "execute_result"
    }
   ],
   "source": [
    "print('Descriptive Statistics for categorical features on Test Dataset')\n",
    "Test.describe(include=np.object)"
   ]
  },
  {
   "cell_type": "code",
   "execution_count": 12,
   "metadata": {
    "scrolled": true
   },
   "outputs": [
    {
     "name": "stdout",
     "output_type": "stream",
     "text": [
      "Descriptive Statistics for numerical features on Test Dataset\n"
     ]
    },
    {
     "data": {
      "text/html": [
       "<div>\n",
       "<style scoped>\n",
       "    .dataframe tbody tr th:only-of-type {\n",
       "        vertical-align: middle;\n",
       "    }\n",
       "\n",
       "    .dataframe tbody tr th {\n",
       "        vertical-align: top;\n",
       "    }\n",
       "\n",
       "    .dataframe thead th {\n",
       "        text-align: right;\n",
       "    }\n",
       "</style>\n",
       "<table border=\"1\" class=\"dataframe\">\n",
       "  <thead>\n",
       "    <tr style=\"text-align: right;\">\n",
       "      <th></th>\n",
       "      <th>year</th>\n",
       "      <th>bpm</th>\n",
       "      <th>nrgy</th>\n",
       "      <th>dnce</th>\n",
       "      <th>dB</th>\n",
       "      <th>live</th>\n",
       "      <th>val</th>\n",
       "      <th>dur</th>\n",
       "      <th>acous</th>\n",
       "      <th>spch</th>\n",
       "    </tr>\n",
       "  </thead>\n",
       "  <tbody>\n",
       "    <tr>\n",
       "      <td>count</td>\n",
       "      <td>114.000000</td>\n",
       "      <td>114.000000</td>\n",
       "      <td>114.000000</td>\n",
       "      <td>114.000000</td>\n",
       "      <td>114.000000</td>\n",
       "      <td>114.000000</td>\n",
       "      <td>114.000000</td>\n",
       "      <td>114.000000</td>\n",
       "      <td>114.000000</td>\n",
       "      <td>114.000000</td>\n",
       "    </tr>\n",
       "    <tr>\n",
       "      <td>mean</td>\n",
       "      <td>1990.596491</td>\n",
       "      <td>122.342105</td>\n",
       "      <td>60.877193</td>\n",
       "      <td>58.921053</td>\n",
       "      <td>-8.964912</td>\n",
       "      <td>20.131579</td>\n",
       "      <td>58.368421</td>\n",
       "      <td>227.973684</td>\n",
       "      <td>31.078947</td>\n",
       "      <td>6.263158</td>\n",
       "    </tr>\n",
       "    <tr>\n",
       "      <td>std</td>\n",
       "      <td>16.545844</td>\n",
       "      <td>26.322650</td>\n",
       "      <td>22.950173</td>\n",
       "      <td>15.022782</td>\n",
       "      <td>3.957584</td>\n",
       "      <td>16.786801</td>\n",
       "      <td>24.286368</td>\n",
       "      <td>63.482345</td>\n",
       "      <td>29.963738</td>\n",
       "      <td>6.594517</td>\n",
       "    </tr>\n",
       "    <tr>\n",
       "      <td>min</td>\n",
       "      <td>1945.000000</td>\n",
       "      <td>64.000000</td>\n",
       "      <td>6.000000</td>\n",
       "      <td>26.000000</td>\n",
       "      <td>-22.000000</td>\n",
       "      <td>2.000000</td>\n",
       "      <td>11.000000</td>\n",
       "      <td>112.000000</td>\n",
       "      <td>0.000000</td>\n",
       "      <td>3.000000</td>\n",
       "    </tr>\n",
       "    <tr>\n",
       "      <td>25%</td>\n",
       "      <td>1978.250000</td>\n",
       "      <td>106.000000</td>\n",
       "      <td>44.000000</td>\n",
       "      <td>50.250000</td>\n",
       "      <td>-11.750000</td>\n",
       "      <td>10.000000</td>\n",
       "      <td>36.750000</td>\n",
       "      <td>184.250000</td>\n",
       "      <td>5.250000</td>\n",
       "      <td>3.000000</td>\n",
       "    </tr>\n",
       "    <tr>\n",
       "      <td>50%</td>\n",
       "      <td>1991.000000</td>\n",
       "      <td>120.000000</td>\n",
       "      <td>59.500000</td>\n",
       "      <td>57.500000</td>\n",
       "      <td>-8.000000</td>\n",
       "      <td>14.000000</td>\n",
       "      <td>61.500000</td>\n",
       "      <td>215.500000</td>\n",
       "      <td>19.500000</td>\n",
       "      <td>4.000000</td>\n",
       "    </tr>\n",
       "    <tr>\n",
       "      <td>75%</td>\n",
       "      <td>2005.750000</td>\n",
       "      <td>136.750000</td>\n",
       "      <td>80.000000</td>\n",
       "      <td>69.000000</td>\n",
       "      <td>-6.000000</td>\n",
       "      <td>24.000000</td>\n",
       "      <td>79.750000</td>\n",
       "      <td>264.000000</td>\n",
       "      <td>50.250000</td>\n",
       "      <td>6.000000</td>\n",
       "    </tr>\n",
       "    <tr>\n",
       "      <td>max</td>\n",
       "      <td>2019.000000</td>\n",
       "      <td>191.000000</td>\n",
       "      <td>98.000000</td>\n",
       "      <td>94.000000</td>\n",
       "      <td>-1.000000</td>\n",
       "      <td>90.000000</td>\n",
       "      <td>98.000000</td>\n",
       "      <td>444.000000</td>\n",
       "      <td>97.000000</td>\n",
       "      <td>47.000000</td>\n",
       "    </tr>\n",
       "  </tbody>\n",
       "</table>\n",
       "</div>"
      ],
      "text/plain": [
       "              year         bpm        nrgy        dnce          dB  \\\n",
       "count   114.000000  114.000000  114.000000  114.000000  114.000000   \n",
       "mean   1990.596491  122.342105   60.877193   58.921053   -8.964912   \n",
       "std      16.545844   26.322650   22.950173   15.022782    3.957584   \n",
       "min    1945.000000   64.000000    6.000000   26.000000  -22.000000   \n",
       "25%    1978.250000  106.000000   44.000000   50.250000  -11.750000   \n",
       "50%    1991.000000  120.000000   59.500000   57.500000   -8.000000   \n",
       "75%    2005.750000  136.750000   80.000000   69.000000   -6.000000   \n",
       "max    2019.000000  191.000000   98.000000   94.000000   -1.000000   \n",
       "\n",
       "             live         val         dur       acous        spch  \n",
       "count  114.000000  114.000000  114.000000  114.000000  114.000000  \n",
       "mean    20.131579   58.368421  227.973684   31.078947    6.263158  \n",
       "std     16.786801   24.286368   63.482345   29.963738    6.594517  \n",
       "min      2.000000   11.000000  112.000000    0.000000    3.000000  \n",
       "25%     10.000000   36.750000  184.250000    5.250000    3.000000  \n",
       "50%     14.000000   61.500000  215.500000   19.500000    4.000000  \n",
       "75%     24.000000   79.750000  264.000000   50.250000    6.000000  \n",
       "max     90.000000   98.000000  444.000000   97.000000   47.000000  "
      ]
     },
     "execution_count": 12,
     "metadata": {},
     "output_type": "execute_result"
    }
   ],
   "source": [
    "print('Descriptive Statistics for numerical features on Test Dataset')\n",
    "Test.describe()"
   ]
  },
  {
   "cell_type": "markdown",
   "metadata": {},
   "source": [
    "<a href='#Index'>Back to index</a>"
   ]
  },
  {
   "cell_type": "markdown",
   "metadata": {},
   "source": [
    "<a id='DataTrat'></a>\n",
    "<h2>Data Cleaning, Preprocessing and Visualization</h2>"
   ]
  },
  {
   "cell_type": "markdown",
   "metadata": {},
   "source": [
    "<div style=\"text-align: justify\">In the descriptive statistics for categorical features on the Train Dataset we realize that there are two songs with the same title. Although it has the same title, maybe the songs are different (or the artist is different), meaning they are different songs.\n",
    "A search for duplicates and missing values is performed in order to clean the data as a preprocessing step.</div>"
   ]
  },
  {
   "cell_type": "code",
   "execution_count": 13,
   "metadata": {},
   "outputs": [
    {
     "name": "stdout",
     "output_type": "stream",
     "text": [
      "Train Dataset contains Duplicated rows?  True\n",
      "Train Dataset contains Missing values?\n",
      " title         0\n",
      "artist        0\n",
      "top genre    15\n",
      "year          0\n",
      "bpm           0\n",
      "nrgy          0\n",
      "dnce          0\n",
      "dB            0\n",
      "live          0\n",
      "val           0\n",
      "dur           0\n",
      "acous         0\n",
      "spch          0\n",
      "pop           0\n",
      "dtype: int64\n",
      "Test Dataset contains Missing values? : True\n",
      "We dont check for Duplicated rows in test dataset becase we if there are, we should predict both of them\n"
     ]
    }
   ],
   "source": [
    "print('Train Dataset contains Duplicated rows? ',Train.duplicated().any())\n",
    "print('Train Dataset contains Missing values?\\n',Train.isnull().sum())\n",
    "print('Test Dataset contains Missing values? :', Test.isnull().any().any())\n",
    "print('We dont check for Duplicated rows in test dataset becase we if there are, we should predict both of them')"
   ]
  },
  {
   "cell_type": "code",
   "execution_count": 14,
   "metadata": {},
   "outputs": [
    {
     "data": {
      "text/html": [
       "<div>\n",
       "<style scoped>\n",
       "    .dataframe tbody tr th:only-of-type {\n",
       "        vertical-align: middle;\n",
       "    }\n",
       "\n",
       "    .dataframe tbody tr th {\n",
       "        vertical-align: top;\n",
       "    }\n",
       "\n",
       "    .dataframe thead th {\n",
       "        text-align: right;\n",
       "    }\n",
       "</style>\n",
       "<table border=\"1\" class=\"dataframe\">\n",
       "  <thead>\n",
       "    <tr style=\"text-align: right;\">\n",
       "      <th></th>\n",
       "      <th>title</th>\n",
       "      <th>artist</th>\n",
       "      <th>top genre</th>\n",
       "      <th>year</th>\n",
       "      <th>bpm</th>\n",
       "      <th>nrgy</th>\n",
       "      <th>dnce</th>\n",
       "      <th>dB</th>\n",
       "      <th>live</th>\n",
       "      <th>val</th>\n",
       "      <th>dur</th>\n",
       "      <th>acous</th>\n",
       "      <th>spch</th>\n",
       "      <th>pop</th>\n",
       "    </tr>\n",
       "    <tr>\n",
       "      <th>Id</th>\n",
       "      <th></th>\n",
       "      <th></th>\n",
       "      <th></th>\n",
       "      <th></th>\n",
       "      <th></th>\n",
       "      <th></th>\n",
       "      <th></th>\n",
       "      <th></th>\n",
       "      <th></th>\n",
       "      <th></th>\n",
       "      <th></th>\n",
       "      <th></th>\n",
       "      <th></th>\n",
       "      <th></th>\n",
       "    </tr>\n",
       "  </thead>\n",
       "  <tbody>\n",
       "    <tr>\n",
       "      <td>2</td>\n",
       "      <td>Unchained Melody</td>\n",
       "      <td>The Teddy Bears</td>\n",
       "      <td>NaN</td>\n",
       "      <td>2011</td>\n",
       "      <td>114</td>\n",
       "      <td>44</td>\n",
       "      <td>53</td>\n",
       "      <td>-8</td>\n",
       "      <td>13</td>\n",
       "      <td>47</td>\n",
       "      <td>139</td>\n",
       "      <td>49</td>\n",
       "      <td>3</td>\n",
       "      <td>37</td>\n",
       "    </tr>\n",
       "    <tr>\n",
       "      <td>9</td>\n",
       "      <td>Someone Elses Roses</td>\n",
       "      <td>Joan Regan</td>\n",
       "      <td>NaN</td>\n",
       "      <td>2019</td>\n",
       "      <td>100</td>\n",
       "      <td>14</td>\n",
       "      <td>29</td>\n",
       "      <td>-10</td>\n",
       "      <td>15</td>\n",
       "      <td>32</td>\n",
       "      <td>143</td>\n",
       "      <td>89</td>\n",
       "      <td>3</td>\n",
       "      <td>34</td>\n",
       "    </tr>\n",
       "    <tr>\n",
       "      <td>27</td>\n",
       "      <td>Drinks On The House</td>\n",
       "      <td>Green Martini Keys</td>\n",
       "      <td>NaN</td>\n",
       "      <td>2016</td>\n",
       "      <td>97</td>\n",
       "      <td>16</td>\n",
       "      <td>57</td>\n",
       "      <td>-16</td>\n",
       "      <td>11</td>\n",
       "      <td>15</td>\n",
       "      <td>181</td>\n",
       "      <td>100</td>\n",
       "      <td>5</td>\n",
       "      <td>28</td>\n",
       "    </tr>\n",
       "    <tr>\n",
       "      <td>73</td>\n",
       "      <td>Pachuko Hop</td>\n",
       "      <td>Ike Carpenter Orchestra</td>\n",
       "      <td>NaN</td>\n",
       "      <td>2006</td>\n",
       "      <td>83</td>\n",
       "      <td>53</td>\n",
       "      <td>48</td>\n",
       "      <td>-9</td>\n",
       "      <td>34</td>\n",
       "      <td>80</td>\n",
       "      <td>135</td>\n",
       "      <td>59</td>\n",
       "      <td>3</td>\n",
       "      <td>28</td>\n",
       "    </tr>\n",
       "    <tr>\n",
       "      <td>91</td>\n",
       "      <td>Little Things Means A Lot</td>\n",
       "      <td>Jayne Mansfield</td>\n",
       "      <td>NaN</td>\n",
       "      <td>2008</td>\n",
       "      <td>109</td>\n",
       "      <td>29</td>\n",
       "      <td>70</td>\n",
       "      <td>-15</td>\n",
       "      <td>16</td>\n",
       "      <td>63</td>\n",
       "      <td>172</td>\n",
       "      <td>36</td>\n",
       "      <td>4</td>\n",
       "      <td>29</td>\n",
       "    </tr>\n",
       "    <tr>\n",
       "      <td>99</td>\n",
       "      <td>The Lady Is A Tramp</td>\n",
       "      <td>Mel Torme &amp; the Mel-Tones</td>\n",
       "      <td>NaN</td>\n",
       "      <td>2016</td>\n",
       "      <td>138</td>\n",
       "      <td>60</td>\n",
       "      <td>41</td>\n",
       "      <td>-8</td>\n",
       "      <td>41</td>\n",
       "      <td>54</td>\n",
       "      <td>170</td>\n",
       "      <td>81</td>\n",
       "      <td>6</td>\n",
       "      <td>40</td>\n",
       "    </tr>\n",
       "    <tr>\n",
       "      <td>221</td>\n",
       "      <td>If I Give My Heart To You</td>\n",
       "      <td>The Teddy Bears</td>\n",
       "      <td>NaN</td>\n",
       "      <td>2011</td>\n",
       "      <td>113</td>\n",
       "      <td>29</td>\n",
       "      <td>49</td>\n",
       "      <td>-10</td>\n",
       "      <td>12</td>\n",
       "      <td>29</td>\n",
       "      <td>118</td>\n",
       "      <td>86</td>\n",
       "      <td>3</td>\n",
       "      <td>40</td>\n",
       "    </tr>\n",
       "    <tr>\n",
       "      <td>253</td>\n",
       "      <td>Happy Days And Lonely Nights</td>\n",
       "      <td>Suzi Miller And Johnson Brothers</td>\n",
       "      <td>NaN</td>\n",
       "      <td>2012</td>\n",
       "      <td>142</td>\n",
       "      <td>38</td>\n",
       "      <td>65</td>\n",
       "      <td>-8</td>\n",
       "      <td>13</td>\n",
       "      <td>69</td>\n",
       "      <td>146</td>\n",
       "      <td>43</td>\n",
       "      <td>3</td>\n",
       "      <td>27</td>\n",
       "    </tr>\n",
       "    <tr>\n",
       "      <td>266</td>\n",
       "      <td>Stairway Of Love</td>\n",
       "      <td>Terry Dene</td>\n",
       "      <td>NaN</td>\n",
       "      <td>2015</td>\n",
       "      <td>93</td>\n",
       "      <td>62</td>\n",
       "      <td>62</td>\n",
       "      <td>-7</td>\n",
       "      <td>25</td>\n",
       "      <td>86</td>\n",
       "      <td>120</td>\n",
       "      <td>55</td>\n",
       "      <td>4</td>\n",
       "      <td>27</td>\n",
       "    </tr>\n",
       "    <tr>\n",
       "      <td>267</td>\n",
       "      <td>You</td>\n",
       "      <td>Ten Sharp</td>\n",
       "      <td>NaN</td>\n",
       "      <td>1991</td>\n",
       "      <td>174</td>\n",
       "      <td>90</td>\n",
       "      <td>41</td>\n",
       "      <td>-8</td>\n",
       "      <td>19</td>\n",
       "      <td>67</td>\n",
       "      <td>273</td>\n",
       "      <td>43</td>\n",
       "      <td>3</td>\n",
       "      <td>61</td>\n",
       "    </tr>\n",
       "    <tr>\n",
       "      <td>315</td>\n",
       "      <td>No Other Love</td>\n",
       "      <td>Bob Sharples &amp; His Music</td>\n",
       "      <td>NaN</td>\n",
       "      <td>2014</td>\n",
       "      <td>97</td>\n",
       "      <td>31</td>\n",
       "      <td>37</td>\n",
       "      <td>-10</td>\n",
       "      <td>27</td>\n",
       "      <td>10</td>\n",
       "      <td>171</td>\n",
       "      <td>69</td>\n",
       "      <td>3</td>\n",
       "      <td>31</td>\n",
       "    </tr>\n",
       "    <tr>\n",
       "      <td>331</td>\n",
       "      <td>I've Waited So Long</td>\n",
       "      <td>Anthony Newley</td>\n",
       "      <td>NaN</td>\n",
       "      <td>2012</td>\n",
       "      <td>137</td>\n",
       "      <td>36</td>\n",
       "      <td>27</td>\n",
       "      <td>-15</td>\n",
       "      <td>25</td>\n",
       "      <td>28</td>\n",
       "      <td>165</td>\n",
       "      <td>64</td>\n",
       "      <td>4</td>\n",
       "      <td>26</td>\n",
       "    </tr>\n",
       "    <tr>\n",
       "      <td>363</td>\n",
       "      <td>Hot Diggity</td>\n",
       "      <td>Stargazers</td>\n",
       "      <td>NaN</td>\n",
       "      <td>2001</td>\n",
       "      <td>109</td>\n",
       "      <td>64</td>\n",
       "      <td>88</td>\n",
       "      <td>-9</td>\n",
       "      <td>60</td>\n",
       "      <td>96</td>\n",
       "      <td>134</td>\n",
       "      <td>61</td>\n",
       "      <td>11</td>\n",
       "      <td>31</td>\n",
       "    </tr>\n",
       "    <tr>\n",
       "      <td>381</td>\n",
       "      <td>Ain't That Just the Way</td>\n",
       "      <td>Lutricia McNeal</td>\n",
       "      <td>NaN</td>\n",
       "      <td>1996</td>\n",
       "      <td>174</td>\n",
       "      <td>65</td>\n",
       "      <td>74</td>\n",
       "      <td>-9</td>\n",
       "      <td>19</td>\n",
       "      <td>77</td>\n",
       "      <td>215</td>\n",
       "      <td>6</td>\n",
       "      <td>22</td>\n",
       "      <td>55</td>\n",
       "    </tr>\n",
       "    <tr>\n",
       "      <td>444</td>\n",
       "      <td>I Promised Myself</td>\n",
       "      <td>Nick Kamen</td>\n",
       "      <td>NaN</td>\n",
       "      <td>1990</td>\n",
       "      <td>128</td>\n",
       "      <td>80</td>\n",
       "      <td>58</td>\n",
       "      <td>-12</td>\n",
       "      <td>3</td>\n",
       "      <td>69</td>\n",
       "      <td>241</td>\n",
       "      <td>0</td>\n",
       "      <td>3</td>\n",
       "      <td>61</td>\n",
       "    </tr>\n",
       "  </tbody>\n",
       "</table>\n",
       "</div>"
      ],
      "text/plain": [
       "                            title                            artist top genre  \\\n",
       "Id                                                                              \n",
       "2                Unchained Melody                   The Teddy Bears       NaN   \n",
       "9             Someone Elses Roses                        Joan Regan       NaN   \n",
       "27            Drinks On The House                Green Martini Keys       NaN   \n",
       "73                    Pachuko Hop           Ike Carpenter Orchestra       NaN   \n",
       "91      Little Things Means A Lot                   Jayne Mansfield       NaN   \n",
       "99            The Lady Is A Tramp         Mel Torme & the Mel-Tones       NaN   \n",
       "221     If I Give My Heart To You                   The Teddy Bears       NaN   \n",
       "253  Happy Days And Lonely Nights  Suzi Miller And Johnson Brothers       NaN   \n",
       "266              Stairway Of Love                        Terry Dene       NaN   \n",
       "267                           You                         Ten Sharp       NaN   \n",
       "315                 No Other Love          Bob Sharples & His Music       NaN   \n",
       "331           I've Waited So Long                    Anthony Newley       NaN   \n",
       "363                   Hot Diggity                        Stargazers       NaN   \n",
       "381       Ain't That Just the Way                   Lutricia McNeal       NaN   \n",
       "444             I Promised Myself                        Nick Kamen       NaN   \n",
       "\n",
       "     year  bpm  nrgy  dnce  dB  live  val  dur  acous  spch  pop  \n",
       "Id                                                                \n",
       "2    2011  114    44    53  -8    13   47  139     49     3   37  \n",
       "9    2019  100    14    29 -10    15   32  143     89     3   34  \n",
       "27   2016   97    16    57 -16    11   15  181    100     5   28  \n",
       "73   2006   83    53    48  -9    34   80  135     59     3   28  \n",
       "91   2008  109    29    70 -15    16   63  172     36     4   29  \n",
       "99   2016  138    60    41  -8    41   54  170     81     6   40  \n",
       "221  2011  113    29    49 -10    12   29  118     86     3   40  \n",
       "253  2012  142    38    65  -8    13   69  146     43     3   27  \n",
       "266  2015   93    62    62  -7    25   86  120     55     4   27  \n",
       "267  1991  174    90    41  -8    19   67  273     43     3   61  \n",
       "315  2014   97    31    37 -10    27   10  171     69     3   31  \n",
       "331  2012  137    36    27 -15    25   28  165     64     4   26  \n",
       "363  2001  109    64    88  -9    60   96  134     61    11   31  \n",
       "381  1996  174    65    74  -9    19   77  215      6    22   55  \n",
       "444  1990  128    80    58 -12     3   69  241      0     3   61  "
      ]
     },
     "execution_count": 14,
     "metadata": {},
     "output_type": "execute_result"
    }
   ],
   "source": [
    "empty_train =Train[Train.isnull().any(axis=1)]#Rows with missing data\n",
    "empty_train"
   ]
  },
  {
   "cell_type": "code",
   "execution_count": 15,
   "metadata": {},
   "outputs": [
    {
     "data": {
      "text/html": [
       "<div>\n",
       "<style scoped>\n",
       "    .dataframe tbody tr th:only-of-type {\n",
       "        vertical-align: middle;\n",
       "    }\n",
       "\n",
       "    .dataframe tbody tr th {\n",
       "        vertical-align: top;\n",
       "    }\n",
       "\n",
       "    .dataframe thead th {\n",
       "        text-align: right;\n",
       "    }\n",
       "</style>\n",
       "<table border=\"1\" class=\"dataframe\">\n",
       "  <thead>\n",
       "    <tr style=\"text-align: right;\">\n",
       "      <th></th>\n",
       "      <th>title</th>\n",
       "      <th>artist</th>\n",
       "      <th>top genre</th>\n",
       "      <th>year</th>\n",
       "      <th>bpm</th>\n",
       "      <th>nrgy</th>\n",
       "      <th>dnce</th>\n",
       "      <th>dB</th>\n",
       "      <th>live</th>\n",
       "      <th>val</th>\n",
       "      <th>dur</th>\n",
       "      <th>acous</th>\n",
       "      <th>spch</th>\n",
       "    </tr>\n",
       "    <tr>\n",
       "      <th>Id</th>\n",
       "      <th></th>\n",
       "      <th></th>\n",
       "      <th></th>\n",
       "      <th></th>\n",
       "      <th></th>\n",
       "      <th></th>\n",
       "      <th></th>\n",
       "      <th></th>\n",
       "      <th></th>\n",
       "      <th></th>\n",
       "      <th></th>\n",
       "      <th></th>\n",
       "      <th></th>\n",
       "    </tr>\n",
       "  </thead>\n",
       "  <tbody>\n",
       "    <tr>\n",
       "      <td>520</td>\n",
       "      <td>We Are The World</td>\n",
       "      <td>U.S.A. For Africa</td>\n",
       "      <td>NaN</td>\n",
       "      <td>1985</td>\n",
       "      <td>73</td>\n",
       "      <td>45</td>\n",
       "      <td>53</td>\n",
       "      <td>-15</td>\n",
       "      <td>7</td>\n",
       "      <td>29</td>\n",
       "      <td>427</td>\n",
       "      <td>19</td>\n",
       "      <td>4</td>\n",
       "    </tr>\n",
       "  </tbody>\n",
       "</table>\n",
       "</div>"
      ],
      "text/plain": [
       "                title             artist top genre  year  bpm  nrgy  dnce  dB  \\\n",
       "Id                                                                              \n",
       "520  We Are The World  U.S.A. For Africa       NaN  1985   73    45    53 -15   \n",
       "\n",
       "     live  val  dur  acous  spch  \n",
       "Id                                \n",
       "520     7   29  427     19     4  "
      ]
     },
     "execution_count": 15,
     "metadata": {},
     "output_type": "execute_result"
    }
   ],
   "source": [
    "empty_data_test=Test[Test.isnull().any(axis=1)]#Rows with missing data\n",
    "empty_data_test"
   ]
  },
  {
   "cell_type": "markdown",
   "metadata": {},
   "source": [
    "<div style=\"text-align: justify\">The train dataset contains 15 rows of missing categorical data, while the test dataset contains just one row of missing data. Since the column \"top genre\" is categorical, we are left with a few options; filling it with a random genre name from the list of the genre in the dataset, ignore them or drop the missing entries. Filling 15 rows with one of the top genre names; add bias to the predicting model, while ignoring them creates problems for the learning algorithm. So we have decided to remove the missing entries(15 rows) for the train dataset and fill the test dataset with a random name.</div>"
   ]
  },
  {
   "cell_type": "code",
   "execution_count": 16,
   "metadata": {},
   "outputs": [
    {
     "data": {
      "text/html": [
       "<div>\n",
       "<style scoped>\n",
       "    .dataframe tbody tr th:only-of-type {\n",
       "        vertical-align: middle;\n",
       "    }\n",
       "\n",
       "    .dataframe tbody tr th {\n",
       "        vertical-align: top;\n",
       "    }\n",
       "\n",
       "    .dataframe thead th {\n",
       "        text-align: right;\n",
       "    }\n",
       "</style>\n",
       "<table border=\"1\" class=\"dataframe\">\n",
       "  <thead>\n",
       "    <tr style=\"text-align: right;\">\n",
       "      <th></th>\n",
       "      <th>title</th>\n",
       "      <th>artist</th>\n",
       "      <th>top genre</th>\n",
       "      <th>year</th>\n",
       "      <th>bpm</th>\n",
       "      <th>nrgy</th>\n",
       "      <th>dnce</th>\n",
       "      <th>dB</th>\n",
       "      <th>live</th>\n",
       "      <th>val</th>\n",
       "      <th>dur</th>\n",
       "      <th>acous</th>\n",
       "      <th>spch</th>\n",
       "    </tr>\n",
       "    <tr>\n",
       "      <th>Id</th>\n",
       "      <th></th>\n",
       "      <th></th>\n",
       "      <th></th>\n",
       "      <th></th>\n",
       "      <th></th>\n",
       "      <th></th>\n",
       "      <th></th>\n",
       "      <th></th>\n",
       "      <th></th>\n",
       "      <th></th>\n",
       "      <th></th>\n",
       "      <th></th>\n",
       "      <th></th>\n",
       "    </tr>\n",
       "  </thead>\n",
       "  <tbody>\n",
       "    <tr>\n",
       "      <td>520</td>\n",
       "      <td>We Are The World</td>\n",
       "      <td>U.S.A. For Africa</td>\n",
       "      <td>mygenre</td>\n",
       "      <td>1985</td>\n",
       "      <td>73</td>\n",
       "      <td>45</td>\n",
       "      <td>53</td>\n",
       "      <td>-15</td>\n",
       "      <td>7</td>\n",
       "      <td>29</td>\n",
       "      <td>427</td>\n",
       "      <td>19</td>\n",
       "      <td>4</td>\n",
       "    </tr>\n",
       "  </tbody>\n",
       "</table>\n",
       "</div>"
      ],
      "text/plain": [
       "                title             artist top genre  year bpm nrgy dnce   dB  \\\n",
       "Id                                                                            \n",
       "520  We Are The World  U.S.A. For Africa   mygenre  1985  73   45   53  -15   \n",
       "\n",
       "    live val  dur acous spch  \n",
       "Id                            \n",
       "520    7  29  427    19    4  "
      ]
     },
     "execution_count": 16,
     "metadata": {},
     "output_type": "execute_result"
    }
   ],
   "source": [
    "imputer = SimpleImputer(missing_values=np.nan,strategy='constant', fill_value='mygenre')#fill one missing cat-value with mygenre\n",
    "Test=pd.DataFrame(imputer.fit_transform(Test),columns=Test.columns,index=Test.index)\n",
    "Test[Test['top genre'] == 'mygenre']#output from the filled column"
   ]
  },
  {
   "cell_type": "code",
   "execution_count": 17,
   "metadata": {},
   "outputs": [
    {
     "data": {
      "text/plain": [
       "(437, 14)"
      ]
     },
     "execution_count": 17,
     "metadata": {},
     "output_type": "execute_result"
    }
   ],
   "source": [
    "Train.drop_duplicates(inplace = True)\n",
    "Train.dropna(inplace = True)\n",
    "Train.shape# New shape of the train dataset"
   ]
  },
  {
   "cell_type": "code",
   "execution_count": 18,
   "metadata": {},
   "outputs": [
    {
     "data": {
      "text/plain": [
       "title        436\n",
       "artist       331\n",
       "top genre     86\n",
       "year          64\n",
       "bpm          107\n",
       "nrgy          90\n",
       "dnce          76\n",
       "dB            21\n",
       "live          58\n",
       "val           94\n",
       "dur          198\n",
       "acous         94\n",
       "spch          28\n",
       "pop           56\n",
       "dtype: int64"
      ]
     },
     "execution_count": 18,
     "metadata": {},
     "output_type": "execute_result"
    }
   ],
   "source": [
    "Train.nunique()#total number of unique observations over the index axis"
   ]
  },
  {
   "cell_type": "markdown",
   "metadata": {},
   "source": [
    "<div style=\"text-align: justify\">Analyzing the data obtained from the descriptive statistics, we can note the existence of possible outliers, but we have to be aware of how dealing with them. We will visualize more data before deciding how to handle them.</div>"
   ]
  },
  {
   "cell_type": "markdown",
   "metadata": {},
   "source": [
    "### Categorical data"
   ]
  },
  {
   "cell_type": "code",
   "execution_count": 19,
   "metadata": {},
   "outputs": [
    {
     "data": {
      "text/plain": [
       "adult standards            67\n",
       "album rock                 66\n",
       "dance pop                  61\n",
       "glam rock                  16\n",
       "brill building pop         16\n",
       "                           ..\n",
       "r&b                         1\n",
       "louisiana blues             1\n",
       "hip pop                     1\n",
       "afropop                     1\n",
       "german alternative rock     1\n",
       "Name: top genre, Length: 86, dtype: int64"
      ]
     },
     "execution_count": 19,
     "metadata": {},
     "output_type": "execute_result"
    }
   ],
   "source": [
    "Train['top genre'].value_counts()#Frequency for each category"
   ]
  },
  {
   "cell_type": "code",
   "execution_count": 20,
   "metadata": {},
   "outputs": [
    {
     "data": {
      "text/plain": [
       "Please Mr. Postman                             2\n",
       "Save a Prayer - 2009 Remaster                  1\n",
       "Sad Eyes - Remastered                          1\n",
       "I Knew You Were Waiting (For Me)               1\n",
       "I Knew You Were Trouble.                       1\n",
       "                                              ..\n",
       "Puppy Love - Remix                             1\n",
       "Goodbye Yellow Brick Road - Remastered 2014    1\n",
       "Lonesome Town - 1990 Digital Remaster          1\n",
       "Telstar                                        1\n",
       "Heart Full of Soul                             1\n",
       "Name: title, Length: 436, dtype: int64"
      ]
     },
     "execution_count": 20,
     "metadata": {},
     "output_type": "execute_result"
    }
   ],
   "source": [
    "Train['title'].value_counts()#Frequency for each category"
   ]
  },
  {
   "cell_type": "code",
   "execution_count": 21,
   "metadata": {},
   "outputs": [
    {
     "data": {
      "text/plain": [
       "Elton John      9\n",
       "ABBA            7\n",
       "Queen           7\n",
       "The Beatles     6\n",
       "Rihanna         5\n",
       "               ..\n",
       "Alphaville      1\n",
       "Estelle         1\n",
       "Uriah Heep      1\n",
       "The Box Tops    1\n",
       "John Fahey      1\n",
       "Name: artist, Length: 331, dtype: int64"
      ]
     },
     "execution_count": 21,
     "metadata": {},
     "output_type": "execute_result"
    }
   ],
   "source": [
    "Train['artist'].value_counts()#Frequency for each category"
   ]
  },
  {
   "cell_type": "markdown",
   "metadata": {},
   "source": [
    "<a href='#Index'>Back to index</a>"
   ]
  },
  {
   "cell_type": "markdown",
   "metadata": {},
   "source": [
    "<h2>Data Visualization</h2>"
   ]
  },
  {
   "cell_type": "code",
   "execution_count": 22,
   "metadata": {},
   "outputs": [
    {
     "data": {
      "image/png": "[encoded data removed]",
      "text/plain": [
       "<Figure size 1440x1008 with 12 Axes>"
      ]
     },
     "metadata": {
      "needs_background": "light"
     },
     "output_type": "display_data"
    }
   ],
   "source": [
    "a = Train.hist(bins=50,figsize=(20, 14))\n",
    "del a"
   ]
  },
  {
   "cell_type": "code",
   "execution_count": 23,
   "metadata": {},
   "outputs": [
    {
     "data": {
      "image/png": "[encoded data removed]",
      "text/plain": [
       "<Figure size 1152x288 with 2 Axes>"
      ]
     },
     "metadata": {
      "needs_background": "light"
     },
     "output_type": "display_data"
    }
   ],
   "source": [
    "f, axes = plt.subplots(1,2, figsize=(16, 4), sharex=False)\n",
    "ax = sb.boxplot(Train['pop'],ax=axes[0])\n",
    "ax.set_xlabel(\"Song's Popularity\", labelpad=10, fontsize=14)\n",
    "ax.set_title('Popularity distribution within Train Dataset', fontsize=15)\n",
    "\n",
    "ax = sb.boxplot(Train['dur'],ax=axes[1])\n",
    "ax.set_xlabel(\"Song's Duration\", labelpad=10, fontsize=14)\n",
    "ax.set_title('Duration distribution within Train Dataset', fontsize=15)\n",
    "del ax"
   ]
  },
  {
   "cell_type": "code",
   "execution_count": 24,
   "metadata": {
    "scrolled": true
   },
   "outputs": [
    {
     "name": "stdout",
     "output_type": "stream",
     "text": [
      "Popularity mean: 61.56064073226545\n",
      "Popularity max value: 84\n",
      "Popularity min value: 26\n"
     ]
    }
   ],
   "source": [
    "print('Popularity mean:',Train['pop'].mean())\n",
    "print('Popularity max value:',Train['pop'].max())\n",
    "print('Popularity min value:',Train['pop'].min())"
   ]
  },
  {
   "cell_type": "markdown",
   "metadata": {},
   "source": [
    "<h3>Distribution of the song's popularity over the years</h3>"
   ]
  },
  {
   "cell_type": "code",
   "execution_count": 25,
   "metadata": {},
   "outputs": [
    {
     "data": {
      "image/png": "[encoded data removed]",
      "text/plain": [
       "<Figure size 936x432 with 1 Axes>"
      ]
     },
     "metadata": {
      "needs_background": "light"
     },
     "output_type": "display_data"
    }
   ],
   "source": [
    "plt.figure(figsize=(13, 6))#Size of barplot figure\n",
    "axes = sb.barplot(x=\"year\", y=\"pop\",data=Train)\n",
    "axes.set_title('Popularity score of songs over the years',fontsize=18)#Barplot\n",
    "axes.set_xlabel(\"Year\", labelpad=12, fontsize=14)\n",
    "plt.xticks(rotation =90 )\n",
    "del axes"
   ]
  },
  {
   "cell_type": "markdown",
   "metadata": {},
   "source": [
    "<h3>Data patterns visualization using scatterplots</h3>"
   ]
  },
  {
   "cell_type": "code",
   "execution_count": 26,
   "metadata": {},
   "outputs": [
    {
     "data": {
      "image/png": "[encoded data removed]",
      "text/plain": [
       "<Figure size 1152x432 with 2 Axes>"
      ]
     },
     "metadata": {
      "needs_background": "light"
     },
     "output_type": "display_data"
    }
   ],
   "source": [
    "f, axes = plt.subplots(1,2, figsize=(16, 6), sharex=False)\n",
    "ax =sb.scatterplot(Train['dnce'],Train['pop'],ax=axes[0])#checking for relationship between the\n",
    "ax.set_title('Relation between Popularity and Danceability features',fontsize=18)#Barplot\n",
    "ax.set_xlabel(\"Danceability\", labelpad=12, fontsize=14)\n",
    "ax.set_ylabel(\"Popularity\", labelpad=12, fontsize=14)\n",
    "\n",
    "ax =sb.scatterplot(Train['acous'],Train['pop'],ax=axes[1])#checking for relationship between the\n",
    "ax.set_title('Relation between Popularity and Acousticness features',fontsize=18)#Barplot\n",
    "ax.set_xlabel(\"Acousticness\", labelpad=12, fontsize=14)\n",
    "ax.set_ylabel(\"Popularity\", labelpad=12, fontsize=14)\n",
    "\n",
    "del ax\n"
   ]
  },
  {
   "cell_type": "code",
   "execution_count": 27,
   "metadata": {},
   "outputs": [
    {
     "data": {
      "image/png": "[encoded data removed]",
      "text/plain": [
       "<Figure size 720x432 with 1 Axes>"
      ]
     },
     "metadata": {
      "needs_background": "light"
     },
     "output_type": "display_data"
    }
   ],
   "source": [
    "plt.figure(figsize=(10,6))\n",
    "ax = sb.regplot(Train['dur'],Train['pop'])\n",
    "ax.set_title('Possible relation between Popularity and Duration features',fontsize=18)#Barplot\n",
    "ax.set_xlabel(\"Duration\", labelpad=12, fontsize=14)\n",
    "ax.set_ylabel(\"Popularity\", labelpad=12, fontsize=14)\n",
    "plt.xticks(rotation =90 )\n",
    "del ax"
   ]
  },
  {
   "cell_type": "code",
   "execution_count": 28,
   "metadata": {},
   "outputs": [
    {
     "data": {
      "image/png": "[encoded data removed]",
      "text/plain": [
       "<Figure size 1152x432 with 2 Axes>"
      ]
     },
     "metadata": {
      "needs_background": "light"
     },
     "output_type": "display_data"
    }
   ],
   "source": [
    "f, axes = plt.subplots(1,2, figsize=(16, 6), sharex=False)\n",
    "ax = sb.scatterplot(Train['dB'],Train['pop'],ax=axes[0])\n",
    "ax.set_title('Possible relation between Popularity and Loudness features',fontsize=18)#Barplot\n",
    "ax.set_xlabel(\"Loudness \", labelpad=12, fontsize=14)\n",
    "ax.set_ylabel(\"Popularity\", labelpad=12, fontsize=14)\n",
    "\n",
    "ax =sb.regplot(Train['nrgy'],Train['pop'],ax=axes[1])#checking for relationship between the\n",
    "ax.set_title('Relation between Popularity and Energy features',fontsize=18)#Barplot\n",
    "ax.set_xlabel(\"Acousticness\", labelpad=12, fontsize=14)\n",
    "ax.set_ylabel(\"Energy\", labelpad=12, fontsize=14)\n",
    "\n",
    "\n",
    "del ax\n",
    "\n"
   ]
  },
  {
   "cell_type": "markdown",
   "metadata": {},
   "source": [
    "##### In this set of graph we can observe the existence of outliers, which produce that the seaborn regplot (linear regression) does not perform as well as it should."
   ]
  },
  {
   "cell_type": "markdown",
   "metadata": {},
   "source": [
    "<h3>Features Correlation analysis</h3>"
   ]
  },
  {
   "cell_type": "code",
   "execution_count": 29,
   "metadata": {},
   "outputs": [
    {
     "data": {
      "text/html": [
       "<div>\n",
       "<style scoped>\n",
       "    .dataframe tbody tr th:only-of-type {\n",
       "        vertical-align: middle;\n",
       "    }\n",
       "\n",
       "    .dataframe tbody tr th {\n",
       "        vertical-align: top;\n",
       "    }\n",
       "\n",
       "    .dataframe thead th {\n",
       "        text-align: right;\n",
       "    }\n",
       "</style>\n",
       "<table border=\"1\" class=\"dataframe\">\n",
       "  <thead>\n",
       "    <tr style=\"text-align: right;\">\n",
       "      <th></th>\n",
       "      <th>year</th>\n",
       "      <th>bpm</th>\n",
       "      <th>nrgy</th>\n",
       "      <th>dnce</th>\n",
       "      <th>dB</th>\n",
       "      <th>live</th>\n",
       "      <th>val</th>\n",
       "      <th>dur</th>\n",
       "      <th>acous</th>\n",
       "      <th>spch</th>\n",
       "      <th>pop</th>\n",
       "    </tr>\n",
       "  </thead>\n",
       "  <tbody>\n",
       "    <tr>\n",
       "      <td>year</td>\n",
       "      <td>1.00</td>\n",
       "      <td>-0.03</td>\n",
       "      <td>0.16</td>\n",
       "      <td>0.26</td>\n",
       "      <td>0.32</td>\n",
       "      <td>-0.01</td>\n",
       "      <td>-0.01</td>\n",
       "      <td>-0.00</td>\n",
       "      <td>-0.18</td>\n",
       "      <td>0.20</td>\n",
       "      <td>0.02</td>\n",
       "    </tr>\n",
       "    <tr>\n",
       "      <td>bpm</td>\n",
       "      <td>-0.03</td>\n",
       "      <td>1.00</td>\n",
       "      <td>0.22</td>\n",
       "      <td>-0.01</td>\n",
       "      <td>0.10</td>\n",
       "      <td>0.02</td>\n",
       "      <td>0.15</td>\n",
       "      <td>0.01</td>\n",
       "      <td>-0.21</td>\n",
       "      <td>0.04</td>\n",
       "      <td>0.04</td>\n",
       "    </tr>\n",
       "    <tr>\n",
       "      <td>nrgy</td>\n",
       "      <td>0.16</td>\n",
       "      <td>0.22</td>\n",
       "      <td>1.00</td>\n",
       "      <td>0.35</td>\n",
       "      <td>0.69</td>\n",
       "      <td>0.10</td>\n",
       "      <td>0.41</td>\n",
       "      <td>0.15</td>\n",
       "      <td>-0.66</td>\n",
       "      <td>0.20</td>\n",
       "      <td>0.27</td>\n",
       "    </tr>\n",
       "    <tr>\n",
       "      <td>dnce</td>\n",
       "      <td>0.26</td>\n",
       "      <td>-0.01</td>\n",
       "      <td>0.35</td>\n",
       "      <td>1.00</td>\n",
       "      <td>0.25</td>\n",
       "      <td>-0.09</td>\n",
       "      <td>0.47</td>\n",
       "      <td>0.11</td>\n",
       "      <td>-0.39</td>\n",
       "      <td>0.23</td>\n",
       "      <td>0.26</td>\n",
       "    </tr>\n",
       "    <tr>\n",
       "      <td>dB</td>\n",
       "      <td>0.32</td>\n",
       "      <td>0.10</td>\n",
       "      <td>0.69</td>\n",
       "      <td>0.25</td>\n",
       "      <td>1.00</td>\n",
       "      <td>0.08</td>\n",
       "      <td>0.15</td>\n",
       "      <td>0.09</td>\n",
       "      <td>-0.46</td>\n",
       "      <td>0.23</td>\n",
       "      <td>0.31</td>\n",
       "    </tr>\n",
       "    <tr>\n",
       "      <td>live</td>\n",
       "      <td>-0.01</td>\n",
       "      <td>0.02</td>\n",
       "      <td>0.10</td>\n",
       "      <td>-0.09</td>\n",
       "      <td>0.08</td>\n",
       "      <td>1.00</td>\n",
       "      <td>0.06</td>\n",
       "      <td>-0.09</td>\n",
       "      <td>-0.04</td>\n",
       "      <td>0.08</td>\n",
       "      <td>-0.03</td>\n",
       "    </tr>\n",
       "    <tr>\n",
       "      <td>val</td>\n",
       "      <td>-0.01</td>\n",
       "      <td>0.15</td>\n",
       "      <td>0.41</td>\n",
       "      <td>0.47</td>\n",
       "      <td>0.15</td>\n",
       "      <td>0.06</td>\n",
       "      <td>1.00</td>\n",
       "      <td>-0.16</td>\n",
       "      <td>-0.24</td>\n",
       "      <td>0.08</td>\n",
       "      <td>-0.04</td>\n",
       "    </tr>\n",
       "    <tr>\n",
       "      <td>dur</td>\n",
       "      <td>-0.00</td>\n",
       "      <td>0.01</td>\n",
       "      <td>0.15</td>\n",
       "      <td>0.11</td>\n",
       "      <td>0.09</td>\n",
       "      <td>-0.09</td>\n",
       "      <td>-0.16</td>\n",
       "      <td>1.00</td>\n",
       "      <td>-0.26</td>\n",
       "      <td>0.10</td>\n",
       "      <td>0.32</td>\n",
       "    </tr>\n",
       "    <tr>\n",
       "      <td>acous</td>\n",
       "      <td>-0.18</td>\n",
       "      <td>-0.21</td>\n",
       "      <td>-0.66</td>\n",
       "      <td>-0.39</td>\n",
       "      <td>-0.46</td>\n",
       "      <td>-0.04</td>\n",
       "      <td>-0.24</td>\n",
       "      <td>-0.26</td>\n",
       "      <td>1.00</td>\n",
       "      <td>-0.21</td>\n",
       "      <td>-0.44</td>\n",
       "    </tr>\n",
       "    <tr>\n",
       "      <td>spch</td>\n",
       "      <td>0.20</td>\n",
       "      <td>0.04</td>\n",
       "      <td>0.20</td>\n",
       "      <td>0.23</td>\n",
       "      <td>0.23</td>\n",
       "      <td>0.08</td>\n",
       "      <td>0.08</td>\n",
       "      <td>0.10</td>\n",
       "      <td>-0.21</td>\n",
       "      <td>1.00</td>\n",
       "      <td>0.13</td>\n",
       "    </tr>\n",
       "    <tr>\n",
       "      <td>pop</td>\n",
       "      <td>0.02</td>\n",
       "      <td>0.04</td>\n",
       "      <td>0.27</td>\n",
       "      <td>0.26</td>\n",
       "      <td>0.31</td>\n",
       "      <td>-0.03</td>\n",
       "      <td>-0.04</td>\n",
       "      <td>0.32</td>\n",
       "      <td>-0.44</td>\n",
       "      <td>0.13</td>\n",
       "      <td>1.00</td>\n",
       "    </tr>\n",
       "  </tbody>\n",
       "</table>\n",
       "</div>"
      ],
      "text/plain": [
       "       year   bpm  nrgy  dnce    dB  live   val   dur  acous  spch   pop\n",
       "year   1.00 -0.03  0.16  0.26  0.32 -0.01 -0.01 -0.00  -0.18  0.20  0.02\n",
       "bpm   -0.03  1.00  0.22 -0.01  0.10  0.02  0.15  0.01  -0.21  0.04  0.04\n",
       "nrgy   0.16  0.22  1.00  0.35  0.69  0.10  0.41  0.15  -0.66  0.20  0.27\n",
       "dnce   0.26 -0.01  0.35  1.00  0.25 -0.09  0.47  0.11  -0.39  0.23  0.26\n",
       "dB     0.32  0.10  0.69  0.25  1.00  0.08  0.15  0.09  -0.46  0.23  0.31\n",
       "live  -0.01  0.02  0.10 -0.09  0.08  1.00  0.06 -0.09  -0.04  0.08 -0.03\n",
       "val   -0.01  0.15  0.41  0.47  0.15  0.06  1.00 -0.16  -0.24  0.08 -0.04\n",
       "dur   -0.00  0.01  0.15  0.11  0.09 -0.09 -0.16  1.00  -0.26  0.10  0.32\n",
       "acous -0.18 -0.21 -0.66 -0.39 -0.46 -0.04 -0.24 -0.26   1.00 -0.21 -0.44\n",
       "spch   0.20  0.04  0.20  0.23  0.23  0.08  0.08  0.10  -0.21  1.00  0.13\n",
       "pop    0.02  0.04  0.27  0.26  0.31 -0.03 -0.04  0.32  -0.44  0.13  1.00"
      ]
     },
     "execution_count": 29,
     "metadata": {},
     "output_type": "execute_result"
    },
    {
     "data": {
      "text/plain": [
       "<Figure size 720x432 with 0 Axes>"
      ]
     },
     "metadata": {},
     "output_type": "display_data"
    }
   ],
   "source": [
    "plt.figure(figsize=(10,6))#correlation coefficient only measures linear correlations\n",
    "Train.corr().round(2)"
   ]
  },
  {
   "cell_type": "code",
   "execution_count": 30,
   "metadata": {},
   "outputs": [
    {
     "data": {
      "image/png": "[encoded data removed]",
      "text/plain": [
       "<Figure size 1080x576 with 1 Axes>"
      ]
     },
     "metadata": {
      "needs_background": "light"
     },
     "output_type": "display_data"
    }
   ],
   "source": [
    "corr_matrix = Train.corr()#correlation coefficient only measures linear correlations\n",
    "fig, ax = plt.subplots(figsize=(15, 8))\n",
    "ax = smg.plot_corr(corr_matrix, xnames=Train.columns,ax=ax,normcolor=True)\n",
    "plt.xticks(rotation =90 ,fontsize=14)\n",
    "plt.yticks(fontsize=14)\n",
    "plt.show()"
   ]
  },
  {
   "cell_type": "code",
   "execution_count": 31,
   "metadata": {},
   "outputs": [
    {
     "data": {
      "text/plain": [
       "pop      1.000000\n",
       "dur      0.321239\n",
       "dB       0.312994\n",
       "nrgy     0.273986\n",
       "dnce     0.256051\n",
       "spch     0.130365\n",
       "bpm      0.042393\n",
       "year     0.019295\n",
       "live    -0.025611\n",
       "val     -0.039966\n",
       "acous   -0.444260\n",
       "Name: pop, dtype: float64"
      ]
     },
     "execution_count": 31,
     "metadata": {},
     "output_type": "execute_result"
    }
   ],
   "source": [
    "corr_matrix['pop'].sort_values(ascending=False)#correlation coefficient only measures linear relationship"
   ]
  },
  {
   "cell_type": "markdown",
   "metadata": {},
   "source": [
    "<div style=\"text-align: justify\">The correlation matrix shows the correlation coefficients, which is a measure of the strength and direction of the linear relationship between the variables.The first regression model that will be used for the prediction task is a simple Linear Regression model. The model is made of simple combinations of weighted features, and it expresses more bias than variance in its predictions. The linear model assumes that there is a linear relationship between the dependent variable(\"pop\") and the independent variables (predictors). The correlation coefficients show a very weak relationship. Few columns like **['nrgy' 'dnce' 'dB' 'dur' 'acous']** shows sign of little linear relationship.</div>"
   ]
  },
  {
   "cell_type": "code",
   "execution_count": 32,
   "metadata": {},
   "outputs": [],
   "source": [
    "data = Train.copy()# A copy of the Train dataset"
   ]
  },
  {
   "cell_type": "markdown",
   "metadata": {},
   "source": [
    "<a href='#Index'>Back to index</a>"
   ]
  },
  {
   "cell_type": "markdown",
   "metadata": {},
   "source": [
    "<h2>Data Preprocessing</h2>"
   ]
  },
  {
   "cell_type": "markdown",
   "metadata": {},
   "source": [
    "<h3> Dealing with outliers</h3>"
   ]
  },
  {
   "cell_type": "markdown",
   "metadata": {},
   "source": [
    "<div style=\"text-align: justify\">Outliers (values outside the normal range) skew data distribution. It pushes the mean in different directions. Furthermore, it increases the variance and affects correlations. Outliers disrupt linear regression because the model tries to minimize the square value of errors (residuals). Outliers have large residuals, thus forcing the algorithm to focus more on them than on regular points. From the scatter plot and boxplot, one could notice the presence of outliers, which is often the case with most datasets. The boxplot and histogram show skewness. Skewness generally affects machine learning's algorithm predictive strength, especially when the response(dependent) variable(\"pop\") is skewed. A Gaussian distribution is often ideal (the median and mean have the same values), which is seldom the case. A scatter plot gives a clearer picture of the data pattern, and it is also a handy tool when checking for correlations.</div>"
   ]
  },
  {
   "cell_type": "code",
   "execution_count": 33,
   "metadata": {},
   "outputs": [
    {
     "name": "stdout",
     "output_type": "stream",
     "text": [
      "year     30.0\n",
      "bpm      33.0\n",
      "nrgy     34.0\n",
      "dnce     21.0\n",
      "dB        5.0\n",
      "live     14.0\n",
      "val      38.0\n",
      "dur      78.0\n",
      "acous    50.0\n",
      "spch      3.0\n",
      "pop      18.0\n",
      "dtype: float64\n"
     ]
    }
   ],
   "source": [
    "Q1 = data.quantile(0.25)\n",
    "Q3 = data.quantile(0.75)\n",
    "IQR = Q3 - Q1\n",
    "print(IQR)"
   ]
  },
  {
   "cell_type": "code",
   "execution_count": 34,
   "metadata": {},
   "outputs": [
    {
     "name": "stdout",
     "output_type": "stream",
     "text": [
      "     acous  artist    bpm     dB   dnce    dur   live   nrgy    pop   spch  \\\n",
      "Id                                                                           \n",
      "1    False   False  False  False  False  False  False  False  False  False   \n",
      "3    False   False  False  False  False  False  False  False  False  False   \n",
      "4    False   False  False  False  False  False  False  False  False  False   \n",
      "5    False   False  False  False  False  False  False  False  False  False   \n",
      "6    False   False  False  False  False  False  False  False  False  False   \n",
      "..     ...     ...    ...    ...    ...    ...    ...    ...    ...    ...   \n",
      "449  False   False  False  False   True  False  False  False  False  False   \n",
      "450  False   False  False  False  False  False  False  False  False  False   \n",
      "451  False   False  False  False  False  False  False  False  False   True   \n",
      "452  False   False  False  False  False  False  False  False  False  False   \n",
      "453  False   False  False  False  False  False  False  False  False  False   \n",
      "\n",
      "     title  top genre    val   year  \n",
      "Id                                   \n",
      "1    False      False  False  False  \n",
      "3    False      False  False  False  \n",
      "4    False      False  False  False  \n",
      "5    False      False  False  False  \n",
      "6    False      False  False  False  \n",
      "..     ...        ...    ...    ...  \n",
      "449  False      False  False  False  \n",
      "450  False      False  False  False  \n",
      "451  False      False  False  False  \n",
      "452  False      False  False  False  \n",
      "453  False      False  False  False  \n",
      "\n",
      "[437 rows x 14 columns]\n"
     ]
    }
   ],
   "source": [
    "print((data < (Q1 - 1.5 * IQR)) |(data > (Q3 + 1.5 * IQR)))#True represent outlier"
   ]
  },
  {
   "cell_type": "code",
   "execution_count": 35,
   "metadata": {},
   "outputs": [
    {
     "data": {
      "text/plain": [
       "(363, 14)"
      ]
     },
     "execution_count": 35,
     "metadata": {},
     "output_type": "execute_result"
    }
   ],
   "source": [
    "dataset = data[~((data < (Q1 - 1.5 * IQR)) |(data > (Q3 + 1.5 * IQR))).any(axis=1)]#Filtering out the outliers using Quartile\n",
    "dataset.shape"
   ]
  },
  {
   "cell_type": "markdown",
   "metadata": {},
   "source": [
    "<div style=\"text-align: justify\">The data points that lie within the lower quartile and minimum, and the upper quartile and the maximum, are deemed to be rare values (outliers) that can negatively affect our results.</div>"
   ]
  },
  {
   "cell_type": "code",
   "execution_count": 36,
   "metadata": {},
   "outputs": [
    {
     "data": {
      "text/html": [
       "<div>\n",
       "<style scoped>\n",
       "    .dataframe tbody tr th:only-of-type {\n",
       "        vertical-align: middle;\n",
       "    }\n",
       "\n",
       "    .dataframe tbody tr th {\n",
       "        vertical-align: top;\n",
       "    }\n",
       "\n",
       "    .dataframe thead th {\n",
       "        text-align: right;\n",
       "    }\n",
       "</style>\n",
       "<table border=\"1\" class=\"dataframe\">\n",
       "  <thead>\n",
       "    <tr style=\"text-align: right;\">\n",
       "      <th></th>\n",
       "      <th>title</th>\n",
       "      <th>artist</th>\n",
       "      <th>top genre</th>\n",
       "      <th>year</th>\n",
       "      <th>bpm</th>\n",
       "      <th>nrgy</th>\n",
       "      <th>dnce</th>\n",
       "      <th>dB</th>\n",
       "      <th>live</th>\n",
       "      <th>val</th>\n",
       "      <th>dur</th>\n",
       "      <th>acous</th>\n",
       "      <th>spch</th>\n",
       "      <th>pop</th>\n",
       "    </tr>\n",
       "    <tr>\n",
       "      <th>Id</th>\n",
       "      <th></th>\n",
       "      <th></th>\n",
       "      <th></th>\n",
       "      <th></th>\n",
       "      <th></th>\n",
       "      <th></th>\n",
       "      <th></th>\n",
       "      <th></th>\n",
       "      <th></th>\n",
       "      <th></th>\n",
       "      <th></th>\n",
       "      <th></th>\n",
       "      <th></th>\n",
       "      <th></th>\n",
       "    </tr>\n",
       "  </thead>\n",
       "  <tbody>\n",
       "    <tr>\n",
       "      <td>1</td>\n",
       "      <td>My Happiness</td>\n",
       "      <td>Connie Francis</td>\n",
       "      <td>adult standards</td>\n",
       "      <td>1996</td>\n",
       "      <td>107</td>\n",
       "      <td>31</td>\n",
       "      <td>45</td>\n",
       "      <td>-8</td>\n",
       "      <td>13</td>\n",
       "      <td>28</td>\n",
       "      <td>150</td>\n",
       "      <td>75</td>\n",
       "      <td>3</td>\n",
       "      <td>44</td>\n",
       "    </tr>\n",
       "    <tr>\n",
       "      <td>3</td>\n",
       "      <td>How Deep Is Your Love</td>\n",
       "      <td>Bee Gees</td>\n",
       "      <td>adult standards</td>\n",
       "      <td>1979</td>\n",
       "      <td>105</td>\n",
       "      <td>36</td>\n",
       "      <td>63</td>\n",
       "      <td>-9</td>\n",
       "      <td>13</td>\n",
       "      <td>67</td>\n",
       "      <td>245</td>\n",
       "      <td>11</td>\n",
       "      <td>3</td>\n",
       "      <td>77</td>\n",
       "    </tr>\n",
       "    <tr>\n",
       "      <td>4</td>\n",
       "      <td>Woman in Love</td>\n",
       "      <td>Barbra Streisand</td>\n",
       "      <td>adult standards</td>\n",
       "      <td>1980</td>\n",
       "      <td>170</td>\n",
       "      <td>28</td>\n",
       "      <td>47</td>\n",
       "      <td>-16</td>\n",
       "      <td>13</td>\n",
       "      <td>33</td>\n",
       "      <td>232</td>\n",
       "      <td>25</td>\n",
       "      <td>3</td>\n",
       "      <td>67</td>\n",
       "    </tr>\n",
       "    <tr>\n",
       "      <td>5</td>\n",
       "      <td>Goodbye Yellow Brick Road - Remastered 2014</td>\n",
       "      <td>Elton John</td>\n",
       "      <td>glam rock</td>\n",
       "      <td>1973</td>\n",
       "      <td>121</td>\n",
       "      <td>47</td>\n",
       "      <td>56</td>\n",
       "      <td>-8</td>\n",
       "      <td>15</td>\n",
       "      <td>40</td>\n",
       "      <td>193</td>\n",
       "      <td>45</td>\n",
       "      <td>3</td>\n",
       "      <td>63</td>\n",
       "    </tr>\n",
       "    <tr>\n",
       "      <td>6</td>\n",
       "      <td>Grenade</td>\n",
       "      <td>Bruno Mars</td>\n",
       "      <td>pop</td>\n",
       "      <td>2010</td>\n",
       "      <td>110</td>\n",
       "      <td>56</td>\n",
       "      <td>71</td>\n",
       "      <td>-7</td>\n",
       "      <td>12</td>\n",
       "      <td>23</td>\n",
       "      <td>223</td>\n",
       "      <td>15</td>\n",
       "      <td>6</td>\n",
       "      <td>74</td>\n",
       "    </tr>\n",
       "  </tbody>\n",
       "</table>\n",
       "</div>"
      ],
      "text/plain": [
       "                                          title            artist  \\\n",
       "Id                                                                  \n",
       "1                                  My Happiness    Connie Francis   \n",
       "3                         How Deep Is Your Love          Bee Gees   \n",
       "4                                 Woman in Love  Barbra Streisand   \n",
       "5   Goodbye Yellow Brick Road - Remastered 2014        Elton John   \n",
       "6                                       Grenade        Bruno Mars   \n",
       "\n",
       "          top genre  year  bpm  nrgy  dnce  dB  live  val  dur  acous  spch  \\\n",
       "Id                                                                            \n",
       "1   adult standards  1996  107    31    45  -8    13   28  150     75     3   \n",
       "3   adult standards  1979  105    36    63  -9    13   67  245     11     3   \n",
       "4   adult standards  1980  170    28    47 -16    13   33  232     25     3   \n",
       "5         glam rock  1973  121    47    56  -8    15   40  193     45     3   \n",
       "6               pop  2010  110    56    71  -7    12   23  223     15     6   \n",
       "\n",
       "    pop  \n",
       "Id       \n",
       "1    44  \n",
       "3    77  \n",
       "4    67  \n",
       "5    63  \n",
       "6    74  "
      ]
     },
     "execution_count": 36,
     "metadata": {},
     "output_type": "execute_result"
    }
   ],
   "source": [
    "dataset.head()"
   ]
  },
  {
   "cell_type": "code",
   "execution_count": 37,
   "metadata": {},
   "outputs": [
    {
     "data": {
      "text/plain": [
       "Text(0.5, 1.0, \"Song's Duration Distriburion over Train Dataset\")"
      ]
     },
     "execution_count": 37,
     "metadata": {},
     "output_type": "execute_result"
    },
    {
     "data": {
      "image/png": "[encoded data removed]",
      "text/plain": [
       "<Figure size 576x288 with 1 Axes>"
      ]
     },
     "metadata": {
      "needs_background": "light"
     },
     "output_type": "display_data"
    }
   ],
   "source": [
    "f, axes = plt.subplots(figsize=(8, 4), sharex=False)\n",
    "ax = sb.boxplot(dataset['dur'])\n",
    "ax.set_xlabel(\"Song's Duration\", labelpad=10, fontsize=14)\n",
    "ax.set_title(\"Song's Duration Distriburion over Train Dataset\", fontsize=15)"
   ]
  },
  {
   "cell_type": "code",
   "execution_count": 38,
   "metadata": {
    "scrolled": false
   },
   "outputs": [
    {
     "name": "stdout",
     "output_type": "stream",
     "text": [
      "correlation matrix after removing outliers\n"
     ]
    },
    {
     "data": {
      "text/plain": [
       "pop      1.000000\n",
       "dur      0.469309\n",
       "dB       0.281700\n",
       "nrgy     0.265849\n",
       "dnce     0.228033\n",
       "bpm      0.067384\n",
       "spch     0.066017\n",
       "val     -0.058693\n",
       "year    -0.063259\n",
       "live    -0.141586\n",
       "acous   -0.419911\n",
       "Name: pop, dtype: float64"
      ]
     },
     "execution_count": 38,
     "metadata": {},
     "output_type": "execute_result"
    }
   ],
   "source": [
    "cor_matrix = dataset.corr()\n",
    "print('correlation matrix after removing outliers')\n",
    "cor_matrix['pop'].sort_values(ascending=False)#Improved correlation coefficient"
   ]
  },
  {
   "cell_type": "markdown",
   "metadata": {},
   "source": [
    "<a href='#Index'>Back to index</a>"
   ]
  },
  {
   "cell_type": "markdown",
   "metadata": {},
   "source": [
    "<a id='Implementation'></a>\n",
    "<h1>Implementation</h1>"
   ]
  },
  {
   "cell_type": "code",
   "execution_count": 39,
   "metadata": {},
   "outputs": [],
   "source": [
    "data_without_target = dataset.drop(\"pop\", axis=1)#Predictors\n",
    "data_labels = dataset[\"pop\"].copy()#Target\n",
    "numeric_col=data_without_target.drop(['top genre', 'artist','title'], axis=1)#without categorical columns and target\n",
    "X_test_reg =  Test.copy()#Test dataset\n",
    "X_test = X_test_reg.drop(['year',\"bpm\",\"spch\",\"val\",\"live\",'top genre','artist','title'],axis=1)#test dataset\n",
    "predictors = numeric_col.drop(['year',\"bpm\",\"spch\",\"val\",\"live\"],axis=1)#Selected predictors train dataset\n",
    "normalized_train=(predictors-predictors.min())/(predictors.max()- predictors.min())#Normalized Train dataset MinMax\n",
    "normalized_test=(X_test-X_test.min())/(X_test.max()- X_test.min())#Normalized Test dataset"
   ]
  },
  {
   "cell_type": "markdown",
   "metadata": {},
   "source": [
    "<div style=\"text-align: justify\">Both the train and test dataset are now normalized. Values are between the range of 0 and 1. The calculation was done manually to preserve the data frame,it is equivalent to the MinMax Scaler provided by scikit-learn. Using MinMax won't be ideal if the dataset has outliers because the values are bounded within a specific range.</div>"
   ]
  },
  {
   "cell_type": "markdown",
   "metadata": {},
   "source": [
    "<a id='Baseline'></a>\n",
    "<h2>Baseline</h2>"
   ]
  },
  {
   "cell_type": "markdown",
   "metadata": {},
   "source": [
    "<div style=\"text-align: justify\">Before thinking about creating complex Machine Learning Models, we must establish a baseline which we want to overcome.\n",
    "\n",
    "Usually this baseline is based on the performance of a simple/weak Machine Learning Model or a simple solution which allows us to compare the performance of more complex solutions.\n",
    "For the regression task, the baseline could be any weak model such as linear Regression, decision tree regressor (with small depth).</div>"
   ]
  },
  {
   "cell_type": "markdown",
   "metadata": {},
   "source": [
    "## Multiple linear regression"
   ]
  },
  {
   "cell_type": "markdown",
   "metadata": {},
   "source": [
    "<div style=\"text-align: justify\">Multiple linear regression model is an extended form of the traditional linear regression model. It can be represented mathematically by; $Y = b_0 + b_1X_1+ b_2X_2 +..+ b_kX_k + \\Theta$ where Y(popularity score) is a function of predictor variables $X_1,X_2...$.The $b_0$ represents the intercept on the Y axis, $b_1$ through $b_k$ are the estimated regression coefficients and $\\Theta$ refers to the residuals (random error term).A linear regression model is powerful when some key assumptions are met; the relationship between the independent and dependent variables are linear (linearity), no or little multicollinearity, and Homoscedasticity. We saw from the scatter plots that only a few variables showed a linear relationship; furthermore, the correlation matrix helped us to determine the strength of the linear relationship. So only the columns with high correlation coefficient will be used for our linear model. The second assumption of \"no multicollinearity between the predictor variables was met. Homosscedasticity can be checked by first creating a partial model using the ols() function from the statsmodel python module, then plot the fitted response values vs the residuals. Doing this is not an option since our emphasis is not based only on the linear regression model.</div>"
   ]
  },
  {
   "cell_type": "code",
   "execution_count": 40,
   "metadata": {},
   "outputs": [
    {
     "name": "stdout",
     "output_type": "stream",
     "text": [
      "Baseline predictions :\n",
      "[63.45212778 60.68832676 55.4408493  60.27154306 55.69868301 62.78934591\n",
      " 56.3985495  46.48044416 61.54437661 60.93146193 50.61323572 66.75752593\n",
      " 52.27024606 60.1392578  66.11873068 64.87681362 55.5101136  61.03638881\n",
      " 62.47071627 63.46203862 56.50532166 54.26264662 51.55202842 49.71801134\n",
      " 50.4281271  64.21966546 61.83036504 57.22244649 50.22522862 65.78993304\n",
      " 65.19321838 52.90579964 63.48242058 66.36243291 64.35032374 68.09211197\n",
      " 63.63469795 49.70268532 58.58148096 67.39025171 63.48024775 70.70811103\n",
      " 63.35311305 52.76916913 60.36294919 57.44807496 61.37574332 65.14239544\n",
      " 55.46917162 63.38532541 54.77780965 67.59520952 58.94335202 47.88240832\n",
      " 54.87490504 53.94545272 68.77876809 52.45722236 67.03623604 48.25833214\n",
      " 65.7477469  60.97312831 62.1172803  65.29835254 63.18777821 61.67016466\n",
      " 71.74195488 48.88244668 61.28317403 67.65168259 64.14248418 49.06972575\n",
      " 53.05864494 61.01810792 51.50037674 69.15373379 65.88263132 61.48522338\n",
      " 60.06309406 52.73651793 61.9117773  54.07449056 43.67268507 64.51459509\n",
      " 55.28150328 58.8870505  63.2186322  64.71990355 52.68822671 62.34937672\n",
      " 49.57556139 62.72612462 66.04184643 68.30092941 58.86092725 67.01793764\n",
      " 60.59162885 55.52682704 60.92714952 48.149387   59.37312175 63.33855213\n",
      " 66.08359385 46.4223657  50.68005756 70.96015421 66.68231506 59.3604356\n",
      " 53.47182557 62.8867282  62.04985365 62.78627234 66.81870928 63.78620669]\n"
     ]
    }
   ],
   "source": [
    "linear_reg = LinearRegression()\n",
    "linear_reg.fit(normalized_train,data_labels)\n",
    "pop_prediction = linear_reg.predict(normalized_test)\n",
    "print('Baseline predictions :')\n",
    "print(pop_prediction)"
   ]
  },
  {
   "cell_type": "markdown",
   "metadata": {},
   "source": [
    "### Baseline Validation"
   ]
  },
  {
   "cell_type": "code",
   "execution_count": 41,
   "metadata": {},
   "outputs": [
    {
     "name": "stdout",
     "output_type": "stream",
     "text": [
      "Baseline model performance:\n",
      "RMSE: 10.63, R2 score:0.26, SD: 1.25, Kfolds:10.\n"
     ]
    }
   ],
   "source": [
    "kfold = KFold(10)\n",
    "result = cross_val_score(linear_reg,normalized_train,data_labels, cv = kfold, scoring = \"neg_mean_squared_error\",n_jobs=-1)\n",
    "linear_reg_rmse = np.sqrt(-result)\n",
    "result = cross_val_score(linear_reg,normalized_train,data_labels, cv = kfold, scoring = \"r2\")\n",
    "print('Baseline model performance:')\n",
    "print(f'RMSE: {linear_reg_rmse.mean().round(2)}, R2 score:{result.mean().round(2)}, SD: {linear_reg_rmse.std().round(2)}, Kfolds:{len(result)}.')"
   ]
  },
  {
   "cell_type": "code",
   "execution_count": 42,
   "metadata": {},
   "outputs": [
    {
     "name": "stdout",
     "output_type": "stream",
     "text": [
      "Kaggle RMSE Score: 9.68361\n"
     ]
    }
   ],
   "source": [
    "pred_file = pd.DataFrame({\"Id\":Test.index.values, \"pop\":pop_prediction})\n",
    "pred_file=pred_file.set_index('Id')\n",
    "pred_file.to_csv('BaseLine.csv')\n",
    "print('Kaggle RMSE Score: 9.68361')"
   ]
  },
  {
   "cell_type": "markdown",
   "metadata": {},
   "source": [
    "<a href='#Index'>Back to index</a>"
   ]
  },
  {
   "cell_type": "markdown",
   "metadata": {},
   "source": [
    "<a id='Ensambled'></a>\n",
    "<h2>Final  Model Preprocessing</h2>"
   ]
  },
  {
   "cell_type": "code",
   "execution_count": 43,
   "metadata": {},
   "outputs": [],
   "source": [
    "class DataFrameSelector(BaseEstimator, TransformerMixin):# for selecting desired attributes\n",
    "    def __init__(self, attribute_names):\n",
    "        self.attribute_names = attribute_names\n",
    "    def fit(self, X, y=None):\n",
    "        return self\n",
    "    def transform(self, X):\n",
    "        return X[self.attribute_names].values#returns NumPy array"
   ]
  },
  {
   "cell_type": "code",
   "execution_count": 44,
   "metadata": {},
   "outputs": [],
   "source": [
    "num_attribs= list(numeric_col)#list of numeric attributes for the numeric columns pipeline"
   ]
  },
  {
   "cell_type": "code",
   "execution_count": 45,
   "metadata": {},
   "outputs": [],
   "source": [
    "cat_attribs = ['top genre', 'artist']#list of categorical attributes for the categorical columns pipeline"
   ]
  },
  {
   "cell_type": "code",
   "execution_count": 46,
   "metadata": {},
   "outputs": [],
   "source": [
    "attributes = num_attribs + cat_attribs"
   ]
  },
  {
   "cell_type": "code",
   "execution_count": 47,
   "metadata": {},
   "outputs": [],
   "source": [
    "num_pipeline = Pipeline([ #pipeline for numerical columns with MinMax scaler\n",
    "    ('selector', DataFrameSelector(num_attribs)),\n",
    "    ('MinMax_scaler', MinMaxScaler())])"
   ]
  },
  {
   "cell_type": "code",
   "execution_count": 48,
   "metadata": {},
   "outputs": [],
   "source": [
    "cat_pipeline = Pipeline([                   #pipeline for categorical columns with OneHotEncoding\n",
    " ('selector', DataFrameSelector(cat_attribs)),\n",
    "('One_Hot',  OneHotEncoder(sparse=False,handle_unknown = 'ignore'))])"
   ]
  },
  {
   "cell_type": "code",
   "execution_count": 49,
   "metadata": {},
   "outputs": [],
   "source": [
    "full_pipeline = FeatureUnion(transformer_list=[(\"num_pipeline\", num_pipeline),#full pipeline\n",
    "                                               (\"cat_pipeline\", cat_pipeline),])"
   ]
  },
  {
   "cell_type": "code",
   "execution_count": 50,
   "metadata": {},
   "outputs": [],
   "source": [
    "prepared_data = full_pipeline.fit_transform(data_without_target)#Transform the predictors"
   ]
  },
  {
   "cell_type": "code",
   "execution_count": 51,
   "metadata": {},
   "outputs": [
    {
     "data": {
      "text/plain": [
       "(363, 364)"
      ]
     },
     "execution_count": 51,
     "metadata": {},
     "output_type": "execute_result"
    }
   ],
   "source": [
    "prepared_data.shape#new shape of predictors"
   ]
  },
  {
   "cell_type": "code",
   "execution_count": 52,
   "metadata": {},
   "outputs": [],
   "source": [
    "X_test2 = Test.copy()"
   ]
  },
  {
   "cell_type": "code",
   "execution_count": 53,
   "metadata": {},
   "outputs": [
    {
     "data": {
      "text/plain": [
       "(114, 364)"
      ]
     },
     "execution_count": 53,
     "metadata": {},
     "output_type": "execute_result"
    }
   ],
   "source": [
    "X_test_prepared = full_pipeline.transform(X_test2)#Transformed Test dataset\n",
    "X_test_prepared.shape"
   ]
  },
  {
   "cell_type": "markdown",
   "metadata": {},
   "source": [
    "<a id='Ensambled'></a>\n",
    "<h2>Final  Model</h2>"
   ]
  },
  {
   "cell_type": "markdown",
   "metadata": {},
   "source": [
    "### Switching to more sophisticated models."
   ]
  },
  {
   "cell_type": "markdown",
   "metadata": {},
   "source": [
    "<div style=\"text-align: justify\">Since our linear model has a high level of bias because of our assumptions that the criteria for them to perform well are met, we can improve their predictive power by adding more features, thus increasing the variance of their estimates.</div>"
   ]
  },
  {
   "cell_type": "markdown",
   "metadata": {},
   "source": [
    "### Variance/Bias Trade-off:"
   ]
  },
  {
   "cell_type": "markdown",
   "metadata": {},
   "source": [
    "<div style=\"text-align: justify\">While a high level of Bias leads to underfitting, increasing the variance by adding more features leads to overfitting.\n",
    "So the next model we will use is a variant of the usual Linear regression model called the Lasso Regression (L1 Regularization). Lasso uses regularization as a form of control over the Variance/Bias trade-off. Lasso performs variable selection and shrinks less useful coefficients to zero. Grid search is used to get the best hyperparameters.</div>"
   ]
  },
  {
   "cell_type": "markdown",
   "metadata": {},
   "source": [
    "#### Lasso Linear Regression"
   ]
  },
  {
   "cell_type": "code",
   "execution_count": 54,
   "metadata": {},
   "outputs": [
    {
     "name": "stdout",
     "output_type": "stream",
     "text": [
      "Fitting 10 folds for each of 8 candidates, totalling 80 fits\n"
     ]
    },
    {
     "name": "stderr",
     "output_type": "stream",
     "text": [
      "[Parallel(n_jobs=-1)]: Using backend LokyBackend with 8 concurrent workers.\n",
      "[Parallel(n_jobs=-1)]: Done  80 out of  80 | elapsed:    0.1s finished\n"
     ]
    }
   ],
   "source": [
    "lasso_params = {'alpha':np.logspace(-2,3,8)}\n",
    "lasso_grid_search = GridSearchCV(Lasso(), param_grid=lasso_params,cv=10,scoring='neg_mean_squared_error',refit =True,verbose=1,n_jobs=-1)\n",
    "lasso_grid_search.fit(prepared_data, data_labels)\n",
    "lasso = Lasso(**lasso_grid_search.best_params_)\n",
    "lasso.fit(prepared_data, data_labels)\n",
    "pop_prediction_l = lasso.predict(X_test_prepared)"
   ]
  },
  {
   "cell_type": "markdown",
   "metadata": {},
   "source": [
    "#### KneighborsRegressor"
   ]
  },
  {
   "cell_type": "code",
   "execution_count": 55,
   "metadata": {},
   "outputs": [
    {
     "name": "stderr",
     "output_type": "stream",
     "text": [
      "[Parallel(n_jobs=1)]: Using backend SequentialBackend with 1 concurrent workers.\n"
     ]
    },
    {
     "name": "stdout",
     "output_type": "stream",
     "text": [
      "Fitting 11 folds for each of 36 candidates, totalling 396 fits\n"
     ]
    },
    {
     "name": "stderr",
     "output_type": "stream",
     "text": [
      "[Parallel(n_jobs=1)]: Done 396 out of 396 | elapsed:    6.8s finished\n"
     ]
    }
   ],
   "source": [
    "KNR_params ={'n_neighbors':np.arange(2,20,2),'weights':['uniform','distance'],'metric':['euclidean','manhattan']}\n",
    "knr_grid_search2 = GridSearchCV(KNeighborsRegressor(), param_grid=KNR_params,cv=11,scoring='neg_mean_squared_error',refit =True,verbose=1)\n",
    "knr_grid_search2.fit(prepared_data, data_labels)\n",
    "knr = KNeighborsRegressor(**knr_grid_search2.best_params_)\n",
    "knr.fit(prepared_data, data_labels)\n",
    "pop_prediction_k = knr.predict(X_test_prepared)\n"
   ]
  },
  {
   "cell_type": "markdown",
   "metadata": {},
   "source": [
    "#### Random Forest Regressor"
   ]
  },
  {
   "cell_type": "code",
   "execution_count": 56,
   "metadata": {},
   "outputs": [
    {
     "name": "stderr",
     "output_type": "stream",
     "text": [
      "[Parallel(n_jobs=1)]: Using backend SequentialBackend with 1 concurrent workers.\n"
     ]
    },
    {
     "name": "stdout",
     "output_type": "stream",
     "text": [
      "Fitting 10 folds for each of 56 candidates, totalling 560 fits\n"
     ]
    },
    {
     "name": "stderr",
     "output_type": "stream",
     "text": [
      "[Parallel(n_jobs=1)]: Done 560 out of 560 | elapsed:  2.0min finished\n"
     ]
    },
    {
     "name": "stdout",
     "output_type": "stream",
     "text": [
      "[(0.10849889489890392, 'dur'), (0.07076517962749751, 'acous'), (0.06762719960715677, 'year'), (0.06292693783110186, 'nrgy'), (0.05034854959089518, 'dnce'), (0.04845451562819616, 'dB'), (0.04655409969474325, 'bpm'), (0.04376771971954495, 'val'), (0.042570852158618326, 'live'), (0.024710647995521504, 'spch'), (0.017122894991524328, 'artist'), (0.00038320519381864474, 'top genre')]\n",
      "tuned hpyerparameters :(best parameters)  {'bootstrap': True, 'max_depth': None, 'max_features': 6, 'n_estimators': 300}\n"
     ]
    }
   ],
   "source": [
    "RFR_params = {'n_estimators': [300], 'max_features': [6, 8],'bootstrap': [True], 'max_depth': np.append(np.arange(3,30) , [None])}\n",
    "rfr_grid_search3 = GridSearchCV(RandomForestRegressor(), param_grid=RFR_params,cv=10,scoring='neg_mean_squared_error',refit =True,verbose=1)\n",
    "rfr_grid_search3.fit(prepared_data, data_labels)\n",
    "feature_importances = rfr_grid_search3.best_estimator_.feature_importances_\n",
    "print(sorted(zip(feature_importances, attributes), reverse=True))\n",
    "print(\"tuned hpyerparameters :(best parameters) \",rfr_grid_search3.best_params_)\n",
    "rfr = RandomForestRegressor(**rfr_grid_search3.best_params_)\n",
    "rfr.fit(prepared_data, data_labels)\n",
    "pop_prediction_r = rfr.predict(X_test_prepared)"
   ]
  },
  {
   "cell_type": "markdown",
   "metadata": {},
   "source": [
    "#### Support Vector Regressor Kernel trick"
   ]
  },
  {
   "cell_type": "code",
   "execution_count": 57,
   "metadata": {},
   "outputs": [
    {
     "name": "stdout",
     "output_type": "stream",
     "text": [
      "Fitting 10 folds for each of 210 candidates, totalling 2100 fits\n"
     ]
    },
    {
     "name": "stderr",
     "output_type": "stream",
     "text": [
      "[Parallel(n_jobs=-1)]: Using backend LokyBackend with 8 concurrent workers.\n",
      "[Parallel(n_jobs=-1)]: Done  52 tasks      | elapsed:    0.8s\n",
      "[Parallel(n_jobs=-1)]: Done 352 tasks      | elapsed:    5.0s\n",
      "[Parallel(n_jobs=-1)]: Done 852 tasks      | elapsed:   11.4s\n",
      "[Parallel(n_jobs=-1)]: Done 1552 tasks      | elapsed:   20.7s\n",
      "[Parallel(n_jobs=-1)]: Done 2100 out of 2100 | elapsed:   27.8s finished\n"
     ]
    }
   ],
   "source": [
    "SVR_params = [{'kernel': ['linear'],'C':np.logspace(-3,2,6),'epsilon':[0.1,0.2,0.5,1,2]},\n",
    " {'kernel':['rbf'],'C':np.logspace(-3,2,6),'gamma': np.logspace(-3,2,6),'epsilon':[0.1,0.2,0.5,1,2]}]\n",
    "\n",
    "SVR_grid_search4 = GridSearchCV(SVR(), param_grid=SVR_params,cv=10,scoring='neg_mean_squared_error',refit =True,verbose=1,n_jobs=-1)\n",
    "SVR_grid_search4.fit(prepared_data, data_labels)\n",
    "svr=SVR(**SVR_grid_search4.best_params_)\n",
    "svr.fit(prepared_data, data_labels)\n",
    "predict_svr = svr.predict(X_test_prepared)\n",
    "    "
   ]
  },
  {
   "cell_type": "markdown",
   "metadata": {},
   "source": [
    "### Ensemble Voting models"
   ]
  },
  {
   "cell_type": "code",
   "execution_count": 58,
   "metadata": {},
   "outputs": [],
   "source": [
    "myVote = VotingRegressor([('lasso', lasso), ('KNR', knr), ('RF', rfr), ('SVR', svr)])\n",
    "last_predict=myVote.fit(prepared_data, data_labels).predict(X_test_prepared)"
   ]
  },
  {
   "cell_type": "markdown",
   "metadata": {},
   "source": [
    "### Ensemble Stacking model | Linear regressor as the meta estimator"
   ]
  },
  {
   "cell_type": "code",
   "execution_count": 59,
   "metadata": {},
   "outputs": [],
   "source": [
    "estimators = [('lasso', lasso), ('KNR', knr),('SVR', svr),('rad',rfr)]\n",
    "reg = StackingRegressor(estimators=estimators,final_estimator=linear_reg,cv=10)  \n",
    "reg_final= reg.fit(prepared_data, data_labels).predict(X_test_prepared)"
   ]
  },
  {
   "cell_type": "markdown",
   "metadata": {},
   "source": [
    "<div style=\"text-align: justify\">The KNN regressor uses feature similarity to make its predictions. It works out the neighbours of observation using a distance measure (e.g. Euclidean or Manhattan). It is a good option since the variance in our dataset is proportionate (no outliers). The Random forest regressor(ensemble model) is just a bunch of decision tree regressors (it's base learner). Unlike in linear regression, this model doesn't require linearity, and it makes feature selection automatically. It uses the mean prediction of each tree. The Voting Regressor(ensemble model) and Stacking regressor(ensemble model) relies on other regressors to make their predictions. The SVR supports non-linear regression.</div>"
   ]
  },
  {
   "cell_type": "markdown",
   "metadata": {},
   "source": [
    "<a href='#Index'>Back to index</a>"
   ]
  },
  {
   "cell_type": "markdown",
   "metadata": {},
   "source": [
    "<a id='EnsVal'></a>\n",
    "<h2>Final Model Validation</h2>"
   ]
  },
  {
   "cell_type": "markdown",
   "metadata": {},
   "source": [
    "### Function created to perform cross validations"
   ]
  },
  {
   "cell_type": "code",
   "execution_count": 60,
   "metadata": {},
   "outputs": [],
   "source": [
    "def Custom_cross_validation(Number_of_Folds,X,Y,Score,Model):\n",
    "    model = clone(Model)\n",
    "    kFolds=KFold(Number_of_Folds)\n",
    "    Y2=Y.values\n",
    "    kFolds.get_n_splits(X,Y2)\n",
    "    score=0\n",
    "    \n",
    "    for train_index, test_index in kFolds.split(X,Y2):\n",
    "        X_train, X_test = X[train_index], X[test_index]\n",
    "        y_train, y_test = Y2[train_index], Y2[test_index]\n",
    "        model.fit(X_train,y_train)\n",
    "        pred = model.predict(X_test)\n",
    "        if Score == 'mean_squared_error':\n",
    "            score = score + mean_squared_error(y_test,pred)\n",
    "        elif Score == 'mean_absolute_error':\n",
    "            score = score + mean_absolute_error(y_test,pred)\n",
    "        elif Score == 'r2_score':\n",
    "            score = score + r2_score(y_test,pred)\n",
    "        elif Score == 'root_mean_squared_error':\n",
    "            score = score + np.sqrt(mean_squared_error(y_test,np.absolute(pred)))\n",
    "    score = score/Number_of_Folds\n",
    "    return score"
   ]
  },
  {
   "cell_type": "markdown",
   "metadata": {},
   "source": [
    "### Function created to perform cross validations fo multiples Models"
   ]
  },
  {
   "cell_type": "code",
   "execution_count": 61,
   "metadata": {},
   "outputs": [],
   "source": [
    "def CrossValidation_to_dataframe(list_of_model,list_of_model_names,X,Y,Number_of_Folds):\n",
    "    scores_name=['mean_squared_error','mean_absolute_error','r2_score','root_mean_squared_error']\n",
    "    df = pd.DataFrame(columns=['Model','mean_squared_error','mean_absolute_error','r2_score','root_mean_squared_error'])\n",
    "    for i in range(len(list_of_model)):\n",
    "        scores=[list_of_model_names[i]]\n",
    "        for j in scores_name:\n",
    "            score_aux=0\n",
    "            score_aux =Custom_cross_validation(Number_of_Folds,X,Y,j,list_of_model[i])\n",
    "            scores.append(score_aux)\n",
    "        df.loc[len(df)] = scores\n",
    "    df.set_index('Model',inplace=True)\n",
    "    return df"
   ]
  },
  {
   "cell_type": "code",
   "execution_count": 62,
   "metadata": {},
   "outputs": [
    {
     "data": {
      "text/html": [
       "<div>\n",
       "<style scoped>\n",
       "    .dataframe tbody tr th:only-of-type {\n",
       "        vertical-align: middle;\n",
       "    }\n",
       "\n",
       "    .dataframe tbody tr th {\n",
       "        vertical-align: top;\n",
       "    }\n",
       "\n",
       "    .dataframe thead th {\n",
       "        text-align: right;\n",
       "    }\n",
       "</style>\n",
       "<table border=\"1\" class=\"dataframe\">\n",
       "  <thead>\n",
       "    <tr style=\"text-align: right;\">\n",
       "      <th></th>\n",
       "      <th>mean_squared_error</th>\n",
       "      <th>mean_absolute_error</th>\n",
       "      <th>r2_score</th>\n",
       "      <th>root_mean_squared_error</th>\n",
       "    </tr>\n",
       "    <tr>\n",
       "      <th>Model</th>\n",
       "      <th></th>\n",
       "      <th></th>\n",
       "      <th></th>\n",
       "      <th></th>\n",
       "    </tr>\n",
       "  </thead>\n",
       "  <tbody>\n",
       "    <tr>\n",
       "      <td>Lasso Regression</td>\n",
       "      <td>104.438430</td>\n",
       "      <td>8.208774</td>\n",
       "      <td>0.324963</td>\n",
       "      <td>10.146070</td>\n",
       "    </tr>\n",
       "    <tr>\n",
       "      <td>KNeighborsRegressor</td>\n",
       "      <td>96.582253</td>\n",
       "      <td>7.889515</td>\n",
       "      <td>0.375834</td>\n",
       "      <td>9.754047</td>\n",
       "    </tr>\n",
       "    <tr>\n",
       "      <td>RandomForestRegressor</td>\n",
       "      <td>101.497259</td>\n",
       "      <td>8.180818</td>\n",
       "      <td>0.351149</td>\n",
       "      <td>10.026671</td>\n",
       "    </tr>\n",
       "    <tr>\n",
       "      <td>Support Vector Machine - Regression</td>\n",
       "      <td>101.949776</td>\n",
       "      <td>8.145974</td>\n",
       "      <td>0.333487</td>\n",
       "      <td>10.042610</td>\n",
       "    </tr>\n",
       "    <tr>\n",
       "      <td>VotingRegressor</td>\n",
       "      <td>95.199045</td>\n",
       "      <td>7.874304</td>\n",
       "      <td>0.386233</td>\n",
       "      <td>9.709873</td>\n",
       "    </tr>\n",
       "    <tr>\n",
       "      <td>StackingRegressor</td>\n",
       "      <td>95.338850</td>\n",
       "      <td>7.795153</td>\n",
       "      <td>0.377762</td>\n",
       "      <td>9.719725</td>\n",
       "    </tr>\n",
       "  </tbody>\n",
       "</table>\n",
       "</div>"
      ],
      "text/plain": [
       "                                     mean_squared_error  mean_absolute_error  \\\n",
       "Model                                                                          \n",
       "Lasso Regression                             104.438430             8.208774   \n",
       "KNeighborsRegressor                           96.582253             7.889515   \n",
       "RandomForestRegressor                        101.497259             8.180818   \n",
       "Support Vector Machine - Regression          101.949776             8.145974   \n",
       "VotingRegressor                               95.199045             7.874304   \n",
       "StackingRegressor                             95.338850             7.795153   \n",
       "\n",
       "                                     r2_score  root_mean_squared_error  \n",
       "Model                                                                   \n",
       "Lasso Regression                     0.324963                10.146070  \n",
       "KNeighborsRegressor                  0.375834                 9.754047  \n",
       "RandomForestRegressor                0.351149                10.026671  \n",
       "Support Vector Machine - Regression  0.333487                10.042610  \n",
       "VotingRegressor                      0.386233                 9.709873  \n",
       "StackingRegressor                    0.377762                 9.719725  "
      ]
     },
     "execution_count": 62,
     "metadata": {},
     "output_type": "execute_result"
    }
   ],
   "source": [
    "CrossValidation_to_dataframe([lasso,knr,rfr,svr,myVote,reg],['Lasso Regression','KNeighborsRegressor','RandomForestRegressor','Support Vector Machine - Regression','VotingRegressor','StackingRegressor'],prepared_data, data_labels,10)"
   ]
  },
  {
   "cell_type": "markdown",
   "metadata": {},
   "source": [
    "<a href='#Index'>Back to index</a>"
   ]
  },
  {
   "cell_type": "markdown",
   "metadata": {},
   "source": [
    "<a id='Prediction'></a>\n",
    "<h1>Model Predictions</h1>"
   ]
  },
  {
   "cell_type": "code",
   "execution_count": 68,
   "metadata": {},
   "outputs": [
    {
     "name": "stdout",
     "output_type": "stream",
     "text": [
      "Final Predictions:  [69.14248302 70.54029681 69.05660822 63.31876029 53.74814133 60.96993172\n",
      " 61.84937766 50.79203084 67.22174075 65.00054501 41.91800343 69.88381448\n",
      " 54.43518636 62.07445153 63.09952239 64.81488314 71.37725176 64.10252694\n",
      " 68.68064359 69.98296725 64.03169206 53.33168617 72.         53.57992482\n",
      " 49.58834238 70.74081826 63.5836971  55.45156539 42.32375795 71.17410607\n",
      " 71.06540145 52.02597703 69.40962216 71.13185235 59.67925783 72.90221583\n",
      " 69.16911092 56.26880939 62.59815769 66.56061625 66.62501449 64.88446035\n",
      " 65.71766685 42.75682553 69.78206312 43.68434205 68.85146113 68.1914692\n",
      " 56.25016218 67.6663647  52.10710137 71.00470322 69.39957514 53.09909908\n",
      " 63.12033382 62.19580987 68.36971316 54.52311574 71.04844291 55.37230516\n",
      " 60.91132963 67.         66.07107834 61.21055053 70.2292782  65.18055979\n",
      " 69.71022969 56.95896586 65.31474229 63.43360939 68.96168587 46.78501691\n",
      " 58.19378591 65.44251185 60.54813772 70.27188723 65.02560412 65.03710666\n",
      " 72.16029976 54.27187499 66.18308109 68.23243931 55.36118011 70.52656045\n",
      " 53.40179635 60.17181288 64.14793113 60.72648431 46.77002689 67.21900634\n",
      " 48.3903514  68.09291985 70.05586871 66.94031217 68.75588661 69.58964855\n",
      " 59.90398752 59.70032448 66.44436737 51.89288526 65.94161773 65.12867111\n",
      " 62.46309277 50.24406217 37.95771109 65.94489664 64.10612157 63.51541285\n",
      " 67.35251584 70.31394084 64.63724888 71.4432973  63.11067832 72.21599294]\n"
     ]
    }
   ],
   "source": [
    "pred_file = pd.DataFrame({\"Id\":Test.index.values, \"pop\":pop_prediction_k})\n",
    "pred_file=pred_file.set_index('Id')\n",
    "pred_file.to_csv('groupM.csv')\n",
    "print('Final Predictions: ', pop_prediction_k)"
   ]
  },
  {
   "cell_type": "markdown",
   "metadata": {},
   "source": [
    "<a id='Conclusion'></a>\n",
    "<h1>Reflections and Conclusion</h1>"
   ]
  },
  {
   "cell_type": "markdown",
   "metadata": {},
   "source": [
    "<div style=\"text-align: justify\">The correlation analysis showed a weak linear relationship between the response and predictor variables; therefore, linear regression was the worst in terms of performance. Furthermore, the linear model can not grasp a non-linear relationship. The lasso regression improved by some margins when compared to its linear counterpart. The KNN regressor performed beyond expectation. The Random forest regressor and SVR have similar results. The stacked regressor results are influenced not only by choice of the base learners but by the meta learner. The voting regressor just returns the average predictions of other regressors. The predictions made by the KNN regressor gave a score of 7.07 in Kaggle which is similar to the evaluation score from the cross-validation, also the Stacking regressor gave a score of 7.1 in Kaggle.\n",
    "</div>"
   ]
  },
  {
   "cell_type": "markdown",
   "metadata": {},
   "source": [
    "<a href='#Index'>Back to index</a>"
   ]
  },
  {
   "cell_type": "markdown",
   "metadata": {},
   "source": [
    "<a id='PromModel'></a>\n",
    "<h1>Promising Models And Techniques Which Failed</h1>\n",
    "\n",
    "        "
   ]
  },
  {
   "cell_type": "markdown",
   "metadata": {},
   "source": [
    "Many techniques, models and configurations were generated in order to achieve a better performance. Among these were some that we strongly considered that they could have helped with the task, but in the end this was not the case."
   ]
  },
  {
   "cell_type": "markdown",
   "metadata": {},
   "source": [
    "<a id='Adaboosting'></a>\n",
    "## Adaboosting and Voting"
   ]
  },
  {
   "cell_type": "markdown",
   "metadata": {},
   "source": [
    "<div style=\"text-align: justify\">1) To reduce the bias of our models, we try to add differents adaptive boosting models configured with different base estimators and hyper-parameters. One approach was including each of them in the final ensemble model but it drastically failed. We thought about creating two adaptive boosting models with the same base estimator but with different hyper-parameters (one selected to obtain the lowest RMSE and the other selected to obtain the lowest MAE). \n",
    "Although the last approach should have produced a positive impact on our final model, the RMSE score over the cross-validation increased by 0.5.</div>"
   ]
  },
  {
   "cell_type": "code",
   "execution_count": 64,
   "metadata": {},
   "outputs": [],
   "source": [
    "#ModelXbagginDTR80T = BaggingRegressor(DecisionTreeRegressor(max_depth=80),bootstrap=True, n_estimators=400)\n",
    "#ModelXbagginDTR80F = BaggingRegressor(DecisionTreeRegressor(max_depth=80),bootstrap=False, n_estimators=400)\n",
    "#ModelXbagginDTR1T = BaggingRegressor(DecisionTreeRegressor(),bootstrap=True, n_estimators=400)\n",
    "#ModelXbagginDTR1F = BaggingRegressor(DecisionTreeRegressor(),bootstrap=False, n_estimators=400)\n",
    "\n",
    "#kfold = KFold(5)\n",
    "#scores80T = cross_validate(ModelXbagginDTR80T,ScaledX,Y, cv=kfold,scoring='neg_mean_squared_error')\n",
    "#print('MSE bagginknr80T: ',np.sqrt(-scores80T['test_score']).mean())\n",
    "#scores80F = cross_validate(ModelXbagginDTR80F,ScaledX,Y, cv=kfold,scoring='neg_mean_squared_error')\n",
    "#print('MSE bagginknr80F: ',np.sqrt(-scores80F['test_score']).mean())\n",
    "#scores1T = cross_validate(ModelXbagginDTR1T,ScaledX,Y, cv=kfold,scoring='neg_mean_squared_error')\n",
    "#print('MSE bagginknr1T: ',np.sqrt(-scores1T['test_score']).mean())\n",
    "#scores1F = cross_validate(ModelXbagginDTR1F,ScaledX,Y, cv=kfold,scoring='neg_mean_squared_error')\n",
    "#print('MSE bagginknr1F: ',np.sqrt(-scores1F['test_score']).mean())\n",
    "##\n",
    "#DTBagginVoterBT = VotingRegressor(estimators=[('b1',ModelXbagginDTR1T),('b2', ModelXbagginDTR80T)],\n",
    "#                    weights=[(-1/(-scores1T['test_score']).mean()),(-1/(-scores80T['test_score']).mean())])#\n",
    "#\n",
    "#DTBagginVoterBF = VotingRegressor(estimators=[('b1', ModelXbagginDTR1F),('b2', ModelXbagginDTR80F)],\n",
    "#                    weights=[(-1/(-scores1F['test_score']).mean()),(-1/(-scores80F['test_score']).mean())])##\n",
    "\n",
    "#DTBagginVoterBT.fit(ScaledX,Y)\n",
    "#DTBagginVoter_pred_BT = DTBagginVoterBT.predict(ScaledX_T)\n",
    "#DTBagginVoterBF.fit(ScaledX,Y)\n",
    "#DTBagginVoter_pred_BF = DTBagginVoterBF.predict(ScaledX_T)"
   ]
  },
  {
   "cell_type": "markdown",
   "metadata": {},
   "source": [
    "<a href='#Index'>Back to index</a>"
   ]
  },
  {
   "cell_type": "markdown",
   "metadata": {},
   "source": [
    "<a id='AdaboostingBaggingModel'></a>\n",
    "## Adaboosting Bagging Model"
   ]
  },
  {
   "cell_type": "markdown",
   "metadata": {},
   "source": [
    "<div style=\"text-align: justify\">2)This model is based on the idea that the combination of the boosting technique with the bagging technique could produce a strong ensemble model which contains a lower bias, variance and with better performance</div>\n",
    " "
   ]
  },
  {
   "cell_type": "code",
   "execution_count": 65,
   "metadata": {},
   "outputs": [],
   "source": [
    "#AdaBoostWeakDTR = AdaBoostRegressor(base_estimator =  BaggingRegressor(DecisionTreeRegressor(max_depth=80),bootstrap=True, n_estimators=400), n_estimators=1000,loss='exponential',learning_rate=1)\n",
    "#AdaBoostWeakDTR.fit(ScaledX,Y)\n",
    "#AdaBoostWeakDTR_pred = AdaBoostWeakDTR.predict(ScaledX_T)"
   ]
  },
  {
   "cell_type": "markdown",
   "metadata": {},
   "source": [
    "<a href='#Index'>Back to index</a>"
   ]
  },
  {
   "cell_type": "code",
   "execution_count": null,
   "metadata": {},
   "outputs": [],
   "source": []
  }
 ],
 "metadata": {
  "kernelspec": {
   "display_name": "Python 3",
   "language": "python",
   "name": "python3"
  },
  "language_info": {
   "codemirror_mode": {
    "name": "ipython",
    "version": 3
   },
   "file_extension": ".py",
   "mimetype": "text/x-python",
   "name": "python",
   "nbconvert_exporter": "python",
   "pygments_lexer": "ipython3",
   "version": "3.7.4"
  }
 },
 "nbformat": 4,
 "nbformat_minor": 2
}
